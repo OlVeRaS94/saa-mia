{
 "cells": [
  {
   "cell_type": "markdown",
   "id": "9ba4bcdcc5581640",
   "metadata": {
    "id": "9ba4bcdcc5581640"
   },
   "source": [
    "# Lesions de genoll\n"
   ]
  },
  {
   "cell_type": "markdown",
   "id": "d0cbeb810ac114ad",
   "metadata": {
    "id": "d0cbeb810ac114ad"
   },
   "source": [
    "Les lesions de genoll són molt comunes en esports com el futbol, el bàsquet o l'esquí. Aquestes lesions poden ser de diferents tipus, però les més comunes són les lesions del lligament creuat anterior (LCA) i del menisc.\n",
    "\n",
    "Moltes vegades els sintomes d'aquestes lesions són similars, però el tractament és diferent. Per això, és important saber quina és la lesió que pateix el pacient per poder aplicar el tractament adequat i no empitjorar la lesió.\n",
    "\n",
    "Crearem un sistema expert amb `experta` per ajudar a entrenadors i metges no especialitzats a diagnosticar les lesions de genoll, utilitzant les dades de pacients que han estat diagnosticats per un metge especialitzat.\n",
    "\n",
    "Aquest sistema està basat en el treball [An Expert System for Knee Problems Diagnosis](https://www.researchgate.net/publication/354150948_An_Expert_System_for_Knee_Problems_Diagnosis/link/6127bc8338818c2eaf62917b/download?_tp=eyJjb250ZXh0Ijp7ImZpcnN0UGFnZSI6InB1YmxpY2F0aW9uIiwicGFnZSI6InB1YmxpY2F0aW9uIn19) de [Lamis F Samhan](https://www.researchgate.net/profile/Lamis-Samhan?_tp=eyJjb250ZXh0Ijp7ImZpcnN0UGFnZSI6InB1YmxpY2F0aW9uIiwicGFnZSI6InB1YmxpY2F0aW9uIn19) i [Samy S. Abu-Naser](https://www.researchgate.net/profile/Samy-Abu-Naser?_tp=eyJjb250ZXh0Ijp7ImZpcnN0UGFnZSI6InB1YmxpY2F0aW9uIiwicGFnZSI6InB1YmxpY2F0aW9uIn19)."
   ]
  },
  {
   "cell_type": "markdown",
   "id": "8d54d73218e27f40",
   "metadata": {
    "id": "8d54d73218e27f40"
   },
   "source": [
    "## Fets\n",
    "\n",
    "Per arribar a una conclusió sobre la lesió que pateix el pacient, el metge especialitzat en sistema expert ha de tindre en compte diferents símptomes. Aquests símptomes són els següents:\n",
    "\n",
    "- `colp` (s1): El dolor o la inflamació del genoll va començar després d'una caiguda, una lesió per gir o després que el genoll fos colpejat per un objecte o una persona.\n",
    "- `deformacio` (s2): El genoll està deformat.\n",
    "- `rotula inflamada` (s3): La rotula està inflamada, tendra i calenta i hi ha dolor en l'activitat.\n",
    "- `genoll inflamat` (s4): El genoll està inflamat, tendre i calent i hi ha dolor després d'estar assegut durant un temps o després de pujar i baixar escales.\n",
    "- `dolor posterior` (s5): Hi ha un dolor afilat en la part posterior del genoll i és dolorós quan s'estira la cama.\n",
    "- `crepitacions` (s6): Hi ha crepitacions en el genoll o es bloqueja el genoll encara que millore el dolor.\n",
    "- `roig` (s7): El genoll està roig i/o inflamat.\n",
    "- `febra` (s8): Hi ha febra associada al genoll inflamat/roig.\n",
    "- `temps` (s9): El genoll s'ha anat afeblint amb el temps i el dolor empitjora amb els canvis de temps.\n",
    "- `inflacio_darrera` (s10): El genoll està inflamat o tendre per darrera\n",
    "- `jove_baix_rotula` (s11): El pacient té entre 12 i 18 anys i presenta dolor en la part anterior del genoll que empitjora amb l'activitat.\n",
    "- `jove_genoll` (s12): El pacient té menys de 18 anys i presenta dolor al genoll.\n",
    "\n",
    "Segons les diferents combinacions de símptomes, el sistema expert ha de ser capaç de diagnosticar la lesió que pateix el pacient. Les lesions que pot diagnosticar el sistema expert són les següents:\n",
    "\n",
    "- Si el pacient té `colp`:\n",
    "    - Si també té `deformacio`, el sistema expert ha de diagnosticar que el pacient pot tindre una `fractura` o un `lligament trencat`\n",
    "    - Si també té `rotula inflamada`, el sistema expert ha de diagnosticar que el pacient pot tindre una `fractura rotula`.\n",
    "    - Si també té `genoll inflamat`, el sistema expert ha de diagnosticar que el pacient pot tindre un `lligament trencat` o el `menisc trencat`.\n",
    "    - Si també té `dolor posterior`, el sistema expert ha de diagnosticar que el\n",
    "     pacient pot tindre `múscul isquiotibial trencat`.\n",
    "    - Si també té `crepitacions`, el sistema expert ha de diagnosticar que el pacient pot tindre `menisc trencat`.\n",
    "\n",
    "- Si té `roig` i té `febra`, el sistema expert ha de diagnosticar que el pacient pot tindre una `artritis reumatoide`.\n",
    "\n",
    "- Si té `temps`: El sistema expert ha de diagnosticar que el pacient pot tindre `osteo artritis`.\n",
    "- Si té `inflacio_darrera`: El sistema expert ha de diagnosticar que el pacient pot tindre `quist de Baker`.\n",
    "- Si té `jove_baix_rotula`: El sistema expert ha de diagnosticar que el pacient pot tindre `sindrome de Osgood-Schlatter`.\n",
    "- Si té `jove_genoll`: El sistema expert ha de diagnosticar que el pacient pot tindre `dolor de creixement`."
   ]
  },
  {
   "cell_type": "markdown",
   "id": "3414dfa1d8e9c879",
   "metadata": {
    "id": "3414dfa1d8e9c879"
   },
   "source": [
    "Comecem instal·lant i important la llibreria `experta` i creant el sistema expert."
   ]
  },
  {
   "cell_type": "code",
   "execution_count": 1,
   "id": "2b830053f4963509",
   "metadata": {
    "ExecuteTime": {
     "end_time": "2024-01-08T22:21:48.300365Z",
     "start_time": "2024-01-08T22:21:39.790696Z"
    },
    "colab": {
     "base_uri": "https://localhost:8080/"
    },
    "executionInfo": {
     "elapsed": 11686,
     "status": "ok",
     "timestamp": 1737476662934,
     "user": {
      "displayName": "Sebastian Ciscar Breitzler",
      "userId": "02561941394994713666"
     },
     "user_tz": -60
    },
    "id": "2b830053f4963509",
    "outputId": "55e104d5-6f98-482c-c30f-ab0a827c8a7a"
   },
   "outputs": [
    {
     "name": "stdout",
     "output_type": "stream",
     "text": [
      "Collecting git+https://github.com/openmotics/om-experta.git\n",
      "  Cloning https://github.com/openmotics/om-experta.git to /tmp/pip-req-build-rplt_uyg\n",
      "  Running command git clone --filter=blob:none --quiet https://github.com/openmotics/om-experta.git /tmp/pip-req-build-rplt_uyg\n",
      "  Resolved https://github.com/openmotics/om-experta.git to commit d35d53708a46482e1ee4e3a4bc1a36bc03492913\n",
      "  Preparing metadata (setup.py) ... \u001b[?25l\u001b[?25hdone\n",
      "Collecting frozendict==2.3.8 (from om-experta==1.9.8)\n",
      "  Downloading frozendict-2.3.8-py311-none-any.whl.metadata (20 kB)\n",
      "Collecting schema==0.6.7 (from om-experta==1.9.8)\n",
      "  Downloading schema-0.6.7-py2.py3-none-any.whl.metadata (14 kB)\n",
      "Downloading frozendict-2.3.8-py311-none-any.whl (14 kB)\n",
      "Downloading schema-0.6.7-py2.py3-none-any.whl (14 kB)\n",
      "Building wheels for collected packages: om-experta\n",
      "  Building wheel for om-experta (setup.py) ... \u001b[?25l\u001b[?25hdone\n",
      "  Created wheel for om-experta: filename=om_experta-1.9.8-py3-none-any.whl size=35883 sha256=f77034bec9a9ffc0224edf5d4a71e2a3f6376a7eb7eaa0468d1df5ab8ce04873\n",
      "  Stored in directory: /tmp/pip-ephem-wheel-cache-pini6qek/wheels/0f/0d/c3/1438a0d8eef8f10e98a0df42dd1b2394229b633784e9a734f9\n",
      "Successfully built om-experta\n",
      "Installing collected packages: schema, frozendict, om-experta\n",
      "  Attempting uninstall: frozendict\n",
      "    Found existing installation: frozendict 2.4.6\n",
      "    Uninstalling frozendict-2.4.6:\n",
      "      Successfully uninstalled frozendict-2.4.6\n",
      "Successfully installed frozendict-2.3.8 om-experta-1.9.8 schema-0.6.7\n"
     ]
    }
   ],
   "source": [
    "!pip install git+https://github.com/openmotics/om-experta.git"
   ]
  },
  {
   "cell_type": "code",
   "execution_count": 2,
   "id": "f8f4772fbf3619f4",
   "metadata": {
    "ExecuteTime": {
     "end_time": "2024-01-08T22:21:48.322844Z",
     "start_time": "2024-01-08T22:21:48.317080Z"
    },
    "executionInfo": {
     "elapsed": 257,
     "status": "ok",
     "timestamp": 1737476664795,
     "user": {
      "displayName": "Sebastian Ciscar Breitzler",
      "userId": "02561941394994713666"
     },
     "user_tz": -60
    },
    "id": "f8f4772fbf3619f4"
   },
   "outputs": [],
   "source": [
    "from experta import *\n"
   ]
  },
  {
   "cell_type": "markdown",
   "id": "27b9d955f6d535ce",
   "metadata": {
    "id": "27b9d955f6d535ce"
   },
   "source": [
    "## Testeig del sistema expert\n",
    "\n",
    "Per testejar el sistema expert, farem una serie de proves amb diferents combinacions de símptomes i comprovarem que el sistema expert diagnostica correctament la lesió que pateix el pacient.\n",
    "\n",
    "Anem a fer 5 proves amb diferents combinacions de símptomes i comprovarem que el sistema expert diagnostica correctament la lesió que pateix el pacient.\n",
    "\n",
    "LEs proves que farem són les següents:\n",
    "\n",
    "- Prova 1: Pacient amb `colp` i `deformacio`. El sistema expert ha de diagnosticar que el pacient pot tindre una `fractura`.\n",
    "- Prova 2: Pacient amb `colp` i `genoll inflamat`. El sistema expert ha de diagnosticar que el pacient pot tindre un `lligament trencat` o un `menisc trencat`.\n",
    "- Prova 3: Pacient amb `roit` i `febra`. El sistema expert ha de diagnosticar que el pacient pot tindre una `artritis reumatoide`.\n",
    "- Prova 4: Pacient amb `temps`. El sistema expert ha de diagnosticar que el pacient pot tindre `osteo artritis`.\n",
    "- Prova 5: Pacient amb `inflacio_darrera`. El sistema expert ha de diagnosticar que el pacient pot tindre `quist de Baker`."
   ]
  },
  {
   "cell_type": "code",
   "execution_count": 20,
   "id": "21d4191617e7b605",
   "metadata": {
    "ExecuteTime": {
     "end_time": "2024-01-08T22:21:48.367737Z",
     "start_time": "2024-01-08T22:21:48.345408Z"
    },
    "colab": {
     "base_uri": "https://localhost:8080/"
    },
    "executionInfo": {
     "elapsed": 366,
     "status": "ok",
     "timestamp": 1737478411307,
     "user": {
      "displayName": "Sebastian Ciscar Breitzler",
      "userId": "02561941394994713666"
     },
     "user_tz": -60
    },
    "id": "21d4191617e7b605",
    "outputId": "847f89a3-8aed-4cae-83e7-d7d1196f1b1f"
   },
   "outputs": [
    {
     "name": "stdout",
     "output_type": "stream",
     "text": [
      "Diagnòstic: fractura rotula\n"
     ]
    }
   ],
   "source": [
    "from experta import KnowledgeEngine, Fact, Rule, AND\n",
    "\n",
    "# Definició del motor de coneixement\n",
    "class KneeInjuryExpertSystem(KnowledgeEngine):\n",
    "\n",
    "    @Rule(AND(Fact(\"colp\"), Fact(\"deformacio\")))\n",
    "    def fracture_or_ligament(self):\n",
    "        self.declare(Fact(\"fractura o lligament trencat\"))\n",
    "        print(\"Diagnòstic: fractura o lligament trencat\")\n",
    "\n",
    "    @Rule(AND(Fact(\"colp\"), Fact(\"rotula inflamada\")))\n",
    "    def fracture_rotula(self):\n",
    "        self.declare(Fact(\"fractura rotula\"))\n",
    "        print(\"Diagnòstic: fractura rotula\")\n",
    "\n",
    "    @Rule(AND(Fact(\"colp\"), Fact(\"genoll inflamat\")))\n",
    "    def ligament_or_menisc(self):\n",
    "        self.declare(Fact(\"lligament trencat o menisc trencat\"))\n",
    "        print(\"Diagnòstic: lligament trencat o menisc trencat\")\n",
    "\n",
    "    @Rule(AND(Fact(\"colp\"), Fact(\"dolor posterior\")))\n",
    "    def hamstring(self):\n",
    "        self.declare(Fact(\"múscul isquiotibial trencat\"))\n",
    "        print(\"Diagnòstic: múscul isquiotibial trencat\")\n",
    "\n",
    "    @Rule(AND(Fact(\"colp\"), Fact(\"crepitacions\")))\n",
    "    def menisc(self):\n",
    "        self.declare(Fact(\"menisc trencat\"))\n",
    "        print(\"Diagnòstic: menisc trencat\")\n",
    "\n",
    "    @Rule(AND(Fact(\"roig\"), Fact(\"febra\")))\n",
    "    def rheumatoid_arthritis(self):\n",
    "        self.declare(Fact(\"artritis reumatoide\"))\n",
    "        print(\"Diagnòstic: artritis reumatoide\")\n",
    "\n",
    "    @Rule(Fact(\"temps\"))\n",
    "    def osteoarthritis(self):\n",
    "        self.declare(Fact(\"osteo artritis\"))\n",
    "        print(\"Diagnòstic: osteo artritis\")\n",
    "\n",
    "    @Rule(Fact(\"inflacio_darrera\"))\n",
    "    def baker_cyst(self):\n",
    "        self.declare(Fact(\"quist de Baker\"))\n",
    "        print(\"Diagnòstic: quist de Baker\")\n",
    "\n",
    "    @Rule(Fact(\"jove_baix_rotula\"))\n",
    "    def osgood_schlatter(self):\n",
    "        self.declare(Fact(\"sindrome de Osgood-Schlatter\"))\n",
    "        print(\"Diagnòstic: sindrome de Osgood-Schlatter\")\n",
    "\n",
    "    @Rule(Fact(\"jove_genoll\"))\n",
    "    def growing_pains(self):\n",
    "        self.declare(Fact(\"dolor de creixement\"))\n",
    "        print(\"Diagnòstic: dolor de creixement\")\n",
    "\n",
    "# Creació del sistema expert i declaració de símptomes\n",
    "engine = KneeInjuryExpertSystem()\n",
    "engine.reset()\n",
    "\n",
    "# Declaració dels símptomes\n",
    "engine.declare(Fact(\"colp\"))\n",
    "engine.declare(Fact(\"rotula inflamada\"))\n",
    "\n",
    "# Execució del motor de coneixement\n",
    "engine.run()\n",
    "\n",
    "\n"
   ]
  },
  {
   "cell_type": "markdown",
   "id": "28234cb97d59f461",
   "metadata": {
    "id": "28234cb97d59f461"
   },
   "source": []
  },
  {
   "cell_type": "code",
   "execution_count": 23,
   "id": "BOuAX1YXskuV",
   "metadata": {
    "colab": {
     "base_uri": "https://localhost:8080/"
    },
    "executionInfo": {
     "elapsed": 237,
     "status": "ok",
     "timestamp": 1737478513337,
     "user": {
      "displayName": "Sebastian Ciscar Breitzler",
      "userId": "02561941394994713666"
     },
     "user_tz": -60
    },
    "id": "BOuAX1YXskuV",
    "outputId": "1bcc626d-1a4a-41b9-82b2-1d9816f930c1"
   },
   "outputs": [
    {
     "name": "stdout",
     "output_type": "stream",
     "text": [
      "Diagnòstic: fractura o lligament trencat\n"
     ]
    },
    {
     "data": {
      "text/plain": [
       "FactList([(0, InitialFact()),\n",
       "          (1, Fact('colp')),\n",
       "          (2, Fact('deformacio')),\n",
       "          (3, Fact('fractura o lligament trencat'))])"
      ]
     },
     "execution_count": 23,
     "metadata": {},
     "output_type": "execute_result"
    }
   ],
   "source": [
    "engine.reset()\n",
    "engine.declare(Fact(\"colp\"))\n",
    "engine.declare(Fact(\"deformacio\"))\n",
    "engine.run()\n",
    "engine.facts\n"
   ]
  },
  {
   "cell_type": "code",
   "execution_count": 26,
   "id": "eHyWW-QdrtlR",
   "metadata": {
    "ExecuteTime": {
     "end_time": "2024-01-08T22:21:48.466398Z",
     "start_time": "2024-01-08T22:21:48.371053Z"
    },
    "colab": {
     "base_uri": "https://localhost:8080/"
    },
    "executionInfo": {
     "elapsed": 231,
     "status": "ok",
     "timestamp": 1737478545621,
     "user": {
      "displayName": "Sebastian Ciscar Breitzler",
      "userId": "02561941394994713666"
     },
     "user_tz": -60
    },
    "id": "eHyWW-QdrtlR",
    "outputId": "4abf55e9-6a70-4d61-aae0-25aa3b3d58fd"
   },
   "outputs": [
    {
     "name": "stdout",
     "output_type": "stream",
     "text": [
      "Diagnòstic: lligament trencat o menisc trencat\n"
     ]
    },
    {
     "data": {
      "text/plain": [
       "FactList([(0, InitialFact()),\n",
       "          (1, Fact('colp')),\n",
       "          (2, Fact('genoll inflamat')),\n",
       "          (3, Fact('lligament trencat o menisc trencat'))])"
      ]
     },
     "execution_count": 26,
     "metadata": {},
     "output_type": "execute_result"
    }
   ],
   "source": [
    "engine.reset()\n",
    "engine.declare(Fact(\"colp\"))\n",
    "engine.declare(Fact(\"genoll inflamat\"))\n",
    "engine.run()\n",
    "engine.facts\n"
   ]
  },
  {
   "cell_type": "code",
   "execution_count": 27,
   "id": "qwhtYK7vul7Z",
   "metadata": {
    "colab": {
     "base_uri": "https://localhost:8080/"
    },
    "executionInfo": {
     "elapsed": 265,
     "status": "ok",
     "timestamp": 1737478583937,
     "user": {
      "displayName": "Sebastian Ciscar Breitzler",
      "userId": "02561941394994713666"
     },
     "user_tz": -60
    },
    "id": "qwhtYK7vul7Z",
    "outputId": "5b7db392-00e6-4f28-a310-aab661399325"
   },
   "outputs": [
    {
     "name": "stdout",
     "output_type": "stream",
     "text": [
      "Diagnòstic: artritis reumatoide\n"
     ]
    },
    {
     "data": {
      "text/plain": [
       "FactList([(0, InitialFact()),\n",
       "          (1, Fact('roig')),\n",
       "          (2, Fact('febra')),\n",
       "          (3, Fact('artritis reumatoide'))])"
      ]
     },
     "execution_count": 27,
     "metadata": {},
     "output_type": "execute_result"
    }
   ],
   "source": [
    "engine.reset()\n",
    "engine.declare(Fact(\"roig\"))\n",
    "engine.declare(Fact(\"febra\"))\n",
    "engine.run()\n",
    "engine.facts"
   ]
  },
  {
   "cell_type": "code",
   "execution_count": 28,
   "id": "dd19b4b0bd2327fc",
   "metadata": {
    "ExecuteTime": {
     "end_time": "2024-01-08T22:21:48.535774Z",
     "start_time": "2024-01-08T22:21:48.414181Z"
    },
    "colab": {
     "base_uri": "https://localhost:8080/"
    },
    "executionInfo": {
     "elapsed": 236,
     "status": "ok",
     "timestamp": 1737478606250,
     "user": {
      "displayName": "Sebastian Ciscar Breitzler",
      "userId": "02561941394994713666"
     },
     "user_tz": -60
    },
    "id": "dd19b4b0bd2327fc",
    "outputId": "84967cad-b189-4dc6-c7e4-145e82938b30"
   },
   "outputs": [
    {
     "name": "stdout",
     "output_type": "stream",
     "text": [
      "Diagnòstic: osteo artritis\n"
     ]
    },
    {
     "data": {
      "text/plain": [
       "FactList([(0, InitialFact()), (1, Fact('temps')), (2, Fact('osteo artritis'))])"
      ]
     },
     "execution_count": 28,
     "metadata": {},
     "output_type": "execute_result"
    }
   ],
   "source": [
    "engine.reset()\n",
    "engine.declare(Fact(\"temps\"))\n",
    "engine.run()\n",
    "engine.facts"
   ]
  },
  {
   "cell_type": "code",
   "execution_count": 30,
   "id": "5edb8b51c105b704",
   "metadata": {
    "ExecuteTime": {
     "end_time": "2024-01-08T22:21:48.554804Z",
     "start_time": "2024-01-08T22:21:48.429298Z"
    },
    "colab": {
     "base_uri": "https://localhost:8080/"
    },
    "executionInfo": {
     "elapsed": 419,
     "status": "ok",
     "timestamp": 1737478633404,
     "user": {
      "displayName": "Sebastian Ciscar Breitzler",
      "userId": "02561941394994713666"
     },
     "user_tz": -60
    },
    "id": "5edb8b51c105b704",
    "outputId": "eb89a68a-9dfa-4373-be94-e3907769ada1"
   },
   "outputs": [
    {
     "name": "stdout",
     "output_type": "stream",
     "text": [
      "Diagnòstic: quist de Baker\n"
     ]
    },
    {
     "data": {
      "text/plain": [
       "FactList([(0, InitialFact()),\n",
       "          (1, Fact('inflacio_darrera')),\n",
       "          (2, Fact('quist de Baker'))])"
      ]
     },
     "execution_count": 30,
     "metadata": {},
     "output_type": "execute_result"
    }
   ],
   "source": [
    "engine.reset()\n",
    "engine.declare(Fact(\"inflacio_darrera\"))\n",
    "engine.run()\n",
    "engine.facts"
   ]
  },
  {
   "cell_type": "code",
   "execution_count": 31,
   "id": "91f5bb634021d63c",
   "metadata": {
    "ExecuteTime": {
     "end_time": "2024-01-08T22:21:48.556023Z",
     "start_time": "2024-01-08T22:21:48.445482Z"
    },
    "colab": {
     "base_uri": "https://localhost:8080/"
    },
    "executionInfo": {
     "elapsed": 230,
     "status": "ok",
     "timestamp": 1737478640958,
     "user": {
      "displayName": "Sebastian Ciscar Breitzler",
      "userId": "02561941394994713666"
     },
     "user_tz": -60
    },
    "id": "91f5bb634021d63c",
    "outputId": "1c0d2fbb-362f-4ffd-ed36-5272f57d668b"
   },
   "outputs": [
    {
     "name": "stdout",
     "output_type": "stream",
     "text": [
      "Diagnòstic: sindrome de Osgood-Schlatter\n"
     ]
    },
    {
     "data": {
      "text/plain": [
       "FactList([(0, InitialFact()),\n",
       "          (1, Fact('jove_baix_rotula')),\n",
       "          (2, Fact('sindrome de Osgood-Schlatter'))])"
      ]
     },
     "execution_count": 31,
     "metadata": {},
     "output_type": "execute_result"
    }
   ],
   "source": [
    "engine.reset()\n",
    "engine.declare(Fact(\"jove_baix_rotula\"))\n",
    "engine.run()\n",
    "engine.facts"
   ]
  }
 ],
 "metadata": {
  "colab": {
   "provenance": []
  },
  "kernelspec": {
   "display_name": "Python 3",
   "language": "python",
   "name": "python3"
  },
  "language_info": {
   "codemirror_mode": {
    "name": "ipython",
    "version": 3
   },
   "file_extension": ".py",
   "mimetype": "text/x-python",
   "name": "python",
   "nbconvert_exporter": "python",
   "pygments_lexer": "ipython3",
   "version": "3.6.15"
  }
 },
 "nbformat": 4,
 "nbformat_minor": 5
}
