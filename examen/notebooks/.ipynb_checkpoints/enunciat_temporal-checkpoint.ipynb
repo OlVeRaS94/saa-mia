{
 "cells": [
  {
   "cell_type": "markdown",
   "metadata": {},
   "source": [
    "### Predicció de la Producció Mensual de Cervesa\n",
    "\n",
    "**Context:**\\\n",
    "L'empresa *Sebas Beers Co.* està interessada a predir la producció mensual de cervesa per optimitzar la seva cadena de subministrament i satisfer la demanda del mercat. L'empresa ha recopilat dades mensuals de la producció de cervesa (en megalitres) des de gener de 1956 fins a agost de 1995.\n",
    "\n",
    "El teu objectiu és analitzar aquestes dades, identificar patrons i crear un model que pugui predir la producció de cervesa per als pròxims 12 mesos.\n",
    "\n",
    "---\n",
    "\n",
    "### Dades disponibles:\n",
    "\n",
    "1. Producció mensual de cervesa (en megalitres).\n",
    "2. Període de temps: Gener de 1956 a Agost de 1995.\n",
    "\n",
    "---\n",
    "\n",
    "### Tasques:\n",
    "\n",
    "#### 1. **Anàlisi exploratòria de dades (EDA):**\n",
    "\n",
    "a. Visualitza i analitza la sèrie temporal i comenta sobre les possibles tendències i patrons estacionals, etc...\n",
    "\n",
    "#### 2. **Preparació de dades:**\n",
    "\n",
    "a. Verifica si hi ha dades mancants o anomalies i, si n'hi ha, tracta-les adequadament.\\\n",
    "b. Divideix les dades en conjunt d'entrenament i conjunt de validació (utilitza aproximadament el 80% per entrenar i el 20% per validar).\n",
    "\n",
    "#### 3. **Modelització:**\n",
    "\n",
    "a. Entrena un model que realitze la predicció.\n",
    "\n",
    "#### 4. **Predicció:**\n",
    "\n",
    "a. Genera una predicció per als 12 mesos següents.\\\n",
    "b. Visualitza els resultats en una gràfica que mostri les prediccions comparades amb el conjunt de validació (i si és possible, amb els valors reals).\n",
    "\n",
    "#### Bona sort! 🍺\n",
    "\n"
   ]
  }
 ],
 "metadata": {
  "kernelspec": {
   "display_name": "Python 3",
   "language": "python",
   "name": "python3"
  },
  "language_info": {
   "codemirror_mode": {
    "name": "ipython",
    "version": 3
   },
   "file_extension": ".py",
   "mimetype": "text/x-python",
   "name": "python",
   "nbconvert_exporter": "python",
   "pygments_lexer": "ipython3",
   "version": "3.6.15"
  }
 },
 "nbformat": 4,
 "nbformat_minor": 2
}
