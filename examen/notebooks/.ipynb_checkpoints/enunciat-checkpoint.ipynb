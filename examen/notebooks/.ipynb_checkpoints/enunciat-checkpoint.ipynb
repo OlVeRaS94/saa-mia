{
 "cells": [
  {
   "cell_type": "markdown",
   "metadata": {},
   "source": [
    "# Exercici pràctic. Unitats 1-4. Preprocessament i Regressió linial.\n",
    "\n",
    "## World Happiness Report"
   ]
  },
  {
   "cell_type": "markdown",
   "metadata": {},
   "source": [
    "## Presentació del dataset\n",
    "\n",
    "El *World Happiness Report* és una enquesta històrica sobre l'estat de la felicitat global, i segons experts en diferents camps, es pot utilitzar per avaluar el progrés de les nacions. Aquests informes, revisen l'estat de la felicitat al món actual i mostren com la nova ciència de la felicitat explica les variacions personals i nacionals de la felicitat.\n",
    "\n",
    "El dataset que se us presenta està basat en base a diversos datasets sobre aquesta enquesta, que podeu trobar a [Kaggle](https://www.kaggle.com/datasets/ajaypalsinghlo/world-happiness-report-2021).\n",
    "\n",
    "Les columnes de què consta aquest dataset són:\n",
    "\n",
    "* \"escala_vida\": La puntuació sobre la felicitat obtinguda en l'enquesta.\n",
    "* \"log_gdp\": És el logaritme del PIB per càpita de cada país. Bàsicament, aquesta el que mesura és la riquesa del pais. Sol usar-se aquesta mesura en lloc del PIB perquè aquest creix exponencialment, i el logaritme dóna una mesura més fàcil de gestionar.\n",
    "* \"suport_social\":  Reflecteix, de forma numèrica la percepció que tenen les persones de ser cuidades i tenir assistència d'altres persones.\n",
    "* \"esperança_vida\": L'esperança de vida del pais\n",
    "* \"llibertat_vida\": La llibertat que es dona a les persones per escollir el seu estil de vida.\n",
    "* \"generositat\": Fa referència a la quantitat de persones que realitza donacions en un país.\n",
    "* \"percepcio_corrupcio\": Es tracta de la percepció social que es té sobre la corrupció a les institucions d'un país.\n",
    "\n",
    "S'han eliminat algunes columens originals, com l'any de l'enquesta i el pais per tal de facilitar la tasca.\n",
    "\n",
    "El paràmetre que ens interessarà predir serà l'escala de vida en funció de la resta de paràmetres."
   ]
  },
  {
   "cell_type": "markdown",
   "metadata": {},
   "source": [
    "## Pas 1. Emmarcar el problema. \n",
    "\n",
    "**Contesta les següents preguntes sobre l'enunciat**\n",
    "\n",
    "* Quin és l'objectiu?\n",
    "* Quines són les característiques del problema? (supervisat/no supervisat, batch/en línia)\n",
    "* Quin tipus de problema es tracta? (regressió, classificació, etc). I segons això, quines mesures de rendiment podríem utilitzar?\n",
    "* Tenim algun problema comparable?"
   ]
  },
  {
   "cell_type": "markdown",
   "metadata": {},
   "source": [
    "## Pas 2. Otenció de les dades.\n",
    "\n",
    "El fitxer se us proporciona com un CSV, amb nom `index-felicitat-num.csv`. Guarda'l en una carpeta `dataset` i crea un funció `carrega_dades` que carregue aquest fitxer i el retorne com un DataFrame de Pandas. Fes ús de la funció per carregar les dades amb les què anirem treballant els pròxims apartats. Examina les primeres columnes per veure'n quines dades conté."
   ]
  },
  {
   "cell_type": "code",
   "execution_count": 5,
   "metadata": {},
   "outputs": [
    {
     "name": "stdout",
     "output_type": "stream",
     "text": [
      "Requirement already satisfied: pandas in /usr/local/lib/python3.6/site-packages (1.1.5)\n",
      "Requirement already satisfied: python-dateutil>=2.7.3 in /usr/local/lib/python3.6/site-packages (from pandas) (2.9.0.post0)\n",
      "Requirement already satisfied: numpy>=1.15.4 in /usr/local/lib/python3.6/site-packages (from pandas) (1.19.5)\n",
      "Requirement already satisfied: pytz>=2017.2 in /usr/local/lib/python3.6/site-packages (from pandas) (2024.2)\n",
      "Requirement already satisfied: six>=1.5 in /usr/local/lib/python3.6/site-packages (from python-dateutil>=2.7.3->pandas) (1.17.0)\n",
      "\u001b[33mWARNING: Running pip as the 'root' user can result in broken permissions and conflicting behaviour with the system package manager. It is recommended to use a virtual environment instead: https://pip.pypa.io/warnings/venv\u001b[0m\n",
      "\u001b[33mWARNING: You are using pip version 21.2.4; however, version 21.3.1 is available.\n",
      "You should consider upgrading via the '/usr/local/bin/python -m pip install --upgrade pip' command.\u001b[0m\n",
      "Note: you may need to restart the kernel to use updated packages.\n",
      "Requirement already satisfied: scikit-fuzzy in /usr/local/lib/python3.6/site-packages (0.5.0)\n",
      "\u001b[33mWARNING: Running pip as the 'root' user can result in broken permissions and conflicting behaviour with the system package manager. It is recommended to use a virtual environment instead: https://pip.pypa.io/warnings/venv\u001b[0m\n",
      "\u001b[33mWARNING: You are using pip version 21.2.4; however, version 21.3.1 is available.\n",
      "You should consider upgrading via the '/usr/local/bin/python -m pip install --upgrade pip' command.\u001b[0m\n",
      "Note: you may need to restart the kernel to use updated packages.\n",
      "Requirement already satisfied: experta in /usr/local/lib/python3.6/site-packages (1.9.4)\n",
      "Requirement already satisfied: frozendict==1.2 in /usr/local/lib/python3.6/site-packages (from experta) (1.2)\n",
      "Requirement already satisfied: schema==0.6.7 in /usr/local/lib/python3.6/site-packages (from experta) (0.6.7)\n",
      "\u001b[33mWARNING: Running pip as the 'root' user can result in broken permissions and conflicting behaviour with the system package manager. It is recommended to use a virtual environment instead: https://pip.pypa.io/warnings/venv\u001b[0m\n",
      "\u001b[33mWARNING: You are using pip version 21.2.4; however, version 21.3.1 is available.\n",
      "You should consider upgrading via the '/usr/local/bin/python -m pip install --upgrade pip' command.\u001b[0m\n",
      "Note: you may need to restart the kernel to use updated packages.\n",
      "Requirement already satisfied: matplotlib in /usr/local/lib/python3.6/site-packages (3.3.4)\n",
      "Requirement already satisfied: kiwisolver>=1.0.1 in /usr/local/lib/python3.6/site-packages (from matplotlib) (1.3.1)\n",
      "Requirement already satisfied: cycler>=0.10 in /usr/local/lib/python3.6/site-packages (from matplotlib) (0.11.0)\n",
      "Requirement already satisfied: pillow>=6.2.0 in /usr/local/lib/python3.6/site-packages (from matplotlib) (8.4.0)\n",
      "Requirement already satisfied: python-dateutil>=2.1 in /usr/local/lib/python3.6/site-packages (from matplotlib) (2.9.0.post0)\n",
      "Requirement already satisfied: numpy>=1.15 in /usr/local/lib/python3.6/site-packages (from matplotlib) (1.19.5)\n",
      "Requirement already satisfied: pyparsing!=2.0.4,!=2.1.2,!=2.1.6,>=2.0.3 in /usr/local/lib/python3.6/site-packages (from matplotlib) (3.1.4)\n",
      "Requirement already satisfied: six>=1.5 in /usr/local/lib/python3.6/site-packages (from python-dateutil>=2.1->matplotlib) (1.17.0)\n",
      "\u001b[33mWARNING: Running pip as the 'root' user can result in broken permissions and conflicting behaviour with the system package manager. It is recommended to use a virtual environment instead: https://pip.pypa.io/warnings/venv\u001b[0m\n",
      "\u001b[33mWARNING: You are using pip version 21.2.4; however, version 21.3.1 is available.\n",
      "You should consider upgrading via the '/usr/local/bin/python -m pip install --upgrade pip' command.\u001b[0m\n",
      "Note: you may need to restart the kernel to use updated packages.\n",
      "Requirement already satisfied: scipy in /usr/local/lib/python3.6/site-packages (1.5.4)\n",
      "Requirement already satisfied: numpy>=1.14.5 in /usr/local/lib/python3.6/site-packages (from scipy) (1.19.5)\n",
      "\u001b[33mWARNING: Running pip as the 'root' user can result in broken permissions and conflicting behaviour with the system package manager. It is recommended to use a virtual environment instead: https://pip.pypa.io/warnings/venv\u001b[0m\n",
      "\u001b[33mWARNING: You are using pip version 21.2.4; however, version 21.3.1 is available.\n",
      "You should consider upgrading via the '/usr/local/bin/python -m pip install --upgrade pip' command.\u001b[0m\n",
      "Note: you may need to restart the kernel to use updated packages.\n"
     ]
    }
   ],
   "source": [
    "%pip install pandas\n",
    "%pip install scikit-fuzzy\n",
    "%pip install experta\n",
    "%pip install matplotlib\n",
    "%pip install scipy\n"
   ]
  },
  {
   "cell_type": "code",
   "execution_count": 49,
   "metadata": {},
   "outputs": [],
   "source": [
    "import pandas as pd\n",
    "import numpy as np\n",
    "\n",
    "df_data = pd.read_csv('index-felicitat.csv')"
   ]
  },
  {
   "cell_type": "markdown",
   "metadata": {},
   "source": [
    "## Pas 3. Exploració de les dades.\n",
    "\n",
    "Anem a explorar les dades del Dataset. Per a això, obté, inicialment la següent informació:\n",
    "\n",
    "* Informació sobre les columnes i la quantitat de nuls que tinguen aquestes\n",
    "* Descripció estadística del dataset, incloent mitjanes, desviació, màxim, mínim i quartils\n",
    "* Comprova si hi ha files duplicades\n",
    "* Mostra els histogrames per a les diferents variables"
   ]
  },
  {
   "cell_type": "code",
   "execution_count": 51,
   "metadata": {},
   "outputs": [
    {
     "data": {
      "text/html": [
       "<div>\n",
       "<style scoped>\n",
       "    .dataframe tbody tr th:only-of-type {\n",
       "        vertical-align: middle;\n",
       "    }\n",
       "\n",
       "    .dataframe tbody tr th {\n",
       "        vertical-align: top;\n",
       "    }\n",
       "\n",
       "    .dataframe thead th {\n",
       "        text-align: right;\n",
       "    }\n",
       "</style>\n",
       "<table border=\"1\" class=\"dataframe\">\n",
       "  <thead>\n",
       "    <tr style=\"text-align: right;\">\n",
       "      <th></th>\n",
       "      <th>escala_vida</th>\n",
       "      <th>log_gdp</th>\n",
       "      <th>suport_social</th>\n",
       "      <th>esperança_vida</th>\n",
       "      <th>llibertat_vida</th>\n",
       "      <th>generositat</th>\n",
       "      <th>percepcio_corrupcio</th>\n",
       "    </tr>\n",
       "  </thead>\n",
       "  <tbody>\n",
       "    <tr>\n",
       "      <th>0</th>\n",
       "      <td>5.085</td>\n",
       "      <td>8.716</td>\n",
       "      <td>0.792</td>\n",
       "      <td>67.14</td>\n",
       "      <td>0.87975</td>\n",
       "      <td>0.000</td>\n",
       "      <td>0.783125</td>\n",
       "    </tr>\n",
       "    <tr>\n",
       "      <th>1</th>\n",
       "      <td>4.369</td>\n",
       "      <td>7.880</td>\n",
       "      <td>0.633</td>\n",
       "      <td>54.70</td>\n",
       "      <td>0.74600</td>\n",
       "      <td>-0.057</td>\n",
       "      <td>0.519000</td>\n",
       "    </tr>\n",
       "    <tr>\n",
       "      <th>2</th>\n",
       "      <td>6.062</td>\n",
       "      <td>9.782</td>\n",
       "      <td>0.893</td>\n",
       "      <td>68.00</td>\n",
       "      <td>0.83200</td>\n",
       "      <td>-0.158</td>\n",
       "      <td>0.471000</td>\n",
       "    </tr>\n",
       "    <tr>\n",
       "      <th>3</th>\n",
       "      <td>5.138</td>\n",
       "      <td>10.144</td>\n",
       "      <td>0.874</td>\n",
       "      <td>66.24</td>\n",
       "      <td>0.61100</td>\n",
       "      <td>-0.230</td>\n",
       "      <td>0.793000</td>\n",
       "    </tr>\n",
       "    <tr>\n",
       "      <th>4</th>\n",
       "      <td>3.792</td>\n",
       "      <td>6.723</td>\n",
       "      <td>0.326</td>\n",
       "      <td>49.66</td>\n",
       "      <td>0.42700</td>\n",
       "      <td>-0.019</td>\n",
       "      <td>0.718000</td>\n",
       "    </tr>\n",
       "  </tbody>\n",
       "</table>\n",
       "</div>"
      ],
      "text/plain": [
       "   escala_vida  log_gdp  suport_social  esperança_vida  llibertat_vida  \\\n",
       "0        5.085    8.716          0.792           67.14         0.87975   \n",
       "1        4.369    7.880          0.633           54.70         0.74600   \n",
       "2        6.062    9.782          0.893           68.00         0.83200   \n",
       "3        5.138   10.144          0.874           66.24         0.61100   \n",
       "4        3.792    6.723          0.326           49.66         0.42700   \n",
       "\n",
       "   generositat  percepcio_corrupcio  \n",
       "0        0.000             0.783125  \n",
       "1       -0.057             0.519000  \n",
       "2       -0.158             0.471000  \n",
       "3       -0.230             0.793000  \n",
       "4       -0.019             0.718000  "
      ]
     },
     "execution_count": 51,
     "metadata": {},
     "output_type": "execute_result"
    }
   ],
   "source": [
    "df_data.head()"
   ]
  },
  {
   "cell_type": "code",
   "execution_count": 53,
   "metadata": {},
   "outputs": [
    {
     "name": "stdout",
     "output_type": "stream",
     "text": [
      "<class 'pandas.core.frame.DataFrame'>\n",
      "RangeIndex: 1465 entries, 0 to 1464\n",
      "Data columns (total 7 columns):\n",
      " #   Column               Non-Null Count  Dtype  \n",
      "---  ------               --------------  -----  \n",
      " 0   escala_vida          1465 non-null   float64\n",
      " 1   log_gdp              1457 non-null   float64\n",
      " 2   suport_social        1465 non-null   float64\n",
      " 3   esperança_vida       1462 non-null   float64\n",
      " 4   llibertat_vida       1465 non-null   float64\n",
      " 5   generositat          1457 non-null   float64\n",
      " 6   percepcio_corrupcio  1465 non-null   float64\n",
      "dtypes: float64(7)\n",
      "memory usage: 80.2 KB\n"
     ]
    }
   ],
   "source": [
    "df_data.info()"
   ]
  },
  {
   "cell_type": "code",
   "execution_count": 56,
   "metadata": {},
   "outputs": [
    {
     "name": "stdout",
     "output_type": "stream",
     "text": [
      "       escala_vida      log_gdp  suport_social  esperança_vida  \\\n",
      "count  1465.000000  1457.000000    1465.000000     1462.000000   \n",
      "mean      5.462673     9.371928       0.811738       63.551807   \n",
      "std       1.112481     1.157552       0.118370        7.524282   \n",
      "min       2.375000     6.635000       0.290000       32.300000   \n",
      "25%       4.640000     8.470000       0.747000       58.976000   \n",
      "50%       5.386000     9.460000       0.832000       65.270000   \n",
      "75%       6.278000    10.370000       0.905000       68.800000   \n",
      "max       8.019000    11.648000       0.987000       77.100000   \n",
      "\n",
      "       llibertat_vida  generositat  percepcio_corrupcio  \n",
      "count     1465.000000  1457.000000          1465.000000  \n",
      "mean         0.745927    -0.000661             0.740897  \n",
      "std          0.140838     0.160325             0.187847  \n",
      "min          0.258000    -0.316000             0.035000  \n",
      "25%          0.650000    -0.117000             0.680000  \n",
      "50%          0.766000    -0.023000             0.794000  \n",
      "75%          0.860000     0.090000             0.868000  \n",
      "max          0.985000     0.698000             0.983000  \n"
     ]
    }
   ],
   "source": [
    "df_data.describe()\n",
    "print(df_data.describe())"
   ]
  },
  {
   "cell_type": "code",
   "execution_count": 57,
   "metadata": {},
   "outputs": [
    {
     "name": "stdout",
     "output_type": "stream",
     "text": [
      "0       False\n",
      "1       False\n",
      "2       False\n",
      "3       False\n",
      "4       False\n",
      "        ...  \n",
      "1460    False\n",
      "1461    False\n",
      "1462    False\n",
      "1463    False\n",
      "1464    False\n",
      "Length: 1465, dtype: bool\n"
     ]
    }
   ],
   "source": [
    "duplicados = df_data.duplicated()\n",
    "print(duplicados)"
   ]
  },
  {
   "cell_type": "code",
   "execution_count": 27,
   "metadata": {},
   "outputs": [
    {
     "name": "stdout",
     "output_type": "stream",
     "text": [
      "Requirement already satisfied: seaborn in /usr/local/lib/python3.6/site-packages (0.11.2)\n",
      "Requirement already satisfied: numpy>=1.15 in /usr/local/lib/python3.6/site-packages (from seaborn) (1.19.5)\n",
      "Requirement already satisfied: pandas>=0.23 in /usr/local/lib/python3.6/site-packages (from seaborn) (1.1.5)\n",
      "Requirement already satisfied: scipy>=1.0 in /usr/local/lib/python3.6/site-packages (from seaborn) (1.5.4)\n",
      "Requirement already satisfied: matplotlib>=2.2 in /usr/local/lib/python3.6/site-packages (from seaborn) (3.3.4)\n",
      "Requirement already satisfied: pillow>=6.2.0 in /usr/local/lib/python3.6/site-packages (from matplotlib>=2.2->seaborn) (8.4.0)\n",
      "Requirement already satisfied: kiwisolver>=1.0.1 in /usr/local/lib/python3.6/site-packages (from matplotlib>=2.2->seaborn) (1.3.1)\n",
      "Requirement already satisfied: python-dateutil>=2.1 in /usr/local/lib/python3.6/site-packages (from matplotlib>=2.2->seaborn) (2.9.0.post0)\n",
      "Requirement already satisfied: pyparsing!=2.0.4,!=2.1.2,!=2.1.6,>=2.0.3 in /usr/local/lib/python3.6/site-packages (from matplotlib>=2.2->seaborn) (3.1.4)\n",
      "Requirement already satisfied: cycler>=0.10 in /usr/local/lib/python3.6/site-packages (from matplotlib>=2.2->seaborn) (0.11.0)\n",
      "Requirement already satisfied: pytz>=2017.2 in /usr/local/lib/python3.6/site-packages (from pandas>=0.23->seaborn) (2024.2)\n",
      "Requirement already satisfied: six>=1.5 in /usr/local/lib/python3.6/site-packages (from python-dateutil>=2.1->matplotlib>=2.2->seaborn) (1.17.0)\n",
      "\u001b[33mWARNING: Running pip as the 'root' user can result in broken permissions and conflicting behaviour with the system package manager. It is recommended to use a virtual environment instead: https://pip.pypa.io/warnings/venv\u001b[0m\n",
      "\u001b[33mWARNING: You are using pip version 21.2.4; however, version 21.3.1 is available.\n",
      "You should consider upgrading via the '/usr/local/bin/python -m pip install --upgrade pip' command.\u001b[0m\n",
      "Note: you may need to restart the kernel to use updated packages.\n"
     ]
    }
   ],
   "source": [
    "%pip install seaborn"
   ]
  },
  {
   "cell_type": "code",
   "execution_count": 58,
   "metadata": {},
   "outputs": [
    {
     "data": {
      "image/png": "[encoded data removed]",
      "text/plain": [
       "<Figure size 432x288 with 1 Axes>"
      ]
     },
     "metadata": {
      "needs_background": "light"
     },
     "output_type": "display_data"
    }
   ],
   "source": [
    "import matplotlib.pyplot as plt\n",
    "import seaborn as sns\n",
    "\n",
    "sns.countplot(x='escala_vida', data=df_data)\n",
    "plt.title('escala_vida')\n",
    "plt.show()"
   ]
  },
  {
   "cell_type": "code",
   "execution_count": 59,
   "metadata": {},
   "outputs": [
    {
     "data": {
      "image/png": "[encoded data removed]",
      "text/plain": [
       "<Figure size 432x288 with 1 Axes>"
      ]
     },
     "metadata": {
      "needs_background": "light"
     },
     "output_type": "display_data"
    }
   ],
   "source": [
    "sns.countplot(x='log_gdp', data=df_data)\n",
    "plt.title('log_gdp')\n",
    "plt.show()"
   ]
  },
  {
   "cell_type": "code",
   "execution_count": 60,
   "metadata": {},
   "outputs": [
    {
     "data": {
      "image/png": "[encoded data removed]",
      "text/plain": [
       "<Figure size 432x288 with 1 Axes>"
      ]
     },
     "metadata": {
      "needs_background": "light"
     },
     "output_type": "display_data"
    }
   ],
   "source": [
    "sns.countplot(x='suport_social', data=df_data)\n",
    "plt.title('suport_social')\n",
    "plt.show()"
   ]
  },
  {
   "cell_type": "code",
   "execution_count": 61,
   "metadata": {},
   "outputs": [
    {
     "data": {
      "image/png": "[encoded data removed]",
      "text/plain": [
       "<Figure size 432x288 with 1 Axes>"
      ]
     },
     "metadata": {
      "needs_background": "light"
     },
     "output_type": "display_data"
    }
   ],
   "source": [
    "sns.countplot(x='esperança_vida', data=df_data)\n",
    "plt.title('esperança_vida')\n",
    "plt.show()"
   ]
  },
  {
   "cell_type": "code",
   "execution_count": 64,
   "metadata": {},
   "outputs": [
    {
     "data": {
      "image/png": "[encoded data removed]",
      "text/plain": [
       "<Figure size 432x288 with 1 Axes>"
      ]
     },
     "metadata": {
      "needs_background": "light"
     },
     "output_type": "display_data"
    }
   ],
   "source": [
    "sns.countplot(x='llibertat_vida', data=df_data)\n",
    "plt.title('llibertat_vida')\n",
    "plt.show()"
   ]
  },
  {
   "cell_type": "code",
   "execution_count": 62,
   "metadata": {},
   "outputs": [
    {
     "data": {
      "image/png": "[encoded data removed]",
      "text/plain": [
       "<Figure size 432x288 with 1 Axes>"
      ]
     },
     "metadata": {
      "needs_background": "light"
     },
     "output_type": "display_data"
    }
   ],
   "source": [
    "sns.countplot(x='generositat', data=df_data)\n",
    "plt.title('generositat')\n",
    "plt.show()"
   ]
  },
  {
   "cell_type": "code",
   "execution_count": 63,
   "metadata": {},
   "outputs": [
    {
     "data": {
      "image/png": "[encoded data removed]",
      "text/plain": [
       "<Figure size 432x288 with 1 Axes>"
      ]
     },
     "metadata": {
      "needs_background": "light"
     },
     "output_type": "display_data"
    }
   ],
   "source": [
    "sns.countplot(x='percepcio_corrupcio', data=df_data)\n",
    "plt.title('percepcio_corrupcio')\n",
    "plt.show()"
   ]
  },
  {
   "cell_type": "markdown",
   "metadata": {},
   "source": [
    "### Informació de nuls\n",
    "\n",
    "Seguint amb l'exploració de les dades, una vegada hem fet un primer anàlisi d'aquestes, anem a veure si hi ha valors nuls i com tractar-los, encara que ja ho sabem de l'exploració inicial. Per a això:\n",
    "\n",
    "* Obté la quantitat de valors nuls que hi ha per cada columna\n",
    "* Obé les columnes que contenen nuls "
   ]
  },
  {
   "cell_type": "code",
   "execution_count": 65,
   "metadata": {},
   "outputs": [
    {
     "data": {
      "text/plain": [
       "escala_vida            0\n",
       "log_gdp                8\n",
       "suport_social          0\n",
       "esperança_vida         3\n",
       "llibertat_vida         0\n",
       "generositat            8\n",
       "percepcio_corrupcio    0\n",
       "dtype: int64"
      ]
     },
     "execution_count": 65,
     "metadata": {},
     "output_type": "execute_result"
    }
   ],
   "source": [
    "df_data.isnull().sum()"
   ]
  },
  {
   "cell_type": "markdown",
   "metadata": {},
   "source": [
    "### Estudiar correlacions\n",
    "\n",
    "Per veure la correlació entre les diferents variable es demana:\n",
    "\n",
    "* Mostra la matriu de correlació entre les variables\n",
    "* Fes una representació en un mapa de calor\n",
    "* Realitza un diagrama de punts amb les variables més prometedores."
   ]
  },
  {
   "cell_type": "code",
   "execution_count": 66,
   "metadata": {},
   "outputs": [
    {
     "data": {
      "image/png": "[encoded data removed]",
      "text/plain": [
       "<Figure size 432x288 with 2 Axes>"
      ]
     },
     "metadata": {
      "needs_background": "light"
     },
     "output_type": "display_data"
    }
   ],
   "source": [
    "sns.heatmap(df_data.corr(), annot=True, cmap='coolwarm')\n",
    "plt.title('Correlación entre variables')\n",
    "plt.show()"
   ]
  },
  {
   "cell_type": "code",
   "execution_count": 70,
   "metadata": {},
   "outputs": [
    {
     "data": {
      "image/png": "[encoded data removed]",
      "text/plain": [
       "<Figure size 432x288 with 1 Axes>"
      ]
     },
     "metadata": {
      "needs_background": "light"
     },
     "output_type": "display_data"
    }
   ],
   "source": [
    "df_data['suport_social'] = df_data['suport_social'] * 100\n",
    "df_data['suport_social'].hist(bins=20)\n",
    "plt.ylabel('suport_social')\n",
    "plt.show()"
   ]
  },
  {
   "cell_type": "markdown",
   "metadata": {},
   "source": [
    "### Detecció d'Outliers\n",
    "\n",
    "Dibuixa els diagrames de caixes per a cada variable, per tal de detectar possibles valors anòmals."
   ]
  },
  {
   "cell_type": "markdown",
   "metadata": {},
   "source": [
    "# Pas 4. Preparació de les dades per als algorismes de ML\n",
    "\n",
    "Anem a preparar diverses funcionalitats per preparar les dades per als algorismes d'aprenentatge automàtic. Concretament, se us demana:\n",
    "\n",
    "* Prova com eliminar els duplicats que puguen haver-hi.\n",
    "* Separa el conjunt de dades en un conjunt d'entrenament, amb el 70% de les dades i un de prova amb el 30%. A partir d'ara treballareu amb el conjunt d'entrenament i utilitzarem al final el de prova.\n",
    "* Crea una instància de SimpleImputer per imputar els valors nuls amb el valor de la mitjana, i comprova que aquest compleix el seu propòsit (és a dir, aplica l'imputador i comprova que després no hi ha nuls)."
   ]
  },
  {
   "cell_type": "markdown",
   "metadata": {},
   "source": [
    "## Transformacions interessants\n",
    "\n",
    "* Podríes millorar els conjunts de dades amb algunes transformacions interessants, per exemple logarítmiques? Sobre quines columnes?"
   ]
  },
  {
   "cell_type": "markdown",
   "metadata": {},
   "source": [
    "## Preparació del transformador per al preprocessament\n",
    "\n",
    "Prepara ara un script en Python per automatitzar tot el procés anterior:\n",
    "\n",
    "* Carreuges les dades del fitxer\n",
    "* Elimines els duplicats\n",
    "* Separa el conjunt de proves (amb el 30%) i el d'entrenament (70%)\n",
    "* Prepara un ColumnTransformes per realitzar un escalat estàndard\n",
    "* Prepara un Pipeline que:\n",
    "  1. Utilitze el teu imputador dels valors nuls,\n",
    "  2. Ralitze un escalat\n"
   ]
  },
  {
   "cell_type": "markdown",
   "metadata": {},
   "source": []
  },
  {
   "cell_type": "markdown",
   "metadata": {},
   "source": [
    "## Preparació i entrenament de l'algorisme\n",
    "\n",
    "* Separa ara la columna `escala_vida` del conjunt de dades, i crea un nou dataframe com a còpia d'aquesta columna, ja que seran les nostres etiquetes.\n",
    "\n",
    "* Entrena un model de regressió linial, amb les dades d'entrenament."
   ]
  },
  {
   "cell_type": "markdown",
   "metadata": {},
   "source": [
    "* Una vegada entrenat l'algorisme, calcula i mostra les mètriques MAE, MSE, RMSE i R2, tant per al conjunt d'entrenament om per al conjunt de prova. Recorda que el conjunt de prova l'hauràs de preprocessar també."
   ]
  }
 ],
 "metadata": {
  "kernelspec": {
   "display_name": "Python 3",
   "language": "python",
   "name": "python3"
  },
  "language_info": {
   "codemirror_mode": {
    "name": "ipython",
    "version": 3
   },
   "file_extension": ".py",
   "mimetype": "text/x-python",
   "name": "python",
   "nbconvert_exporter": "python",
   "pygments_lexer": "ipython3",
   "version": "3.6.15"
  }
 },
 "nbformat": 4,
 "nbformat_minor": 2
}
