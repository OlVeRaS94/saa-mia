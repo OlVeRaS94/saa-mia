{
 "cells": [
  {
   "cell_type": "code",
   "execution_count": 66,
   "id": "b89c4137",
   "metadata": {},
   "outputs": [],
   "source": [
    "from experta import *"
   ]
  },
  {
   "cell_type": "code",
   "execution_count": 98,
   "id": "00c8bd8b",
   "metadata": {},
   "outputs": [],
   "source": [
    "class aprobar_suspender (KnowledgeEngine):\n",
    "    \n",
    "    @Rule (AND(Fact(\"IA\")))\n",
    "    def suspender_IA(self):\n",
    "        self.declare(Fact(\"suspendido_IA\"))\n",
    "        print(\"Ha supendido por utilizar IA\")\n",
    "        \n",
    "    @Rule (AND(Fact(\"copiar\")))\n",
    "    def suspender_copiar(self):\n",
    "        self.declare(Fact(\"suspendido_copiar\"))\n",
    "        print(\"Ha supendido por copiar\")\n",
    "        \n",
    "    @Rule (AND(Fact(\"IA\"), Fact(\"estudiar\")))\n",
    "    def suspender_IA_Estudiar(self):\n",
    "        self.declare(Fact(\"suspendido_IA_estudiar\"))\n",
    "        \n",
    "    @Rule (AND(Fact(\"estudiar\"), Fact(\"deberes\")))\n",
    "    def aprobar_Estudiar_Deberes(self):\n",
    "        self.declare(Fact(\"aprovado deberes\"))\n",
    "        print(\"Ha aprovado porque ha estudiado y ha hecho los deberes\")\n",
    "    \n",
    "    @Rule (AND(Fact(\"IA\"), Fact(\"estudiar\"), Fact(\"deberes\")))\n",
    "    def suspender_IA_Estudiar_Deberes(self):\n",
    "        self.declare(Fact(\"suspendido IA estudiar deberes\"))\n",
    "        \n",
    "        \n",
    "    @Rule (AND(Fact(\"copiar\"), Fact(\"asistir\")))\n",
    "    def suspender_Copiar_Asistir(self):\n",
    "        self.declare(Fact(\"suspendido copiar asistir\"))\n",
    "        \n",
    "\n",
    "    @Rule (AND(Fact(\"asistir\"), Fact(\"participar\")))\n",
    "    def aprobar_Asistir_participar(self):\n",
    "        self.declare(Fact(\"aprovar asistir participar\"))\n",
    "        print(\"Ha aprovado por asistir y participar en clase\")\n",
    "        \n",
    "    @Rule (AND(Fact(\"estudiar\"), Fact(\"no deberes\")))\n",
    "    def suspendido_Estudiar_No_deberes(self):\n",
    "        self.declare(Fact(\"posible aprobado\"))\n",
    "        print(\"Lo he aprovado con un 5 pelado\")\n",
    "        \n",
    "    @Rule (AND(Fact(\"IA\"), Fact(\"copiar\")))\n",
    "    def suspender_IA_Copiar(self):\n",
    "        self.declare(Fact(\"suspendido ia copiar\"))\n",
    "        print(\"Ha supendido por utilizar IA y/o copiar\")\n",
    "\n",
    "engine = aprobar_suspender()\n",
    "engine.reset()\n",
    "\n",
    "engine.declare(Fact(\"IA\"))\n",
    "\n",
    "engine.run()"
   ]
  },
  {
   "cell_type": "code",
   "execution_count": 90,
   "id": "ab8588e4",
   "metadata": {},
   "outputs": [
    {
     "name": "stdout",
     "output_type": "stream",
     "text": [
      "Ha supendido por copiar\n"
     ]
    },
    {
     "data": {
      "text/plain": [
       "FactList([(0, InitialFact()),\n",
       "          (1, Fact('copiar')),\n",
       "          (2, Fact('suspendido_copiar'))])"
      ]
     },
     "execution_count": 90,
     "metadata": {},
     "output_type": "execute_result"
    }
   ],
   "source": [
    "engine.reset()\n",
    "engine.declare(Fact(\"copiar\"))\n",
    "engine.run()\n",
    "engine.facts"
   ]
  },
  {
   "cell_type": "code",
   "execution_count": 91,
   "id": "d8110ee8",
   "metadata": {},
   "outputs": [
    {
     "name": "stdout",
     "output_type": "stream",
     "text": [
      "Ha supendido por utilizar IA\n"
     ]
    },
    {
     "data": {
      "text/plain": [
       "FactList([(0, InitialFact()),\n",
       "          (1, Fact('IA')),\n",
       "          (2, Fact('estudiar')),\n",
       "          (3, Fact('suspendido_IA_estudiar')),\n",
       "          (4, Fact('suspendido_IA'))])"
      ]
     },
     "execution_count": 91,
     "metadata": {},
     "output_type": "execute_result"
    }
   ],
   "source": [
    "engine.reset()\n",
    "engine.declare(Fact(\"IA\"), Fact(\"estudiar\"))\n",
    "engine.run()\n",
    "engine.facts"
   ]
  },
  {
   "cell_type": "code",
   "execution_count": 92,
   "id": "4ce737d8",
   "metadata": {},
   "outputs": [
    {
     "name": "stdout",
     "output_type": "stream",
     "text": [
      "Ha aprovado porque ha estudiado y ha hecho los deberes\n"
     ]
    },
    {
     "data": {
      "text/plain": [
       "FactList([(0, InitialFact()),\n",
       "          (1, Fact('estudiar')),\n",
       "          (2, Fact('deberes')),\n",
       "          (3, Fact('aprovado deberes'))])"
      ]
     },
     "execution_count": 92,
     "metadata": {},
     "output_type": "execute_result"
    }
   ],
   "source": [
    "engine.reset()\n",
    "engine.declare(Fact(\"estudiar\"), Fact(\"deberes\"))\n",
    "engine.run()\n",
    "engine.facts"
   ]
  },
  {
   "cell_type": "code",
   "execution_count": 93,
   "id": "ce4df510",
   "metadata": {},
   "outputs": [
    {
     "name": "stdout",
     "output_type": "stream",
     "text": [
      "Ha aprovado porque ha estudiado y ha hecho los deberes\n",
      "Ha supendido por utilizar IA\n"
     ]
    },
    {
     "data": {
      "text/plain": [
       "FactList([(0, InitialFact()),\n",
       "          (1, Fact('IA')),\n",
       "          (2, Fact('estudiar')),\n",
       "          (3, Fact('deberes')),\n",
       "          (4, Fact('suspendido Ia estudiar deberes')),\n",
       "          (5, Fact('aprovado deberes')),\n",
       "          (6, Fact('suspendido_IA_estudiar')),\n",
       "          (7, Fact('suspendido_IA'))])"
      ]
     },
     "execution_count": 93,
     "metadata": {},
     "output_type": "execute_result"
    }
   ],
   "source": [
    "engine.reset()\n",
    "engine.declare(Fact(\"IA\"))\n",
    "engine.declare(Fact(\"estudiar\"))\n",
    "engine.declare(Fact(\"deberes\"))\n",
    "engine.run()\n",
    "engine.facts"
   ]
  },
  {
   "cell_type": "code",
   "execution_count": 94,
   "id": "221c7f3d",
   "metadata": {},
   "outputs": [
    {
     "name": "stdout",
     "output_type": "stream",
     "text": [
      "Ha supendido por copiar\n"
     ]
    },
    {
     "data": {
      "text/plain": [
       "FactList([(0, InitialFact()),\n",
       "          (1, Fact('copiar')),\n",
       "          (2, Fact('asistir')),\n",
       "          (3, Fact('suspendido copiar asistir')),\n",
       "          (4, Fact('suspendido_copiar'))])"
      ]
     },
     "execution_count": 94,
     "metadata": {},
     "output_type": "execute_result"
    }
   ],
   "source": [
    "engine.reset()\n",
    "engine.declare(Fact(\"copiar\"), Fact(\"asistir\"))\n",
    "engine.run()\n",
    "engine.facts"
   ]
  },
  {
   "cell_type": "code",
   "execution_count": 95,
   "id": "3e1ecf60",
   "metadata": {},
   "outputs": [
    {
     "name": "stdout",
     "output_type": "stream",
     "text": [
      "Ha aprovado por asistir y participar en clase\n"
     ]
    },
    {
     "data": {
      "text/plain": [
       "FactList([(0, InitialFact()),\n",
       "          (1, Fact('asistir')),\n",
       "          (2, Fact('participar')),\n",
       "          (3, Fact('aprovar asistir participar'))])"
      ]
     },
     "execution_count": 95,
     "metadata": {},
     "output_type": "execute_result"
    }
   ],
   "source": [
    "engine.reset()\n",
    "engine.declare(Fact(\"asistir\"), Fact(\"participar\"))\n",
    "engine.run()\n",
    "engine.facts"
   ]
  },
  {
   "cell_type": "code",
   "execution_count": 96,
   "id": "5f6ba878",
   "metadata": {},
   "outputs": [
    {
     "name": "stdout",
     "output_type": "stream",
     "text": [
      "Lo he aprovado con un 5 pelado\n"
     ]
    },
    {
     "data": {
      "text/plain": [
       "FactList([(0, InitialFact()),\n",
       "          (1, Fact('estudiar')),\n",
       "          (2, Fact('no deberes')),\n",
       "          (3, Fact('posible aprobado'))])"
      ]
     },
     "execution_count": 96,
     "metadata": {},
     "output_type": "execute_result"
    }
   ],
   "source": [
    "engine.reset()\n",
    "engine.declare(Fact(\"estudiar\"), Fact(\"no deberes\"))\n",
    "engine.run()\n",
    "engine.facts"
   ]
  },
  {
   "cell_type": "code",
   "execution_count": 97,
   "id": "90dfdf24",
   "metadata": {},
   "outputs": [
    {
     "name": "stdout",
     "output_type": "stream",
     "text": [
      "Ha supendido por utilizar IA y/o copiar\n",
      "Ha supendido por copiar\n",
      "Ha supendido por utilizar IA\n"
     ]
    },
    {
     "data": {
      "text/plain": [
       "FactList([(0, InitialFact()),\n",
       "          (1, Fact('IA')),\n",
       "          (2, Fact('copiar')),\n",
       "          (3, Fact('suspendido ia copiar')),\n",
       "          (4, Fact('suspendido_copiar')),\n",
       "          (5, Fact('suspendido_IA'))])"
      ]
     },
     "execution_count": 97,
     "metadata": {},
     "output_type": "execute_result"
    }
   ],
   "source": [
    "engine.reset()\n",
    "engine.declare(Fact(\"IA\"), Fact(\"copiar\"))\n",
    "engine.run()\n",
    "engine.facts"
   ]
  }
 ],
 "metadata": {
  "kernelspec": {
   "display_name": "Python 3",
   "language": "python",
   "name": "python3"
  },
  "language_info": {
   "codemirror_mode": {
    "name": "ipython",
    "version": 3
   },
   "file_extension": ".py",
   "mimetype": "text/x-python",
   "name": "python",
   "nbconvert_exporter": "python",
   "pygments_lexer": "ipython3",
   "version": "3.6.15"
  }
 },
 "nbformat": 4,
 "nbformat_minor": 5
}
