{
 "cells": [
  {
   "cell_type": "markdown",
   "metadata": {
    "id": "GUPGkhd9Wi6o"
   },
   "source": [
    "# **Exercici: Diagnòstic d'un Equip Informàtic amb un Sistema Basat en Regles**\n",
    "\n",
    "## **Escenari**\n",
    "Ets tècnic de suport informàtic i vols implementar un sistema automàtic que ajude a diagnosticar problemes bàsics en equips informàtics. Aquest sistema funciona amb regles \"si... aleshores\" per identificar problemes i suggerir solucions.\n",
    "\n",
    "## **Requeriments**\n",
    "1. El sistema ha de detectar problemes com:\n",
    "   - L'equip no s'encén.\n",
    "\n",
    "2. El sistema ha de fer preguntes a l'usuari per recopilar informació i utilitzar regles per arribar a una conclusió.\n",
    "3. Ha de mostrar el diagnòstic i una acció recomanada.\n",
    "\n",
    "## **Regles**\n",
    "\n",
    "### **Regla: Si l'ordinador no s'encén**\n",
    "- Comprova si el cable d'alimentació està connectat.\n",
    "  - **Si no està connectat**, connecta'l i torna a intentar-ho.\n",
    "  - **Si està connectat**, comprova si el botó d'engegada funciona.\n",
    "  - **Si no encen, esta connectat i el boto funciona**, ordinador trencat.\n",
    "\n",
    "\n",
    "## **Tasques**\n",
    "\n",
    "1. **Desenvolupa el sistema** en pseudocodi o en un llenguatge de programació com Python.\n",
    "   - Utilitza condicions `if...else` per implementar les regles.\n",
    "2. **Simula una interacció amb l'usuari** on el sistema fa preguntes i genera un diagnòstic.\n",
    "\n",
    "## **Pseudocodi d'exemple**\n",
    "\n",
    "```plaintext\n",
    "Pregunta: \"L'ordinador no s'encén? (sí/no)\"\n",
    "Si resposta és \"sí\":\n",
    "    Pregunta: \"El cable d'alimentació està connectat? (sí/no)\"\n",
    "    Si resposta és \"no\":\n",
    "        Mostra \"Connecta el cable d'alimentació.\"\n",
    "    Si resposta és \"sí\":\n",
    "        Mostra \"Comprova el botó d'engegada.\"\n",
    "    ...\n",
    "```"
   ]
  },
  {
   "cell_type": "code",
   "execution_count": 53,
   "metadata": {
    "colab": {
     "base_uri": "https://localhost:8080/"
    },
    "executionInfo": {
     "elapsed": 9383,
     "status": "ok",
     "timestamp": 1732635437380,
     "user": {
      "displayName": "Sebastian Ciscar Breitzler",
      "userId": "02561941394994713666"
     },
     "user_tz": -60
    },
    "id": "0qhnUOnEWeY-",
    "outputId": "d96b3454-655f-4781-99b7-2e47a546889d"
   },
   "outputs": [
    {
     "name": "stdout",
     "output_type": "stream",
     "text": [
      "Collecting git+https://github.com/openmotics/om-experta.git\n",
      "  Cloning https://github.com/openmotics/om-experta.git to /tmp/pip-req-build-tinrzhr_\n",
      "  Running command git clone --filter=blob:none --quiet https://github.com/openmotics/om-experta.git /tmp/pip-req-build-tinrzhr_\n",
      "  Resolved https://github.com/openmotics/om-experta.git to commit d35d53708a46482e1ee4e3a4bc1a36bc03492913\n",
      "  Installing build dependencies ... \u001b[?25ldone\n",
      "\u001b[?25h  Getting requirements to build wheel ... \u001b[?25ldone\n",
      "\u001b[?25h  Preparing metadata (pyproject.toml) ... \u001b[?25ldone\n",
      "\u001b[?25hRequirement already satisfied: frozendict==2.3.8 in /home/aluvesprada/Documentos/saa/venv/lib/python3.12/site-packages (from om-experta==1.9.8) (2.3.8)\n",
      "Requirement already satisfied: schema==0.6.7 in /home/aluvesprada/Documentos/saa/venv/lib/python3.12/site-packages (from om-experta==1.9.8) (0.6.7)\n"
     ]
    }
   ],
   "source": [
    "!pip install git+https://github.com/openmotics/om-experta.git\n"
   ]
  },
  {
   "cell_type": "code",
   "execution_count": 55,
   "metadata": {},
   "outputs": [
    {
     "name": "stdout",
     "output_type": "stream",
     "text": [
      "¿El ordenador se enciende? (si/no)\n",
      "Has respondido: no\n",
      "¿El cable de alimentación está conectado? (si/no)\n",
      "Has respondido: si\n",
      "¿El botón de encendido funciona? (si/no)\n",
      "Has respondido: no\n",
      "Comprueba la fuente de alimentación.\n"
     ]
    }
   ],
   "source": [
    "# Sistema de Diagnóstico de Problemas Informáticos\n",
    "\n",
    "def diagnostico():\n",
    "    print(\"¿El ordenador se enciende? (si/no)\")\n",
    "    respuesta = input().strip().lower()\n",
    "    print(f\"Has respondido: {respuesta}\")  # Muestra la respuesta inmediatamente después de la entrada\n",
    "\n",
    "    if respuesta == \"no\":\n",
    "        print(\"¿El cable de alimentación está conectado? (si/no)\")\n",
    "        cable = input().strip().lower()\n",
    "        print(f\"Has respondido: {cable}\")  # Muestra la respuesta inmediatamente después de la entrada\n",
    "\n",
    "        if cable == \"no\":\n",
    "            print(\"Conecta el cable de alimentación y vuelve a intentarlo.\")\n",
    "        elif cable == \"si\":\n",
    "            print(\"¿El botón de encendido funciona? (si/no)\")\n",
    "            boton = input().strip().lower()\n",
    "            print(f\"Has respondido: {boton}\")  # Muestra la respuesta inmediatamente después de la entrada\n",
    "\n",
    "            if boton == \"no\":\n",
    "                print(\"Comprueba la fuente de alimentación.\")\n",
    "            elif boton == \"si\":\n",
    "                print(\"enciende el ordenador y vuelve a intentarlo.\")\n",
    "            else:\n",
    "                print(\"Respuesta no válida. Por favor, responde con 'si' o 'no'.\")\n",
    "        else:\n",
    "            print(\"Respuesta no válida. Por favor, responde con 'si' o 'no'.\")\n",
    "    elif respuesta == \"si\":\n",
    "        print(\"El ordenador se enciende perfectamente.\")\n",
    "    else:\n",
    "        print(\"Respuesta no válida. Por favor, responde con 'si' o 'no'.\")\n",
    "\n",
    "# Ejecutar el sistema de diagnóstico\n",
    "diagnostico()\n"
   ]
  }
 ],
 "metadata": {
  "colab": {
   "authorship_tag": "ABX9TyMZbSFS/p5KSGTvpQR8yroG",
   "provenance": []
  },
  "kernelspec": {
   "display_name": "venv",
   "language": "python",
   "name": "python3"
  },
  "language_info": {
   "codemirror_mode": {
    "name": "ipython",
    "version": 3
   },
   "file_extension": ".py",
   "mimetype": "text/x-python",
   "name": "python",
   "nbconvert_exporter": "python",
   "pygments_lexer": "ipython3",
   "version": "3.12.3"
  }
 },
 "nbformat": 4,
 "nbformat_minor": 0
}
