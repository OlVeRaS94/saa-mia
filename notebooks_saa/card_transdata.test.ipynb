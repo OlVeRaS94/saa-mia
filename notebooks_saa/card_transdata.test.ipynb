import unittest

class TestDistanceFromHomeCounts(unittest.TestCase):
    def setUp(self):
        self.df = pd.read_csv("/home/aluvesprada/Documentos/saa/notebooks_saa/Notebooks-20250114/Datasets-20250115/card_transdata.csv")

    def test_distance_from_home_counts(self):
        # Assuming that the counts should be greater than 0
        self.assertGreater(self.df["distance_from_home"].value_counts().sum(), 0)

        # Assuming that the counts should not be NaN
        self.assertTrue(self.df["distance_from_home"].value_counts().notna().all())

        # Assuming that the counts should not be negative
        self.assertTrue((self.df["distance_from_home"].value_counts() >= 0).all())

if __name__ == '__main__':
    unittest.main()