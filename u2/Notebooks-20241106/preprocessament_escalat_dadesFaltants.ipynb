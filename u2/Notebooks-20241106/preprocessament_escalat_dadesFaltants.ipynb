{
 "cells": [
  {
   "cell_type": "markdown",
   "metadata": {},
   "source": [
    "# Escalats i normalització"
   ]
  },
  {
   "cell_type": "markdown",
   "metadata": {},
   "source": [
    "Per treballar amb escalats i normalitzacions, necessitem la llibreria scikit-learn:"
   ]
  },
  {
   "cell_type": "code",
   "execution_count": 41,
   "metadata": {},
   "outputs": [
    {
     "name": "stdout",
     "output_type": "stream",
     "text": [
      "Requirement already satisfied: scikit-learn in /home/joamuran/devtools/miniconda3/envs/proves/lib/python3.11/site-packages (1.3.1)\n",
      "Requirement already satisfied: numpy<2.0,>=1.17.3 in /home/joamuran/devtools/miniconda3/envs/proves/lib/python3.11/site-packages (from scikit-learn) (1.26.0)\n",
      "Requirement already satisfied: scipy>=1.5.0 in /home/joamuran/devtools/miniconda3/envs/proves/lib/python3.11/site-packages (from scikit-learn) (1.11.3)\n",
      "Requirement already satisfied: joblib>=1.1.1 in /home/joamuran/devtools/miniconda3/envs/proves/lib/python3.11/site-packages (from scikit-learn) (1.3.2)\n",
      "Requirement already satisfied: threadpoolctl>=2.0.0 in /home/joamuran/devtools/miniconda3/envs/proves/lib/python3.11/site-packages (from scikit-learn) (3.2.0)\n",
      "Note: you may need to restart the kernel to use updated packages.\n"
     ]
    }
   ],
   "source": [
    "pip install scikit-learn"
   ]
  },
  {
   "cell_type": "markdown",
   "metadata": {},
   "source": [
    "I importem al nostre codi la classe `ColumnTransformer`, del mòdul `sklearn.compose` i els diferents transformadors, del mòdul preprocessing."
   ]
  },
  {
   "cell_type": "code",
   "execution_count": 1,
   "metadata": {},
   "outputs": [],
   "source": [
    "# Importen les llibreríes necessàries:\n",
    "\n",
    "from sklearn.compose import ColumnTransformer\n",
    "from sklearn.preprocessing import MinMaxScaler, StandardScaler\n",
    "\n",
    "# També necessitarem Pandas i numpy\n",
    "import numpy as np\n",
    "import pandas as pd\n",
    "import matplotlib.pyplot as plt"
   ]
  },
  {
   "cell_type": "code",
   "execution_count": 2,
   "metadata": {},
   "outputs": [],
   "source": [
    "\n",
    "# Definim les dades\n",
    "dades=[1, 2, 3, 4, 5, 6, 7, 8, 9, 10]\n",
    "\n",
    "# Creem un Dataframe amb elles\n",
    "dataFrame=pd.DataFrame(dades, columns=['numeros'])\n",
    "\n",
    "# Ens guardem el nom de les columnes\n",
    "# (ja sabem que es diu numeros, però així\n",
    "#  treballem tot amb variables)\n",
    "nomsColumnes=dataFrame.columns.values\n"
   ]
  },
  {
   "cell_type": "code",
   "execution_count": 3,
   "metadata": {},
   "outputs": [
    {
     "data": {
      "text/plain": [
       "array([[-1.5666989 ],\n",
       "       [-1.21854359],\n",
       "       [-0.87038828],\n",
       "       [-0.52223297],\n",
       "       [-0.17407766],\n",
       "       [ 0.17407766],\n",
       "       [ 0.52223297],\n",
       "       [ 0.87038828],\n",
       "       [ 1.21854359],\n",
       "       [ 1.5666989 ]])"
      ]
     },
     "execution_count": 3,
     "metadata": {},
     "output_type": "execute_result"
    }
   ],
   "source": [
    "# Apliquem StandardScaler\n",
    "\n",
    "# Definim les transformacions per a l'escalat estàndard\n",
    "transformers_SS=[('StandardScaler', StandardScaler(), nomsColumnes)]\n",
    "\n",
    "# Definim el preprocessador Standard Scaler\n",
    "preprocessador_SS=ColumnTransformer(transformers_SS)\n",
    "\n",
    "# Inicialitzem la classe amb el min i el max\n",
    "# i apliquem les transformacions sobre la columna\n",
    "dadesPreprocessades=preprocessador_SS.fit_transform(dataFrame)\n",
    "\n",
    "# Veiem les dades estandarditzades\n",
    "dadesPreprocessades\n",
    "\n"
   ]
  },
  {
   "cell_type": "code",
   "execution_count": 4,
   "metadata": {},
   "outputs": [
    {
     "data": {
      "text/html": [
       "<div>\n",
       "<style scoped>\n",
       "    .dataframe tbody tr th:only-of-type {\n",
       "        vertical-align: middle;\n",
       "    }\n",
       "\n",
       "    .dataframe tbody tr th {\n",
       "        vertical-align: top;\n",
       "    }\n",
       "\n",
       "    .dataframe thead th {\n",
       "        text-align: right;\n",
       "    }\n",
       "</style>\n",
       "<table border=\"1\" class=\"dataframe\">\n",
       "  <thead>\n",
       "    <tr style=\"text-align: right;\">\n",
       "      <th></th>\n",
       "      <th>numeros</th>\n",
       "    </tr>\n",
       "  </thead>\n",
       "  <tbody>\n",
       "    <tr>\n",
       "      <th>count</th>\n",
       "      <td>1.000000e+01</td>\n",
       "    </tr>\n",
       "    <tr>\n",
       "      <th>mean</th>\n",
       "      <td>-6.661338e-17</td>\n",
       "    </tr>\n",
       "    <tr>\n",
       "      <th>std</th>\n",
       "      <td>1.054093e+00</td>\n",
       "    </tr>\n",
       "    <tr>\n",
       "      <th>min</th>\n",
       "      <td>-1.566699e+00</td>\n",
       "    </tr>\n",
       "    <tr>\n",
       "      <th>25%</th>\n",
       "      <td>-7.833495e-01</td>\n",
       "    </tr>\n",
       "    <tr>\n",
       "      <th>50%</th>\n",
       "      <td>0.000000e+00</td>\n",
       "    </tr>\n",
       "    <tr>\n",
       "      <th>75%</th>\n",
       "      <td>7.833495e-01</td>\n",
       "    </tr>\n",
       "    <tr>\n",
       "      <th>max</th>\n",
       "      <td>1.566699e+00</td>\n",
       "    </tr>\n",
       "  </tbody>\n",
       "</table>\n",
       "</div>"
      ],
      "text/plain": [
       "            numeros\n",
       "count  1.000000e+01\n",
       "mean  -6.661338e-17\n",
       "std    1.054093e+00\n",
       "min   -1.566699e+00\n",
       "25%   -7.833495e-01\n",
       "50%    0.000000e+00\n",
       "75%    7.833495e-01\n",
       "max    1.566699e+00"
      ]
     },
     "execution_count": 4,
     "metadata": {},
     "output_type": "execute_result"
    }
   ],
   "source": [
    "# Veiem les estadístiques, convertint abans aquest \n",
    "# vector en un dataFrame\n",
    "df=pd.DataFrame(dadesPreprocessades, columns=nomsColumnes)\n",
    "df.describe()"
   ]
  },
  {
   "cell_type": "code",
   "execution_count": 12,
   "metadata": {},
   "outputs": [
    {
     "name": "stdout",
     "output_type": "stream",
     "text": [
      "Mitjana amb numpy:  numeros   -6.661338e-17\n",
      "dtype: float64\n",
      "Desviació amb numpy:  numeros    1.0\n",
      "dtype: float64\n",
      "Desviació del dataFrame:  numeros    1.054093\n",
      "dtype: float64\n"
     ]
    }
   ],
   "source": [
    "# I calculem també la mitjana i la desviació\n",
    "# amb numpy\n",
    "\n",
    "mitjana=np.mean(df, axis=0)\n",
    "desviacio=np.std(df, axis=0)\n",
    "print(\"Mitjana amb numpy: \", mitjana)\n",
    "print(\"Desviació amb numpy: \", desviacio)\n",
    "print(\"Desviació del dataFrame: \", df.std())"
   ]
  },
  {
   "cell_type": "code",
   "execution_count": 5,
   "metadata": {},
   "outputs": [
    {
     "data": {
      "image/png": "[encoded data removed]",
      "text/plain": [
       "<Figure size 1500x500 with 2 Axes>"
      ]
     },
     "metadata": {},
     "output_type": "display_data"
    }
   ],
   "source": [
    "# També podem dibuixar les mostres,\n",
    "# estandarditzada i per estandarditzar:\n",
    "\n",
    "# Figura amb subfigures de 15 x 5\n",
    "fig = plt.figure(figsize=(15, 5)) \n",
    "\n",
    "# Creem els dos subgrafix\n",
    "grafic1 = fig.add_subplot(1, 3, 1)\n",
    "grafic2 = fig.add_subplot(1, 3, 2)\n",
    "grafic1.set_title(\"Dades originals\") \n",
    "grafic1.plot(dataFrame)\n",
    "grafic2.set_title(\"Dades escalades\")\n",
    "grafic2.plot(dadesPreprocessades)\n",
    "plt.show()\n"
   ]
  },
  {
   "cell_type": "code",
   "execution_count": 6,
   "metadata": {},
   "outputs": [
    {
     "data": {
      "text/plain": [
       "array([[0.        ],\n",
       "       [0.11111111],\n",
       "       [0.22222222],\n",
       "       [0.33333333],\n",
       "       [0.44444444],\n",
       "       [0.55555556],\n",
       "       [0.66666667],\n",
       "       [0.77777778],\n",
       "       [0.88888889],\n",
       "       [1.        ]])"
      ]
     },
     "execution_count": 6,
     "metadata": {},
     "output_type": "execute_result"
    }
   ],
   "source": [
    "# Escalat MinMax\n",
    "\n",
    "# Definim les transformacions per a l'escalat estàndard\n",
    "transformers_MM=[('Min Max Scaler', MinMaxScaler(), nomsColumnes)]\n",
    "\n",
    "# Definim el preprocessador Standard Scaler\n",
    "preprocessador_MM=ColumnTransformer(transformers_MM)\n",
    "\n",
    "# Inicialitzem la classe amb el min i el max\n",
    "# i apliquem les transformacions sobre la columna\n",
    "dadesPreprocessades_MM=preprocessador_MM.fit_transform(dataFrame)\n",
    "\n",
    "# Veiem les dades estandarditzades\n",
    "dadesPreprocessades_MM\n",
    "\n"
   ]
  },
  {
   "cell_type": "code",
   "execution_count": 7,
   "metadata": {},
   "outputs": [
    {
     "name": "stdout",
     "output_type": "stream",
     "text": [
      "Mitjana amb numpy:  numeros   -6.661338e-17\n",
      "dtype: float64\n",
      "Desviació amb numpy:  numeros    1.0\n",
      "dtype: float64\n",
      "Desviació del dataFrame:  numeros    1.054093\n",
      "dtype: float64\n"
     ]
    },
    {
     "data": {
      "image/png": "[encoded data removed]",
      "text/plain": [
       "<Figure size 1500x500 with 2 Axes>"
      ]
     },
     "metadata": {},
     "output_type": "display_data"
    }
   ],
   "source": [
    "# Obtenim de nou les estadístiques, per a aquest mètode\n",
    "df_MM=pd.DataFrame(dadesPreprocessades_MM, columns=nomsColumnes)\n",
    "df_MM.describe()\n",
    "\n",
    "# I calculem també la mitjana i la desviació\n",
    "# amb numpy\n",
    "\n",
    "mitjana=np.mean(df, axis=0)\n",
    "desviacio=np.std(df, axis=0)\n",
    "print(\"Mitjana amb numpy: \", mitjana)\n",
    "print(\"Desviació amb numpy: \", desviacio)\n",
    "print(\"Desviació del dataFrame: \", df.std())\n",
    "\n",
    "# Dibuix comparatiu de les mostres\n",
    "\n",
    "# Figura amb subfigures de 15 x 5\n",
    "fig = plt.figure(figsize=(15, 5)) \n",
    "\n",
    "# Creem els dos subgrafix\n",
    "grafic1 = fig.add_subplot(1, 3, 1)\n",
    "grafic2 = fig.add_subplot(1, 3, 2)\n",
    "grafic1.set_title(\"Dades originals\") \n",
    "grafic1.plot(dataFrame)\n",
    "grafic2.set_title(\"Dades escalades (MinMax)\")\n",
    "grafic2.plot(dadesPreprocessades_MM)\n",
    "plt.show()"
   ]
  },
  {
   "cell_type": "markdown",
   "metadata": {},
   "source": [
    "# Tractament de nuls\n",
    "\n",
    "Veiem un xicotet exemple sobre tractament de valors nuls:"
   ]
  },
  {
   "cell_type": "code",
   "execution_count": 8,
   "metadata": {},
   "outputs": [],
   "source": [
    "import pandas as pd\n",
    "\n",
    "# Definim les dades en diccionari\n",
    "data = {\n",
    "    'Nom': ['Alicia', 'Robert', 'Carol', 'David', 'Eva'],\n",
    "    'Edat': [25, 30, np.nan, 28, 22],\n",
    "    'Ciutat': ['Barcelona', 'Madrid', 'València', None, 'Barcelona']\n",
    "}\n",
    "\n",
    "# I creem el dataframe\n",
    "\n",
    "df = pd.DataFrame(data)"
   ]
  },
  {
   "cell_type": "markdown",
   "metadata": {},
   "source": [
    "\n",
    "Veiem quina informació sobre els nuls podem extraure'n amb les diferents funcions:"
   ]
  },
  {
   "cell_type": "code",
   "execution_count": null,
   "metadata": {},
   "outputs": [],
   "source": []
  },
  {
   "cell_type": "code",
   "execution_count": 17,
   "metadata": {},
   "outputs": [
    {
     "data": {
      "text/plain": [
       "Nom       5\n",
       "Edat      4\n",
       "Ciutat    4\n",
       "dtype: int64"
      ]
     },
     "execution_count": 17,
     "metadata": {},
     "output_type": "execute_result"
    }
   ],
   "source": [
    "# Nombre de valors no nuls en cada \n",
    "# columna del DataFrame\n",
    "# Com veurem, deueen haver 5 valors no \n",
    "# nuls a la columna Nom, i 4 valors no\n",
    "# nuls a les columnes Edat i Ciutat\n",
    "df.count()"
   ]
  },
  {
   "cell_type": "code",
   "execution_count": 18,
   "metadata": {},
   "outputs": [
    {
     "data": {
      "text/plain": [
       "1"
      ]
     },
     "execution_count": 18,
     "metadata": {},
     "output_type": "execute_result"
    }
   ],
   "source": [
    "# Quantitat de nuls que apareixen a la columna\n",
    "# Edat. En aquest cas, seria igual a 1 perquè \n",
    "# només hi ha una fila amb un valor nul a la \n",
    "# columna \"Edat.\n",
    "\n",
    "len(df[df['Edat'].isnull()])"
   ]
  },
  {
   "cell_type": "code",
   "execution_count": 19,
   "metadata": {},
   "outputs": [
    {
     "data": {
      "text/plain": [
       "Nom       False\n",
       "Edat       True\n",
       "Ciutat     True\n",
       "dtype: bool"
      ]
     },
     "execution_count": 19,
     "metadata": {},
     "output_type": "execute_result"
    }
   ],
   "source": [
    "# Obtenim uns sèrie que indica per a\n",
    "# cada columna, si hi ha valors nuls.\n",
    "# En aquest cas, la columna nom no deuria\n",
    "# tindre valors nuls i edat i ciutat sí\n",
    "df.isnull().any()"
   ]
  },
  {
   "cell_type": "code",
   "execution_count": 20,
   "metadata": {},
   "outputs": [
    {
     "data": {
      "text/plain": [
       "True"
      ]
     },
     "execution_count": 20,
     "metadata": {},
     "output_type": "execute_result"
    }
   ],
   "source": [
    "# Retorna un valor booleà que indica si hi \n",
    "# ha valors nuls en qualsevol part del DataFrame. \n",
    "# En aquest cas, tornaria cert  perquè sí que \n",
    "# hi ha valors nuls, en la columna Edat i Ciutat.\n",
    "df.isnull().any().any()"
   ]
  },
  {
   "cell_type": "code",
   "execution_count": 21,
   "metadata": {},
   "outputs": [
    {
     "data": {
      "text/plain": [
       "Nom       0\n",
       "Edat      1\n",
       "Ciutat    1\n",
       "dtype: int64"
      ]
     },
     "execution_count": 21,
     "metadata": {},
     "output_type": "execute_result"
    }
   ],
   "source": [
    "# Nombre de valors nuls en cada \n",
    "# columna del DataFrame.\n",
    "# Ens deuria indicar que a la \n",
    "# columna Nom no hi ha nuls i\n",
    "# en cadascuna de les columnes \n",
    "# Edat i Ciutat sí que hi ha.\n",
    "\n",
    "df.isnull().sum()"
   ]
  },
  {
   "cell_type": "code",
   "execution_count": 31,
   "metadata": {},
   "outputs": [
    {
     "data": {
      "text/plain": [
       "1"
      ]
     },
     "execution_count": 31,
     "metadata": {},
     "output_type": "execute_result"
    }
   ],
   "source": [
    "# Nombre total de valors nuls al Dataset\n",
    "# Com podem veure, aquest valor serà igual a 2.\n",
    "df.isnull().sum().sum()"
   ]
  },
  {
   "cell_type": "markdown",
   "metadata": {},
   "source": [
    "## Imputant valors al DataFrame"
   ]
  },
  {
   "cell_type": "markdown",
   "metadata": {},
   "source": [
    "### Exemple amb SimpleImputer"
   ]
  },
  {
   "cell_type": "code",
   "execution_count": 35,
   "metadata": {},
   "outputs": [
    {
     "data": {
      "text/html": [
       "<div>\n",
       "<style scoped>\n",
       "    .dataframe tbody tr th:only-of-type {\n",
       "        vertical-align: middle;\n",
       "    }\n",
       "\n",
       "    .dataframe tbody tr th {\n",
       "        vertical-align: top;\n",
       "    }\n",
       "\n",
       "    .dataframe thead th {\n",
       "        text-align: right;\n",
       "    }\n",
       "</style>\n",
       "<table border=\"1\" class=\"dataframe\">\n",
       "  <thead>\n",
       "    <tr style=\"text-align: right;\">\n",
       "      <th></th>\n",
       "      <th>Nom</th>\n",
       "      <th>Edat</th>\n",
       "      <th>Ciutat</th>\n",
       "    </tr>\n",
       "  </thead>\n",
       "  <tbody>\n",
       "    <tr>\n",
       "      <th>0</th>\n",
       "      <td>Alicia</td>\n",
       "      <td>25.00</td>\n",
       "      <td>Barcelona</td>\n",
       "    </tr>\n",
       "    <tr>\n",
       "      <th>1</th>\n",
       "      <td>Robert</td>\n",
       "      <td>30.00</td>\n",
       "      <td>Madrid</td>\n",
       "    </tr>\n",
       "    <tr>\n",
       "      <th>2</th>\n",
       "      <td>Carol</td>\n",
       "      <td>26.25</td>\n",
       "      <td>València</td>\n",
       "    </tr>\n",
       "    <tr>\n",
       "      <th>3</th>\n",
       "      <td>David</td>\n",
       "      <td>28.00</td>\n",
       "      <td>Desconegut</td>\n",
       "    </tr>\n",
       "    <tr>\n",
       "      <th>4</th>\n",
       "      <td>Eva</td>\n",
       "      <td>22.00</td>\n",
       "      <td>Barcelona</td>\n",
       "    </tr>\n",
       "  </tbody>\n",
       "</table>\n",
       "</div>"
      ],
      "text/plain": [
       "      Nom   Edat      Ciutat\n",
       "0  Alicia  25.00   Barcelona\n",
       "1  Robert  30.00      Madrid\n",
       "2   Carol  26.25    València\n",
       "3   David  28.00  Desconegut\n",
       "4     Eva  22.00   Barcelona"
      ]
     },
     "execution_count": 35,
     "metadata": {},
     "output_type": "execute_result"
    }
   ],
   "source": [
    "from sklearn.impute import SimpleImputer\n",
    "\n",
    "# Crea una instància de SimpleImputer amb \n",
    "# l'estratègia 'constant' i el valor \"Desconegut\"\n",
    "# Definim els valors missing amb None\n",
    "imputer = SimpleImputer(missing_values=None, strategy='constant', fill_value='Desconegut')\n",
    "\n",
    "# Ajusta el SimpleImputer a les columnes \n",
    "# amb valors nuls de tipus cadena\n",
    "imputer.fit(df[['Ciutat']])\n",
    "\n",
    "# Creem un altre imputer per a la columna d'edat, amb\n",
    "# una estratègia per obtenir la mitja\n",
    "# missing_values no caldria indicar-lo, ja que és np.nan\n",
    "imputerEdat=SimpleImputer(missing_values=np.nan, strategy='mean')\n",
    "\n",
    "# Ajustem aquest imputer a les columnes\n",
    "imputerEdat.fit(df[['Edat']])\n",
    "\n",
    "# Transforma el DataFrame omplint els valors nuls amb la constant especificada\n",
    "df[['Ciutat']] = imputer.transform(df[['Ciutat']])\n",
    "df[['Edat']] = imputerEdat.transform(df[['Edat']])\n",
    "\n",
    "df"
   ]
  },
  {
   "cell_type": "markdown",
   "metadata": {},
   "source": [
    "### Exemple amb KNNImputer"
   ]
  },
  {
   "cell_type": "code",
   "execution_count": 58,
   "metadata": {},
   "outputs": [],
   "source": [
    "# Redefinim el DataFrame\n",
    "\n",
    "data = {\n",
    "    'Nom': ['Alicia', 'Robert', 'Carol', 'David', 'Eva'],\n",
    "    'Edat': [25, 30, np.nan, 28, 22],\n",
    "    'Ciutat': ['Barcelona', 'Madrid', 'València', None, 'Barcelona']\n",
    "}\n",
    "\n",
    "df = pd.DataFrame(data)"
   ]
  },
  {
   "cell_type": "code",
   "execution_count": 48,
   "metadata": {},
   "outputs": [
    {
     "data": {
      "text/html": [
       "<div>\n",
       "<style scoped>\n",
       "    .dataframe tbody tr th:only-of-type {\n",
       "        vertical-align: middle;\n",
       "    }\n",
       "\n",
       "    .dataframe tbody tr th {\n",
       "        vertical-align: top;\n",
       "    }\n",
       "\n",
       "    .dataframe thead th {\n",
       "        text-align: right;\n",
       "    }\n",
       "</style>\n",
       "<table border=\"1\" class=\"dataframe\">\n",
       "  <thead>\n",
       "    <tr style=\"text-align: right;\">\n",
       "      <th></th>\n",
       "      <th>Nom</th>\n",
       "      <th>Edat</th>\n",
       "      <th>Ciutat</th>\n",
       "    </tr>\n",
       "  </thead>\n",
       "  <tbody>\n",
       "    <tr>\n",
       "      <th>0</th>\n",
       "      <td>Alicia</td>\n",
       "      <td>25.00</td>\n",
       "      <td>Barcelona</td>\n",
       "    </tr>\n",
       "    <tr>\n",
       "      <th>1</th>\n",
       "      <td>Robert</td>\n",
       "      <td>30.00</td>\n",
       "      <td>Madrid</td>\n",
       "    </tr>\n",
       "    <tr>\n",
       "      <th>2</th>\n",
       "      <td>Carol</td>\n",
       "      <td>26.25</td>\n",
       "      <td>València</td>\n",
       "    </tr>\n",
       "    <tr>\n",
       "      <th>3</th>\n",
       "      <td>David</td>\n",
       "      <td>28.00</td>\n",
       "      <td>Desconegut</td>\n",
       "    </tr>\n",
       "    <tr>\n",
       "      <th>4</th>\n",
       "      <td>Eva</td>\n",
       "      <td>22.00</td>\n",
       "      <td>Barcelona</td>\n",
       "    </tr>\n",
       "  </tbody>\n",
       "</table>\n",
       "</div>"
      ],
      "text/plain": [
       "      Nom   Edat      Ciutat\n",
       "0  Alicia  25.00   Barcelona\n",
       "1  Robert  30.00      Madrid\n",
       "2   Carol  26.25    València\n",
       "3   David  28.00  Desconegut\n",
       "4     Eva  22.00   Barcelona"
      ]
     },
     "execution_count": 48,
     "metadata": {},
     "output_type": "execute_result"
    }
   ],
   "source": [
    "# Reomplim amb KNNImputer\n",
    "\n",
    "from sklearn.impute import KNNImputer, SimpleImputer\n",
    "\n",
    "# Definim l'imputer per a l'edat amb SimpleImputer\n",
    "imputer = SimpleImputer(missing_values=None, strategy='constant', fill_value='Desconegut')\n",
    "\n",
    "# I imputer_knn per a l'edat\n",
    "imputer_knn=KNNImputer(missing_values=np.nan,n_neighbors=2)\n",
    "\n",
    "# Ajustem valors i apliquem les transformacions\n",
    "imputer.fit(df[['Ciutat']])\n",
    "\n",
    "imputer_knn.fit(df[['Edat']])\n",
    "\n",
    "df[['Ciutat']] = imputer.transform(df[['Ciutat']])\n",
    "df[['Edat']] = imputer_knn.transform(df[['Edat']])\n",
    "\n",
    "df\n"
   ]
  },
  {
   "cell_type": "code",
   "execution_count": 59,
   "metadata": {},
   "outputs": [
    {
     "data": {
      "text/html": [
       "<div>\n",
       "<style scoped>\n",
       "    .dataframe tbody tr th:only-of-type {\n",
       "        vertical-align: middle;\n",
       "    }\n",
       "\n",
       "    .dataframe tbody tr th {\n",
       "        vertical-align: top;\n",
       "    }\n",
       "\n",
       "    .dataframe thead th {\n",
       "        text-align: right;\n",
       "    }\n",
       "</style>\n",
       "<table border=\"1\" class=\"dataframe\">\n",
       "  <thead>\n",
       "    <tr style=\"text-align: right;\">\n",
       "      <th></th>\n",
       "      <th>Nom</th>\n",
       "      <th>Edat</th>\n",
       "      <th>Ciutat</th>\n",
       "    </tr>\n",
       "  </thead>\n",
       "  <tbody>\n",
       "    <tr>\n",
       "      <th>0</th>\n",
       "      <td>Alicia</td>\n",
       "      <td>25.00</td>\n",
       "      <td>Barcelona</td>\n",
       "    </tr>\n",
       "    <tr>\n",
       "      <th>1</th>\n",
       "      <td>Robert</td>\n",
       "      <td>30.00</td>\n",
       "      <td>Madrid</td>\n",
       "    </tr>\n",
       "    <tr>\n",
       "      <th>2</th>\n",
       "      <td>Carol</td>\n",
       "      <td>26.25</td>\n",
       "      <td>València</td>\n",
       "    </tr>\n",
       "    <tr>\n",
       "      <th>3</th>\n",
       "      <td>David</td>\n",
       "      <td>28.00</td>\n",
       "      <td>None</td>\n",
       "    </tr>\n",
       "    <tr>\n",
       "      <th>4</th>\n",
       "      <td>Eva</td>\n",
       "      <td>22.00</td>\n",
       "      <td>Barcelona</td>\n",
       "    </tr>\n",
       "  </tbody>\n",
       "</table>\n",
       "</div>"
      ],
      "text/plain": [
       "      Nom   Edat     Ciutat\n",
       "0  Alicia  25.00  Barcelona\n",
       "1  Robert  30.00     Madrid\n",
       "2   Carol  26.25   València\n",
       "3   David  28.00       None\n",
       "4     Eva  22.00  Barcelona"
      ]
     },
     "execution_count": 59,
     "metadata": {},
     "output_type": "execute_result"
    }
   ],
   "source": [
    "from sklearn.experimental import enable_iterative_imputer\n",
    "from sklearn.impute import IterativeImputer\n",
    "\n",
    "imputer = IterativeImputer(max_iter=15)\n",
    "imputer.fit(df[['Edat']])\n",
    "df[['Edat']]=imputer.transform(df[['Edat']])\n",
    "\n",
    "df"
   ]
  },
  {
   "cell_type": "markdown",
   "metadata": {},
   "source": [
    "**Conjunts de dades homogenis**\n",
    "\n",
    "Quan les diferents columnes tenen tipus de dades diferents, hem d'aplicar les transformacions per columna, tal i com hem vist als exemples. Quan un Dataframe té dades homogènies, no cal ser tan específic, i podem treballar directament amb tot el Dataframe. Veiem-ho amb un exemple."
   ]
  },
  {
   "cell_type": "code",
   "execution_count": 62,
   "metadata": {},
   "outputs": [
    {
     "name": "stdout",
     "output_type": "stream",
     "text": [
      "      0    1  2  3     4  5    6\n",
      "0  10.0  8.0  9  5   NaN  5  NaN\n",
      "1   4.0  NaN  2  7   8.0  2  NaN\n",
      "2   NaN  6.0  1  8   9.0  0  9.0\n",
      "3   4.0  NaN  2  4  78.0  2  NaN\n",
      "Processat:\n"
     ]
    },
    {
     "data": {
      "text/plain": [
       "array([[ 10.        ,   8.        ,   9.        ,   5.        ,\n",
       "        -21.52950063,   5.        ,   9.        ],\n",
       "       [  4.        ,   6.11459769,   2.        ,   7.        ,\n",
       "          8.        ,   2.        ,   9.        ],\n",
       "       [  2.56638108,   6.        ,   1.        ,   8.        ,\n",
       "          9.        ,   0.        ,   9.        ],\n",
       "       [  4.        ,   2.19301826,   2.        ,   4.        ,\n",
       "         78.        ,   2.        ,   9.        ]])"
      ]
     },
     "execution_count": 62,
     "metadata": {},
     "output_type": "execute_result"
    }
   ],
   "source": [
    "from sklearn.experimental import enable_iterative_imputer\n",
    "from sklearn.impute import IterativeImputer\n",
    "df=pd.DataFrame([[10,8,9, 5,np.nan,5],\n",
    "                 [4,np.nan,2,7,8, 2],\n",
    "                 [np.nan,6,1,8,9,0,9],\n",
    "                 [4,np.nan,2,4,78, 2]])\n",
    "\n",
    "print(df)\n",
    "\n",
    "print (\"Processat:\")\n",
    "\n",
    "\n",
    "imputador = IterativeImputer(max_iter=15)\n",
    "df=imputador.fit_transform(df)\n",
    "\n",
    "df\n"
   ]
  }
 ],
 "metadata": {
  "kernelspec": {
   "display_name": "proves",
   "language": "python",
   "name": "python3"
  },
  "language_info": {
   "codemirror_mode": {
    "name": "ipython",
    "version": 3
   },
   "file_extension": ".py",
   "mimetype": "text/x-python",
   "name": "python",
   "nbconvert_exporter": "python",
   "pygments_lexer": "ipython3",
   "version": "3.11.5"
  }
 },
 "nbformat": 4,
 "nbformat_minor": 2
}
