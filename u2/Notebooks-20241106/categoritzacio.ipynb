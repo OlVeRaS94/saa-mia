{
 "cells": [
  {
   "cell_type": "markdown",
   "metadata": {},
   "source": [
    "# Exemples de categorització"
   ]
  },
  {
   "cell_type": "code",
   "execution_count": 1,
   "metadata": {},
   "outputs": [
    {
     "name": "stdout",
     "output_type": "stream",
     "text": [
      "Dades codificades:  [0 0 1 2 0]\n",
      "Codis/Índex utilitzats Index(['b', 'a', 'c'], dtype='object')\n"
     ]
    }
   ],
   "source": [
    "# Exemple amb factorize(): Converteix variables categòriques en numèriques, sense importar-ne la relació numèrica.\n",
    "\n",
    "import pandas as pd\n",
    "\n",
    "data = pd.Series(['b', 'b', 'a', 'c', 'b'])\n",
    "codificacio, indexUnics = pd.factorize(data)\n",
    "print(\"Dades codificades: \",codificacio)\n",
    "print(\"Codis/Índex utilitzats\", indexUnics)"
   ]
  },
  {
   "cell_type": "markdown",
   "metadata": {},
   "source": [
    "En aquest exemple, `codificacio` conté els valors numèrics associats a les categories, mentre que `indexUniques` conté els valors únics utilitzats per als índex: el 0 é la `b`, l'1 és la `a` i el 2 és la `c`."
   ]
  },
  {
   "cell_type": "markdown",
   "metadata": {},
   "source": [
    "La funció `factorize` admet un paràmetre *sort* que ordena prèviament les categoríes. Mirem-ho al següent exemple:"
   ]
  },
  {
   "cell_type": "code",
   "execution_count": 155,
   "metadata": {},
   "outputs": [
    {
     "name": "stdout",
     "output_type": "stream",
     "text": [
      "Dades codificades:  [1 1 0 2 1]\n",
      "Codis/Índex utilitzats Index(['a', 'b', 'c'], dtype='object')\n"
     ]
    }
   ],
   "source": [
    "codificacio, indexUnics = pd.factorize(data,sort=True)\n",
    "print(\"Dades codificades: \",codificacio)\n",
    "print(\"Codis/Índex utilitzats\", indexUnics)"
   ]
  },
  {
   "cell_type": "markdown",
   "metadata": {},
   "source": [
    "En aquest cas, el 0 és la `a`, l'1 és la `b`i el 2 és la `c`."
   ]
  },
  {
   "cell_type": "markdown",
   "metadata": {},
   "source": [
    "Per altra banda, els valors nuls (`NaN`) es codifiquen com a -1. Per exemple:"
   ]
  },
  {
   "cell_type": "code",
   "execution_count": 156,
   "metadata": {},
   "outputs": [
    {
     "name": "stdout",
     "output_type": "stream",
     "text": [
      "Dades codificades:  [ 0 -1  1  2  0]\n",
      "Codis/Índex utilitzats Index(['b', 'a', 'c'], dtype='object')\n"
     ]
    }
   ],
   "source": [
    "codis, index=pd.factorize(pd.Series(['b', None, 'a', 'c', 'b']))\n",
    "\n",
    "print(\"Dades codificades: \",codis)\n",
    "print(\"Codis/Índex utilitzats\", index)\n"
   ]
  },
  {
   "cell_type": "markdown",
   "metadata": {},
   "source": [
    "Aquest valor -1 es coneix com sentinella. Si en lloc de -1 volem que es tracten els nuls com un valor més, i per tant s'associe un índex, farem ús del paràmetre booleà `use_na_sentinel`. Aquest té com a valor predetarminat *True*, pel que fa ús del -1 com a sentinella. Si l'establim a *False*, es crearà un índex nou.\n",
    "\n",
    "Veiem-ho amb un exemple:"
   ]
  },
  {
   "cell_type": "code",
   "execution_count": 157,
   "metadata": {},
   "outputs": [
    {
     "name": "stdout",
     "output_type": "stream",
     "text": [
      "Dades codificades:  [ 0  0 -1  1  2  2  3 -1]\n",
      "Codis/Índex utilitzats Index([1.0, 2.0, 3.0, 4.0], dtype='float64')\n",
      " \n",
      "Dades codificades:  [0 0 1 2 3 3 4 1]\n",
      "Codis/Índex utilitzats Index([1.0, nan, 2.0, 3.0, 4.0], dtype='float64')\n"
     ]
    }
   ],
   "source": [
    "import numpy as np\n",
    "\n",
    "# Exemple amb use_na_sentinel a True (predeterminat)\n",
    "codis,index = pd.factorize(pd.Series([1, 1, np.NaN, 2, 3, 3, 4, None]))\n",
    "\n",
    "print(\"Dades codificades: \",codis)\n",
    "print(\"Codis/Índex utilitzats\", index)\n",
    "\n",
    "# Exemple amb use_na_sentinel a False\n",
    "codis,index = pd.factorize(pd.Series([1, 1, np.NaN, 2, 3, 3, 4, None]), use_na_sentinel=False)\n",
    "\n",
    "print(\" \\nDades codificades: \",codis)\n",
    "print(\"Codis/Índex utilitzats\", index)"
   ]
  },
  {
   "cell_type": "markdown",
   "metadata": {},
   "source": [
    "Com veiem, al prime cas, els nuls (tant `np.NaN` com `None`) s'han codificat amb -1, i no s'ha creat un índex. En canvi, al segon exemple Veiem que s'ha creat un índex 1 per al valor `nan`, i els valors que eren nuls, ara prenen aquest valor 1."
   ]
  },
  {
   "cell_type": "markdown",
   "metadata": {},
   "source": [
    "### Exercici\n",
    "\n",
    "**Proveu a factoritzar el següent Dataframe**\n",
    "\n",
    "```py\n",
    "df = pd.DataFrame([[\"VVLL 1\",\"Rojo\",1100], [\"Seat\",\"Verde\",1200],\n",
    "                   [\"Audi\",np.NaN,1230], [\"Seat\",np.NaN,1300],\n",
    "                   [np.NaN,\"Verde\",1450], [\"Citr A1\",\"Blanco\",1000],\n",
    "                   [\"Ford\",\"Rojo\",1500],[\"BBWW\",\"Rojo\",1500],\n",
    "                   [\"Dacia\",np.NaN,1450], [np.NaN,\"Blanco\",1000],\n",
    "                   [\"Tesla\",\"Rojo\",3500],[\"HunDai\",np.NaN,1500],\n",
    "                   ], \n",
    "                  columns=[\"modelo\", \"color\",\"precio\"])\n",
    "```\n",
    "\n",
    "**Creeu una nova cel·la al notebook i intenteu respondre abans de veure la solució***\n",
    "\n",
    "Pistes:\n",
    "\n",
    "* Cal aplicar factorització columna a columna\n",
    "* Per juntar les columnes de nou fem ús de la funció `stack` de numpy: `np.stack((columnes_separade_per_comes), axis=1)`"
   ]
  },
  {
   "cell_type": "code",
   "execution_count": 19,
   "metadata": {},
   "outputs": [
    {
     "name": "stdout",
     "output_type": "stream",
     "text": [
      "     modelo   color  precio\n",
      "0    VVLL 1    Rojo    1100\n",
      "1      Seat   Verde    1200\n",
      "2      Audi     NaN    1230\n",
      "3      Seat     NaN    1300\n",
      "4       NaN   Verde    1450\n",
      "5   Citr A1  Blanco    1000\n",
      "6      Ford    Rojo    1500\n",
      "7      BBWW    Rojo    1500\n",
      "8     Dacia     NaN    1450\n",
      "9       NaN  Blanco    1000\n",
      "10    Tesla    Rojo    3500\n",
      "11   HunDai     NaN    1500\n"
     ]
    }
   ],
   "source": [
    "# Solució a l'exercici\n",
    "\n",
    "# Importem les llibreries\n",
    "import numpy as np\n",
    "import pandas as pd\n",
    "\n",
    "# Definim el DataFrame:\n",
    "\n",
    "df = pd.DataFrame([[\"VVLL 1\",\"Rojo\",1100], [\"Seat\",\"Verde\",1200],\n",
    "                   [\"Audi\",np.nan,1230], [\"Seat\",np.nan,1300],\n",
    "                   [np.nan,\"Verde\",1450], [\"Citr A1\",\"Blanco\",1000],\n",
    "                   [\"Ford\",\"Rojo\",1500],[\"BBWW\",\"Rojo\",1500],\n",
    "                   [\"Dacia\",np.nan,1450], [np.nan,\"Blanco\",1000],\n",
    "                   [\"Tesla\",\"Rojo\",3500],[\"HunDai\",np.nan,1500],\n",
    "                   ], \n",
    "                  columns=[\"modelo\", \"color\",\"precio\"])\n",
    "\n",
    "print(df)\n",
    "\n",
    "\n"
   ]
  },
  {
   "cell_type": "code",
   "execution_count": 21,
   "metadata": {},
   "outputs": [
    {
     "ename": "TypeError",
     "evalue": "'DataFrame' object is not callable",
     "output_type": "error",
     "traceback": [
      "\u001b[0;31m---------------------------------------------------------------------------\u001b[0m",
      "\u001b[0;31mTypeError\u001b[0m                                 Traceback (most recent call last)",
      "Cell \u001b[0;32mIn[21], line 4\u001b[0m\n\u001b[1;32m      2\u001b[0m \u001b[38;5;28;01mimport\u001b[39;00m \u001b[38;5;21;01mpreprocessing\u001b[39;00m\n\u001b[1;32m      3\u001b[0m df[\u001b[38;5;124m'\u001b[39m\u001b[38;5;124mmodelo\u001b[39m\u001b[38;5;124m'\u001b[39m]\u001b[38;5;241m.\u001b[39mfillna(\u001b[38;5;124m'\u001b[39m\u001b[38;5;124mDeconocido\u001b[39m\u001b[38;5;124m'\u001b[39m, inplace\u001b[38;5;241m=\u001b[39m\u001b[38;5;28;01mTrue\u001b[39;00m)\n\u001b[0;32m----> 4\u001b[0m \u001b[43mdf\u001b[49m\u001b[43m(\u001b[49m\u001b[38;5;124;43m'\u001b[39;49m\u001b[38;5;124;43mcolor\u001b[39;49m\u001b[38;5;124;43m'\u001b[39;49m\u001b[43m)\u001b[49m\u001b[38;5;241m.\u001b[39mfillna(\u001b[38;5;124m'\u001b[39m\u001b[38;5;124mDesconocido\u001b[39m\u001b[38;5;124m'\u001b[39m, inplace\u001b[38;5;241m=\u001b[39m\u001b[38;5;28;01mTrue\u001b[39;00m)\n\u001b[1;32m      5\u001b[0m codiModelo, indexModel \u001b[38;5;241m=\u001b[39m pd\u001b[38;5;241m.\u001b[39mfactorize(df[\u001b[38;5;124m'\u001b[39m\u001b[38;5;124mmodelo\u001b[39m\u001b[38;5;124m'\u001b[39m])\n\u001b[1;32m      6\u001b[0m codiColor, indexColor \u001b[38;5;241m=\u001b[39m pd\u001b[38;5;241m.\u001b[39mfactorize(df[\u001b[38;5;124m'\u001b[39m\u001b[38;5;124mcolor\u001b[39m\u001b[38;5;124m'\u001b[39m])\n",
      "\u001b[0;31mTypeError\u001b[0m: 'DataFrame' object is not callable"
     ]
    }
   ],
   "source": [
    "import sklearn \n",
    "import preprocessing\n",
    "df['modelo'].fillna('Deconocido', inplace=True)\n",
    "df('color').fillna('Desconocido', inplace=True)\n",
    "codiModelo, indexModel = pd.factorize(df['modelo'])\n",
    "codiColor, indexColor = pd.factorize(df['color'])\n",
    "precio_escalado = preprocessing.MinMaxScaler().fit_transform(df['precio'].values.reshape(-1,1))\n",
    "datosMix = np.stack([codiModelo,codiColor, precio_escalado.reshape(-1)], axis=1)\n",
    "dfdatosMix = pd.DataFrame(datosMix, columns=['modelo', 'color', 'precio'])\n",
    "dfdatosMix"
   ]
  },
  {
   "cell_type": "markdown",
   "metadata": {},
   "source": [
    "## Categorització de dades categòriques ordinals\n",
    "\n",
    "Anem a fer un exemple sobre les valoracions d'un restaurant. Als clients se'ls passa una enquesa sobre el servei i la qualitat dels productes, on les respostes estan organitzades en les següents categories:\n",
    "\n",
    "* Satiscacció amb el servei:\n",
    "    * Molt insatisfet\n",
    "    * Insatisfet\n",
    "    * Neutral\n",
    "    * Satisfet\n",
    "    * Molt satisfet\n",
    "\n",
    "* Qualitat dels productes:\n",
    "    * Mala,\n",
    "    * Bona\n",
    "    * Molt bona\n",
    "    * Excel·lent\n"
   ]
  },
  {
   "cell_type": "markdown",
   "metadata": {},
   "source": [
    "### Codificador OrinalEncoder"
   ]
  },
  {
   "cell_type": "code",
   "execution_count": null,
   "metadata": {},
   "outputs": [
    {
     "data": {
      "text/html": [
       "<div>\n",
       "<style scoped>\n",
       "    .dataframe tbody tr th:only-of-type {\n",
       "        vertical-align: middle;\n",
       "    }\n",
       "\n",
       "    .dataframe tbody tr th {\n",
       "        vertical-align: top;\n",
       "    }\n",
       "\n",
       "    .dataframe thead th {\n",
       "        text-align: right;\n",
       "    }\n",
       "</style>\n",
       "<table border=\"1\" class=\"dataframe\">\n",
       "  <thead>\n",
       "    <tr style=\"text-align: right;\">\n",
       "      <th></th>\n",
       "      <th>servei</th>\n",
       "      <th>qualitat</th>\n",
       "    </tr>\n",
       "  </thead>\n",
       "  <tbody>\n",
       "    <tr>\n",
       "      <th>0</th>\n",
       "      <td>Molt insatisfet</td>\n",
       "      <td>Mala</td>\n",
       "    </tr>\n",
       "    <tr>\n",
       "      <th>1</th>\n",
       "      <td>Insatisfet</td>\n",
       "      <td>Bona</td>\n",
       "    </tr>\n",
       "    <tr>\n",
       "      <th>2</th>\n",
       "      <td>Neutral</td>\n",
       "      <td>Molt bona</td>\n",
       "    </tr>\n",
       "    <tr>\n",
       "      <th>3</th>\n",
       "      <td>Satisfet</td>\n",
       "      <td>Excel·lent</td>\n",
       "    </tr>\n",
       "    <tr>\n",
       "      <th>4</th>\n",
       "      <td>Molt satisfet</td>\n",
       "      <td>Mala</td>\n",
       "    </tr>\n",
       "    <tr>\n",
       "      <th>5</th>\n",
       "      <td>Molt insatisfet</td>\n",
       "      <td>Bona</td>\n",
       "    </tr>\n",
       "  </tbody>\n",
       "</table>\n",
       "</div>"
      ],
      "text/plain": [
       "            servei    qualitat\n",
       "0  Molt insatisfet        Mala\n",
       "1       Insatisfet        Bona\n",
       "2          Neutral   Molt bona\n",
       "3         Satisfet  Excel·lent\n",
       "4    Molt satisfet        Mala\n",
       "5  Molt insatisfet        Bona"
      ]
     },
     "execution_count": 159,
     "metadata": {},
     "output_type": "execute_result"
    }
   ],
   "source": [
    "import pandas as pd\n",
    "import numpy as np\n",
    "\n",
    "# Definim les diferents categories\n",
    "categories_servei = [\"Molt insatisfet\", \"Insatisfet\", \"Neutral\",\"Satisfet\", \"Molt satisfet\"]\n",
    "categories_qualitat = [\"Mala\", \"Bona\", \"Molt bona\", \"Excel·lent\"]\n",
    "\n",
    "\n",
    "# I ara definim les dades de l'enquesta realitzada\n",
    "\n",
    "enquesta={\"servei\":[\"Molt insatisfet\", \"Insatisfet\", \"Neutral\",\"Satisfet\", \"Molt satisfet\",\"Molt insatisfet\"],\n",
    "           \"qualitat\":[\"Mala\", \"Bona\", \"Molt bona\", \"Excel·lent\",\"Mala\", \"Bona\"]}\n",
    "\n",
    "# I definim el tipus de client de cada votació, sent:\n",
    "#     0: client esporàdic,\n",
    "#     1: client habitual\n",
    "\n",
    "tipus_client=[0,0,1,1,0,1]\n",
    "\n",
    "# Creem el dataframe de l'enquesta\n",
    "pd.DataFrame(enquesta)"
   ]
  },
  {
   "cell_type": "markdown",
   "metadata": {},
   "source": [
    "Anem a aplicar ara la codificació `OrdinalEncoder`, i observem-ne el resultat:"
   ]
  },
  {
   "cell_type": "code",
   "execution_count": 160,
   "metadata": {},
   "outputs": [
    {
     "name": "stdout",
     "output_type": "stream",
     "text": [
      "[[0. 0.]\n",
      " [1. 1.]\n",
      " [2. 2.]\n",
      " [3. 3.]\n",
      " [4. 0.]\n",
      " [0. 1.]]\n"
     ]
    },
    {
     "data": {
      "text/html": [
       "<div>\n",
       "<style scoped>\n",
       "    .dataframe tbody tr th:only-of-type {\n",
       "        vertical-align: middle;\n",
       "    }\n",
       "\n",
       "    .dataframe tbody tr th {\n",
       "        vertical-align: top;\n",
       "    }\n",
       "\n",
       "    .dataframe thead th {\n",
       "        text-align: right;\n",
       "    }\n",
       "</style>\n",
       "<table border=\"1\" class=\"dataframe\">\n",
       "  <thead>\n",
       "    <tr style=\"text-align: right;\">\n",
       "      <th></th>\n",
       "      <th>servei</th>\n",
       "      <th>qualitat</th>\n",
       "    </tr>\n",
       "  </thead>\n",
       "  <tbody>\n",
       "    <tr>\n",
       "      <th>0</th>\n",
       "      <td>0.0</td>\n",
       "      <td>0.0</td>\n",
       "    </tr>\n",
       "    <tr>\n",
       "      <th>1</th>\n",
       "      <td>1.0</td>\n",
       "      <td>1.0</td>\n",
       "    </tr>\n",
       "    <tr>\n",
       "      <th>2</th>\n",
       "      <td>2.0</td>\n",
       "      <td>2.0</td>\n",
       "    </tr>\n",
       "    <tr>\n",
       "      <th>3</th>\n",
       "      <td>3.0</td>\n",
       "      <td>3.0</td>\n",
       "    </tr>\n",
       "    <tr>\n",
       "      <th>4</th>\n",
       "      <td>4.0</td>\n",
       "      <td>0.0</td>\n",
       "    </tr>\n",
       "    <tr>\n",
       "      <th>5</th>\n",
       "      <td>0.0</td>\n",
       "      <td>1.0</td>\n",
       "    </tr>\n",
       "  </tbody>\n",
       "</table>\n",
       "</div>"
      ],
      "text/plain": [
       "   servei  qualitat\n",
       "0     0.0       0.0\n",
       "1     1.0       1.0\n",
       "2     2.0       2.0\n",
       "3     3.0       3.0\n",
       "4     4.0       0.0\n",
       "5     0.0       1.0"
      ]
     },
     "execution_count": 160,
     "metadata": {},
     "output_type": "execute_result"
    }
   ],
   "source": [
    "# Importem el codificador\n",
    "from sklearn.preprocessing import OrdinalEncoder\n",
    "\n",
    "# Creem el DataFrame per treballar amb ell\n",
    "dades_ordinals=pd.DataFrame(enquesta)\n",
    "\n",
    "# Incorporem les categories al codificador, sent el 0 la valoració més negativa\n",
    "codificador=OrdinalEncoder(categories=[categories_servei, categories_qualitat ])\n",
    "\n",
    "# Una vegada definit el codificador, li proporcionem les dades\n",
    "# per ajustar-lo (fit) i transformar-lo (transform) (o tot d'una amb fit_transform)\n",
    "\n",
    "# Això ens generarà un vector amb les categories transformades\n",
    "codificador.fit(dades_ordinals)\n",
    "dades=codificador.transform(dades_ordinals)\n",
    "\n",
    "print(dades)\n",
    "\n",
    "# I ara creem el Dataframe\n",
    "dades_ordinals=pd.DataFrame(dades,columns=[\"servei\",\"qualitat\"]) \n",
    "\n",
    "dades_ordinals"
   ]
  },
  {
   "cell_type": "markdown",
   "metadata": {},
   "source": [
    "Aquesta codificació és possible que no siga la millor, ja que assumeix que les categoríes són equidistans (és a dir, que la distància entre les diferents categories és la mateixa). Això podria afegir cert soroll en l'anàlisi i la creació del model. De tota manera és un codificador que ens permet establir cert ordre en cada categoria."
   ]
  },
  {
   "cell_type": "code",
   "execution_count": 161,
   "metadata": {},
   "outputs": [
    {
     "name": "stdout",
     "output_type": "stream",
     "text": [
      "[array(['Molt insatisfet', 'Insatisfet', 'Neutral', 'Satisfet',\n",
      "       'Molt satisfet'], dtype=object), array(['Mala', 'Bona', 'Molt bona', 'Excel·lent'], dtype=object)]\n"
     ]
    }
   ],
   "source": [
    "# Si volem veure els noms de les categories del codificador, podem fer ús de l'atribut categories_. \n",
    "# Podem utilitzar aquests noms si cal crear, per exemple un DataFrame.\n",
    "\n",
    "print(codificador.categories_)"
   ]
  },
  {
   "cell_type": "markdown",
   "metadata": {},
   "source": [
    "### Codificador One-Hot Encoder\n",
    "\n",
    "El mètode OneHot Encoder no afig el soroll que puguen afegir les categoríes equidistants, però genera més columnes. \n",
    "\n",
    "Recordem que per cada possible valor es genera una columna, de manera que aquesta s'activa per al valor corresponent a la categoría."
   ]
  },
  {
   "cell_type": "code",
   "execution_count": 162,
   "metadata": {},
   "outputs": [
    {
     "name": "stdout",
     "output_type": "stream",
     "text": [
      "  (0, 1)\t1.0\n",
      "  (0, 7)\t1.0\n",
      "  (1, 0)\t1.0\n",
      "  (1, 5)\t1.0\n",
      "  (2, 3)\t1.0\n",
      "  (2, 8)\t1.0\n",
      "  (3, 4)\t1.0\n",
      "  (3, 6)\t1.0\n",
      "  (4, 2)\t1.0\n",
      "  (4, 7)\t1.0\n",
      "  (5, 1)\t1.0\n",
      "  (5, 5)\t1.0\n",
      "Dimensions:  (6, 9)\n"
     ]
    },
    {
     "data": {
      "text/plain": [
       "array(['servei_Insatisfet', 'servei_Molt insatisfet',\n",
       "       'servei_Molt satisfet', 'servei_Neutral', 'servei_Satisfet',\n",
       "       'qualitat_Bona', 'qualitat_Excel·lent', 'qualitat_Mala',\n",
       "       'qualitat_Molt bona'], dtype=object)"
      ]
     },
     "execution_count": 162,
     "metadata": {},
     "output_type": "execute_result"
    }
   ],
   "source": [
    "# Importem les llibreries\n",
    "from sklearn.preprocessing import OneHotEncoder\n",
    "\n",
    "# Definim les dades\n",
    "dades_one_hot=pd.DataFrame(enquesta)\n",
    "\n",
    "# Declarem el codificador\n",
    "codificador=OneHotEncoder()\n",
    "\n",
    "# I ajustem els paràmetres (fit) i transformem tot d'Una\n",
    "codificacio=codificador.fit_transform(dades_one_hot)\n",
    "\n",
    "# Mostrem la matriu dispersa generada\n",
    "print(codificacio)\n",
    "\n",
    "print(\"Dimensions: \",codificacio.shape)\n",
    "\n",
    "# I els noms de les categoríes del codificador\n",
    "codificador.get_feature_names_out()"
   ]
  },
  {
   "cell_type": "markdown",
   "metadata": {},
   "source": [
    "Aquest codificador pot resultar una miqueta complex d'entendre. Hem comentat que el codificador genera una **matriu dispersa**. En àlgebra una matriu dispersa és aquella on la majoria dels elements són 0, i per tant, es pot representar d'una forma més simplificada. \n",
    "\n",
    "En aquest cas, el que ens mostra la codificació són aquelles posicions de la matriu on no hi ha un 0, i el valor que hi ha. Per exemple, en la posició (fila=0,columna=1) hi ha un 1, en la posició (fila=0, columna=7) hi ha un altre 1, i així fins la posició (fila 5, columna 5), on també hi ha un 1.\n",
    "\n",
    "Una altra dada important a tindre en compte són les dimensions (6x9), on hi ha 6 files, corresponents a les 6 respostes que es té de l'enquesta i les 9 columnes resultants. Recordem que originalment teniem dues columnes amb dades categòriques. Fixeu-vos que el que s'ha fet ha estat que cadascuna d'aquestes columnes s'ha dividit en tantes columnes com valors podiem tindre. Així, la columna de servei, que tenia 5 categories, s'ha convertit en 5 columnes noves (`servei_Insatisfet`, `servei_molt insatisfet`, etc.) i la columna de qualitat, que tenia 4 categories s'ha convertit en quatre columnes més (`qualitat_Bona`, `qualitat_Excel·lent`, etc.).\n",
    "\n",
    "Com podem apreciar, cada columna nova es nomena combinant el nom de la columna original (servei o qualitat), amb el nom de la categoria."
   ]
  },
  {
   "cell_type": "code",
   "execution_count": 163,
   "metadata": {},
   "outputs": [
    {
     "name": "stdout",
     "output_type": "stream",
     "text": [
      "[[0. 1. 0. 0. 0. 0. 0. 1. 0.]\n",
      " [1. 0. 0. 0. 0. 1. 0. 0. 0.]\n",
      " [0. 0. 0. 1. 0. 0. 0. 0. 1.]\n",
      " [0. 0. 0. 0. 1. 0. 1. 0. 0.]\n",
      " [0. 0. 1. 0. 0. 0. 0. 1. 0.]\n",
      " [0. 1. 0. 0. 0. 1. 0. 0. 0.]]\n"
     ]
    }
   ],
   "source": [
    "\n",
    "# Si volem vore la forma completa d'aquesta matriu podem convertir-la a un array de numpy:\n",
    "\n",
    "print(codificacio.toarray()) # Mostrem la matriu dispsera al complet"
   ]
  },
  {
   "cell_type": "code",
   "execution_count": 164,
   "metadata": {},
   "outputs": [
    {
     "name": "stdout",
     "output_type": "stream",
     "text": [
      "[array(['Insatisfet', 'Molt insatisfet', 'Molt satisfet', 'Neutral',\n",
      "       'Satisfet'], dtype=object), array(['Bona', 'Excel·lent', 'Mala', 'Molt bona'], dtype=object)]\n"
     ]
    }
   ],
   "source": [
    "# I per vore les categoríes del codificador\n",
    "\n",
    "print(codificador.categories_)"
   ]
  },
  {
   "cell_type": "code",
   "execution_count": 165,
   "metadata": {},
   "outputs": [
    {
     "name": "stdout",
     "output_type": "stream",
     "text": [
      "['servei_Insatisfet' 'servei_Molt insatisfet' 'servei_Molt satisfet'\n",
      " 'servei_Neutral' 'servei_Satisfet' 'qualitat_Bona' 'qualitat_Excel·lent'\n",
      " 'qualitat_Mala' 'qualitat_Molt bona']\n"
     ]
    }
   ],
   "source": [
    "# Trambé podem veure els noms de les característiques resultants\n",
    "\n",
    "print(codificador.get_feature_names_out())"
   ]
  },
  {
   "cell_type": "code",
   "execution_count": 166,
   "metadata": {},
   "outputs": [
    {
     "data": {
      "text/html": [
       "<div>\n",
       "<style scoped>\n",
       "    .dataframe tbody tr th:only-of-type {\n",
       "        vertical-align: middle;\n",
       "    }\n",
       "\n",
       "    .dataframe tbody tr th {\n",
       "        vertical-align: top;\n",
       "    }\n",
       "\n",
       "    .dataframe thead th {\n",
       "        text-align: right;\n",
       "    }\n",
       "</style>\n",
       "<table border=\"1\" class=\"dataframe\">\n",
       "  <thead>\n",
       "    <tr style=\"text-align: right;\">\n",
       "      <th></th>\n",
       "      <th>Insatisfet</th>\n",
       "      <th>Molt insatisfet</th>\n",
       "      <th>Molt satisfet</th>\n",
       "      <th>Neutral</th>\n",
       "      <th>Satisfet</th>\n",
       "      <th>Bona</th>\n",
       "      <th>Excel·lent</th>\n",
       "      <th>Mala</th>\n",
       "      <th>Molt bona</th>\n",
       "    </tr>\n",
       "  </thead>\n",
       "  <tbody>\n",
       "    <tr>\n",
       "      <th>0</th>\n",
       "      <td>0.0</td>\n",
       "      <td>1.0</td>\n",
       "      <td>0.0</td>\n",
       "      <td>0.0</td>\n",
       "      <td>0.0</td>\n",
       "      <td>0.0</td>\n",
       "      <td>0.0</td>\n",
       "      <td>1.0</td>\n",
       "      <td>0.0</td>\n",
       "    </tr>\n",
       "    <tr>\n",
       "      <th>1</th>\n",
       "      <td>1.0</td>\n",
       "      <td>0.0</td>\n",
       "      <td>0.0</td>\n",
       "      <td>0.0</td>\n",
       "      <td>0.0</td>\n",
       "      <td>1.0</td>\n",
       "      <td>0.0</td>\n",
       "      <td>0.0</td>\n",
       "      <td>0.0</td>\n",
       "    </tr>\n",
       "    <tr>\n",
       "      <th>2</th>\n",
       "      <td>0.0</td>\n",
       "      <td>0.0</td>\n",
       "      <td>0.0</td>\n",
       "      <td>1.0</td>\n",
       "      <td>0.0</td>\n",
       "      <td>0.0</td>\n",
       "      <td>0.0</td>\n",
       "      <td>0.0</td>\n",
       "      <td>1.0</td>\n",
       "    </tr>\n",
       "    <tr>\n",
       "      <th>3</th>\n",
       "      <td>0.0</td>\n",
       "      <td>0.0</td>\n",
       "      <td>0.0</td>\n",
       "      <td>0.0</td>\n",
       "      <td>1.0</td>\n",
       "      <td>0.0</td>\n",
       "      <td>1.0</td>\n",
       "      <td>0.0</td>\n",
       "      <td>0.0</td>\n",
       "    </tr>\n",
       "    <tr>\n",
       "      <th>4</th>\n",
       "      <td>0.0</td>\n",
       "      <td>0.0</td>\n",
       "      <td>1.0</td>\n",
       "      <td>0.0</td>\n",
       "      <td>0.0</td>\n",
       "      <td>0.0</td>\n",
       "      <td>0.0</td>\n",
       "      <td>1.0</td>\n",
       "      <td>0.0</td>\n",
       "    </tr>\n",
       "    <tr>\n",
       "      <th>5</th>\n",
       "      <td>0.0</td>\n",
       "      <td>1.0</td>\n",
       "      <td>0.0</td>\n",
       "      <td>0.0</td>\n",
       "      <td>0.0</td>\n",
       "      <td>1.0</td>\n",
       "      <td>0.0</td>\n",
       "      <td>0.0</td>\n",
       "      <td>0.0</td>\n",
       "    </tr>\n",
       "  </tbody>\n",
       "</table>\n",
       "</div>"
      ],
      "text/plain": [
       "   Insatisfet  Molt insatisfet  Molt satisfet  Neutral  Satisfet  Bona  \\\n",
       "0         0.0              1.0            0.0      0.0       0.0   0.0   \n",
       "1         1.0              0.0            0.0      0.0       0.0   1.0   \n",
       "2         0.0              0.0            0.0      1.0       0.0   0.0   \n",
       "3         0.0              0.0            0.0      0.0       1.0   0.0   \n",
       "4         0.0              0.0            1.0      0.0       0.0   0.0   \n",
       "5         0.0              1.0            0.0      0.0       0.0   1.0   \n",
       "\n",
       "   Excel·lent  Mala  Molt bona  \n",
       "0         0.0   1.0        0.0  \n",
       "1         0.0   0.0        0.0  \n",
       "2         0.0   0.0        1.0  \n",
       "3         1.0   0.0        0.0  \n",
       "4         0.0   1.0        0.0  \n",
       "5         0.0   0.0        0.0  "
      ]
     },
     "execution_count": 166,
     "metadata": {},
     "output_type": "execute_result"
    }
   ],
   "source": [
    "# Creem ara un dataframe amb les dades ja categoritzades\n",
    "# Per a això fem ús de concatenate.\n",
    "novesCol=np.concatenate(codificador.categories_)\n",
    "# Creem el DataFrame amb les dades ja categoritzades i afegim el nom de les columnes\n",
    "novesDades=pd.DataFrame(codificacio.toarray(), columns=novesCol)\n",
    "\n",
    "novesDades"
   ]
  },
  {
   "cell_type": "markdown",
   "metadata": {},
   "source": [
    "Totes aquestes operacions també podrien haver-se fet conjuntament.\n",
    "\n"
   ]
  },
  {
   "cell_type": "code",
   "execution_count": 167,
   "metadata": {},
   "outputs": [
    {
     "data": {
      "text/html": [
       "<div>\n",
       "<style scoped>\n",
       "    .dataframe tbody tr th:only-of-type {\n",
       "        vertical-align: middle;\n",
       "    }\n",
       "\n",
       "    .dataframe tbody tr th {\n",
       "        vertical-align: top;\n",
       "    }\n",
       "\n",
       "    .dataframe thead th {\n",
       "        text-align: right;\n",
       "    }\n",
       "</style>\n",
       "<table border=\"1\" class=\"dataframe\">\n",
       "  <thead>\n",
       "    <tr style=\"text-align: right;\">\n",
       "      <th></th>\n",
       "      <th>Insatisfet</th>\n",
       "      <th>Molt insatisfet</th>\n",
       "      <th>Molt satisfet</th>\n",
       "      <th>Neutral</th>\n",
       "      <th>Satisfet</th>\n",
       "      <th>Bona</th>\n",
       "      <th>Excel·lent</th>\n",
       "      <th>Mala</th>\n",
       "      <th>Molt bona</th>\n",
       "    </tr>\n",
       "  </thead>\n",
       "  <tbody>\n",
       "    <tr>\n",
       "      <th>0</th>\n",
       "      <td>0.0</td>\n",
       "      <td>1.0</td>\n",
       "      <td>0.0</td>\n",
       "      <td>0.0</td>\n",
       "      <td>0.0</td>\n",
       "      <td>0.0</td>\n",
       "      <td>0.0</td>\n",
       "      <td>1.0</td>\n",
       "      <td>0.0</td>\n",
       "    </tr>\n",
       "    <tr>\n",
       "      <th>1</th>\n",
       "      <td>1.0</td>\n",
       "      <td>0.0</td>\n",
       "      <td>0.0</td>\n",
       "      <td>0.0</td>\n",
       "      <td>0.0</td>\n",
       "      <td>1.0</td>\n",
       "      <td>0.0</td>\n",
       "      <td>0.0</td>\n",
       "      <td>0.0</td>\n",
       "    </tr>\n",
       "    <tr>\n",
       "      <th>2</th>\n",
       "      <td>0.0</td>\n",
       "      <td>0.0</td>\n",
       "      <td>0.0</td>\n",
       "      <td>1.0</td>\n",
       "      <td>0.0</td>\n",
       "      <td>0.0</td>\n",
       "      <td>0.0</td>\n",
       "      <td>0.0</td>\n",
       "      <td>1.0</td>\n",
       "    </tr>\n",
       "    <tr>\n",
       "      <th>3</th>\n",
       "      <td>0.0</td>\n",
       "      <td>0.0</td>\n",
       "      <td>0.0</td>\n",
       "      <td>0.0</td>\n",
       "      <td>1.0</td>\n",
       "      <td>0.0</td>\n",
       "      <td>1.0</td>\n",
       "      <td>0.0</td>\n",
       "      <td>0.0</td>\n",
       "    </tr>\n",
       "    <tr>\n",
       "      <th>4</th>\n",
       "      <td>0.0</td>\n",
       "      <td>0.0</td>\n",
       "      <td>1.0</td>\n",
       "      <td>0.0</td>\n",
       "      <td>0.0</td>\n",
       "      <td>0.0</td>\n",
       "      <td>0.0</td>\n",
       "      <td>1.0</td>\n",
       "      <td>0.0</td>\n",
       "    </tr>\n",
       "    <tr>\n",
       "      <th>5</th>\n",
       "      <td>0.0</td>\n",
       "      <td>1.0</td>\n",
       "      <td>0.0</td>\n",
       "      <td>0.0</td>\n",
       "      <td>0.0</td>\n",
       "      <td>1.0</td>\n",
       "      <td>0.0</td>\n",
       "      <td>0.0</td>\n",
       "      <td>0.0</td>\n",
       "    </tr>\n",
       "  </tbody>\n",
       "</table>\n",
       "</div>"
      ],
      "text/plain": [
       "   Insatisfet  Molt insatisfet  Molt satisfet  Neutral  Satisfet  Bona  \\\n",
       "0         0.0              1.0            0.0      0.0       0.0   0.0   \n",
       "1         1.0              0.0            0.0      0.0       0.0   1.0   \n",
       "2         0.0              0.0            0.0      1.0       0.0   0.0   \n",
       "3         0.0              0.0            0.0      0.0       1.0   0.0   \n",
       "4         0.0              0.0            1.0      0.0       0.0   0.0   \n",
       "5         0.0              1.0            0.0      0.0       0.0   1.0   \n",
       "\n",
       "   Excel·lent  Mala  Molt bona  \n",
       "0         0.0   1.0        0.0  \n",
       "1         0.0   0.0        0.0  \n",
       "2         0.0   0.0        1.0  \n",
       "3         1.0   0.0        0.0  \n",
       "4         0.0   1.0        0.0  \n",
       "5         0.0   0.0        0.0  "
      ]
     },
     "execution_count": 167,
     "metadata": {},
     "output_type": "execute_result"
    }
   ],
   "source": [
    "# Creem el dataframe amb tot junt:\n",
    "\n",
    "from sklearn.preprocessing import OneHotEncoder\n",
    "\n",
    "codificador=OneHotEncoder()\n",
    "\n",
    "dades_one_hot_encoder = pd.DataFrame(codificador.fit_transform(dades_one_hot).toarray(),\n",
    "                       columns=np.concatenate(codificador.categories_))\n",
    "dades_one_hot_encoder"
   ]
  },
  {
   "cell_type": "markdown",
   "metadata": {},
   "source": [
    "## L'eina CountVectorizer\n",
    "\n",
    "`CountVectorizer` és una eina específica per al  preprocessament de text, que converteix una col·lecció de textos en una representació de vectors de comptadors de termes. Veiem el següent exemple:"
   ]
  },
  {
   "cell_type": "code",
   "execution_count": 168,
   "metadata": {},
   "outputs": [
    {
     "name": "stdout",
     "output_type": "stream",
     "text": [
      "[[0 2 0 1 1 0 0 0 0 0 0 0 0 1 2 1 1 0 0 2 0 0 1 0 1 0 0 0 0 0 2 0 0 1 0 0\n",
      "  1 1 0 1 1 0 0 0 0 1 1 0 0 1 0 0]\n",
      " [0 0 1 0 0 0 0 1 0 1 0 0 0 0 0 0 0 0 0 0 0 1 0 0 0 0 0 0 0 0 0 0 0 0 0 0\n",
      "  0 0 0 0 0 0 0 0 0 0 0 0 0 0 0 0]\n",
      " [1 0 0 0 0 1 1 1 0 0 1 0 0 0 0 0 0 0 0 0 2 0 0 0 0 1 1 0 0 0 0 2 0 0 1 0\n",
      "  0 0 0 0 0 1 1 1 0 0 0 0 0 0 1 0]\n",
      " [0 0 0 0 0 0 0 0 1 0 1 1 3 0 2 0 0 1 1 2 0 0 0 1 0 0 0 1 1 2 0 0 1 0 1 1\n",
      "  0 0 1 0 0 0 0 0 1 1 0 1 1 0 0 1]]\n",
      "['al' 'aliado' 'aprendido' 'crea' 'crecer' 'cuando' 'cuidado' 'debes'\n",
      " 'derrota' 'desaprender' 'el' 'en' 'enemigo' 'energía' 'es' 'fuerza'\n",
      " 'hace' 'hay' 'ira' 'la' 'lado' 'lo' 'luminosos' 'matarlo' 'mi' 'mira'\n",
      " 'mires' 'más' 'necesario' 'no' 'nos' 'oscuro' 'para' 'poderoso' 'que'\n",
      " 'rabia' 'rodea' 'seres' 'será' 'somos' 'su' 'también' 'te' 'tener' 'tu'\n",
      " 'un' 'une' 'vencer' 'verdadero' 'vida' 'ya' 'él']\n"
     ]
    }
   ],
   "source": [
    "from sklearn.feature_extraction.text import CountVectorizer\n",
    "\n",
    "text = [\"La Fuerza es mi aliado, y un poderoso aliado es. Vida crea, la hace crecer. \\\n",
    "         Su energía nos rodea y nos une. Somos seres luminosos\", \"Debes desaprender lo aprendido\",\n",
    "          \"Cuando mires al lado oscuro, cuidado debes tener… ya que el lado Oscuro te mira también\", \n",
    "          \"Para vencer a un enemigo no es necesario matarlo. Derrota la rabia que hay en él y tu \\\n",
    "            enemigo no será más. La ira el verdadero enemigo es\"]\n",
    "\n",
    "# Definim el codificador\n",
    "vectorizer = CountVectorizer()\n",
    "\n",
    "# L'inicialitzem amb els textos\n",
    "vectorizer.fit(text)\n",
    "\n",
    "# I apliquem el transformador\n",
    "vector = vectorizer.transform(text)\n",
    "\n",
    "# Mostrem el resultat\n",
    "print(vector.toarray())\n",
    "\n",
    "# I veiem els índex amb get_feature_names_out\n",
    "feature_names = vectorizer.get_feature_names_out()\n",
    "print(feature_names)"
   ]
  },
  {
   "cell_type": "markdown",
   "metadata": {},
   "source": [
    "# Comparant codificadors\n",
    "\n",
    "Anem a fer ara una comparació d'ambdos codificadors, aprofitant que tenim la codificació feta, en un model d'aprenentatge. Així introduim també unes pinzellades sobre com treballem amb aquests. El model d'aprenentatge automàtic que utilitzarem serà un classificador molt bàsic: el classificador de **regressió logística**, que treballarem més a fons en unitats posteriors."
   ]
  },
  {
   "cell_type": "markdown",
   "metadata": {},
   "source": [
    "El probema que abordarem consistirà en determinar, segons les valoracions si qui ha fet la valoració és un client habitual o esporàdic. \n",
    "\n",
    "La **regressió logística** és un algorisme d'aprenentatge automàtic, i més concretament un *classificador binari*. Això significa que  la seua tasca és la classificació, i que la variable depenent (el que es prediu) és una variable binària categòrica. A més, es tracta d'**aprenentatge supervisat**, el que significa que per a l'entrenament li proporcionarem tant el conjunt de dades com el resultat esperat.\n",
    "\n",
    "En aquest cas, disposem del conjunt de dades, o d'entrenament, que seran les valoracions realitzades, i per altra banda disposàvem també d'un vector que ens indicava si eren clients habituals o no.\n",
    "\n",
    "El que anem a fer, en primer lloc serà escalar les dades obtingudes amb la codificació ordinal, i entrenarem l'algorisme amb aquestes.\n",
    "\n",
    "Posteriorment, farem l'entrenament amb les dades codificades amb one-hot-encoding, aquesta vegada sense escalar, ja que és una matiu binària, i tornarem a fer l'entrenament."
   ]
  },
  {
   "cell_type": "code",
   "execution_count": 169,
   "metadata": {},
   "outputs": [
    {
     "name": "stdout",
     "output_type": "stream",
     "text": [
      "\n",
      "Dades codificades amb codificació ordinal\n",
      "   servei  qualitat\n",
      "0     0.0       0.0\n",
      "1     1.0       1.0\n",
      "2     2.0       2.0\n",
      "3     3.0       3.0\n",
      "4     4.0       0.0\n",
      "5     0.0       1.0\n",
      "\n",
      "Dades escalades amb codificació ordinal\n",
      "[[0.         0.        ]\n",
      " [0.25       0.33333333]\n",
      " [0.5        0.66666667]\n",
      " [0.75       1.        ]\n",
      " [1.         0.        ]\n",
      " [0.         0.33333333]]\n"
     ]
    }
   ],
   "source": [
    "# Escalem les dades generades amb el codificador\n",
    "\n",
    "from sklearn.linear_model import LogisticRegression # Importem el model de Regressió Logística\n",
    "from sklearn.preprocessing import MinMaxScaler # Importem el MinMaxScaker\n",
    "\n",
    "print(\"\\nDades codificades amb codificació ordinal\")\n",
    "escalador=MinMaxScaler()\n",
    "print(dades_ordinals)\n",
    "\n",
    "print(\"\\nDades escalades amb codificació ordinal\")\n",
    "dades_ordinals=escalador.fit_transform(dades_ordinals)\n",
    "print(dades_ordinals)"
   ]
  },
  {
   "cell_type": "code",
   "execution_count": 170,
   "metadata": {},
   "outputs": [
    {
     "data": {
      "text/plain": [
       "[0, 0, 1, 1, 0, 1]"
      ]
     },
     "execution_count": 170,
     "metadata": {},
     "output_type": "execute_result"
    }
   ],
   "source": [
    "# Recordem que teniem definits els tipus de clients prèviament, \n",
    "# on 0 era un client esporàdic i 1 un client freqüent.\n",
    "\n",
    "tipus_client"
   ]
  },
  {
   "cell_type": "code",
   "execution_count": 171,
   "metadata": {},
   "outputs": [
    {
     "name": "stdout",
     "output_type": "stream",
     "text": [
      "\n",
      " Classificació amb dades codificades amb OrdinalEncoder\n",
      "\n",
      "    Prediccions:  [0 0 1 1 0 0]\n",
      "\n",
      "Eixida esperada:  [0, 0, 1, 1, 0, 1]\n",
      "\n",
      "Probabilitat de ser client esporàdic o client freqüent\n",
      "Esporàdic  |   Freqüent\n",
      "-----------------------\n",
      "[[0.56489598 0.43510402]\n",
      " [0.50845928 0.49154072]\n",
      " [0.45180614 0.54819386]\n",
      " [0.39637512 0.60362488]\n",
      " [0.57175647 0.42824353]\n",
      " [0.50671189 0.49328811]]\n"
     ]
    }
   ],
   "source": [
    "print(\"\\n Classificació amb dades codificades amb OrdinalEncoder\")\n",
    "\n",
    "# Entrenem el model amb fit. Aquest necessita dos paràmetres:\n",
    "# * El primer són les dades d'entrenament, i pot ser qualsevol tipus de matriu, i \n",
    "# * El segon és el vector de targets, amb les eixides corresponents a la matriu.\n",
    "# Al nostre cas, el vector d'entrenament són les dades ordinals, i els targets el tipus de client.\n",
    "\n",
    "model=LogisticRegression().fit(dades_ordinals, tipus_client)\n",
    "\n",
    "# Una vegada entrenat, fem la predicció sobe les mateixes dades d'entrenament\n",
    "print(\"\\n    Prediccions: \", model.predict(dades_ordinals))\n",
    "print(\"\\nEixida esperada: \", tipus_client)\n",
    "\n",
    "# Veiem la probabilitat de que cada instància pertanga a cadascuna de les classes (client esporàdic / client freqüent)\n",
    "print(\"\\nProbabilitat de ser client esporàdic o client freqüent\")\n",
    "print(\"Esporàdic  |   Freqüent\")\n",
    "print(\"-----------------------\")\n",
    "print(model.predict_proba(dades_ordinals))"
   ]
  },
  {
   "cell_type": "code",
   "execution_count": 172,
   "metadata": {},
   "outputs": [
    {
     "name": "stdout",
     "output_type": "stream",
     "text": [
      "\\Classificació de les dades codificades amb OneHotEncoder\n",
      "\n",
      "Prediccions:  [0 0 1 1 0 1]\n",
      "\n",
      "Dades Esperades:  [0, 0, 1, 1, 0, 1]\n",
      "\n",
      "Probabilitat de ser client esporàdic o client freqüent\n",
      "Esporàdic  |   Freqüent\n",
      "-----------------------\n",
      "[[0.62301432 0.37698568]\n",
      " [0.57519021 0.42480979]\n",
      " [0.32279763 0.67720237]\n",
      " [0.32279763 0.67720237]\n",
      " [0.70505958 0.29494042]\n",
      " [0.45116842 0.54883158]]\n"
     ]
    }
   ],
   "source": [
    "# Fem la predicció sobre les dades codificades amb One Hot Encoder\n",
    "# Per a això no cal fer escalat previ, ja que es tracta d'una matriu dispersa amb 0s i 1s\n",
    "\n",
    "print(\"\\Classificació de les dades codificades amb OneHotEncoder\")\n",
    "\n",
    "model=LogisticRegression().fit(dades_one_hot_encoder, tipus_client)\n",
    "\n",
    "# Predicció sobre les mateixes dades, una vegada entrenat\n",
    "\n",
    "print(\"\\nPrediccions: \", model.predict(dades_one_hot_encoder))\n",
    "print(\"\\nDades Esperades: \", tipus_client)\n",
    "\n",
    "# Veiem la probabilitat de que cada instància pertanga a cadascuna de les classes (client esporàdic / client freqüent)\n",
    "print(\"\\nProbabilitat de ser client esporàdic o client freqüent\")\n",
    "print(\"Esporàdic  |   Freqüent\")\n",
    "print(\"-----------------------\")\n",
    "print(model.predict_proba(dades_one_hot_encoder))\n",
    "\n"
   ]
  },
  {
   "cell_type": "markdown",
   "metadata": {},
   "source": [
    "Si observem la primera predicció realitzada, amb la codificació OrdinalEncoder ha encertat tots els resultats, llevat de l'últim, i amb la codificació OneHotEncoder els ha encertat tots.\n",
    "\n",
    "**Com podem veure, el mateix algorisme d'aprenentatge automàtic (en aquest cas una regressió logística), entrenat de la mateixa manera i amb les mateixes dades d'origen, ha donat diferents resultats segons com hajam codificat aquestes. Veiem aci la importància d'una correcta adequació de les dades i un bon preprocessament abans d'abordar l'entrenament en sí.**"
   ]
  },
  {
   "cell_type": "markdown",
   "metadata": {},
   "source": [
    "## Categòrics nominals"
   ]
  },
  {
   "cell_type": "markdown",
   "metadata": {},
   "source": [
    "Anem a veure un exemple amb dades categòriques. En aquest cas, anem a treballar amb un DataFrame amb dades de persones, com el nom, el salari i el país. Aquesta última columna anem a convertir-la en categòrica."
   ]
  },
  {
   "cell_type": "code",
   "execution_count": 4,
   "metadata": {},
   "outputs": [
    {
     "name": "stdout",
     "output_type": "stream",
     "text": [
      "<class 'pandas.core.frame.DataFrame'>\n",
      "RangeIndex: 9 entries, 0 to 8\n",
      "Data columns (total 3 columns):\n",
      " #   Column  Non-Null Count  Dtype  \n",
      "---  ------  --------------  -----  \n",
      " 0   nom     9 non-null      object \n",
      " 1   sou     9 non-null      float64\n",
      " 2   pais    9 non-null      object \n",
      "dtypes: float64(1), object(2)\n",
      "memory usage: 348.0+ bytes\n"
     ]
    }
   ],
   "source": [
    "import pandas as pd\n",
    "\n",
    "# Definim les dades en un diccionari\n",
    "dades = {\"nom\" : [\"Mariana\", \"Ana\", \"Elsa\", \"Gustavo\",\n",
    "                     \"Pedro\", \"Raúl\", \"Carlos\", \"José\", \"Luis\"],\n",
    "         \n",
    "         \"sou\" : [10000.00, 8000.00, 9000.00, 2000.00,\n",
    "                    2100.00, 12000.00, 5000.00, 10000.00, 200.00],\n",
    "         \n",
    "         \"pais\" : [\"Argentina\", \"Bolivia\", \"Chile\", \"Colombia\",\n",
    "                   \"Costa Rica\", \"Ecuador\", \"México\", \"Perú\", \"Perú\"]}\n",
    "\n",
    "# I el convertim a DataFrame\n",
    "\n",
    "dades = pd.DataFrame(dades)\n",
    "dades.info()\n"
   ]
  },
  {
   "cell_type": "markdown",
   "metadata": {},
   "source": [
    "És important observar que la columna `pais` (igual que `nom`) és de tipus `object`. Aquesta dada anem a convertir-la a categòrica amb el mètode `astype(\"catecogy\")`, per canviar el tipus de columna a categòric, el que ens permetrà un processament més eficient."
   ]
  },
  {
   "cell_type": "code",
   "execution_count": 5,
   "metadata": {},
   "outputs": [
    {
     "name": "stdout",
     "output_type": "stream",
     "text": [
      "<class 'pandas.core.frame.DataFrame'>\n",
      "RangeIndex: 9 entries, 0 to 8\n",
      "Data columns (total 3 columns):\n",
      " #   Column  Non-Null Count  Dtype   \n",
      "---  ------  --------------  -----   \n",
      " 0   nom     9 non-null      object  \n",
      " 1   sou     9 non-null      float64 \n",
      " 2   pais    9 non-null      category\n",
      "dtypes: category(1), float64(1), object(1)\n",
      "memory usage: 649.0+ bytes\n"
     ]
    }
   ],
   "source": [
    "dades[\"pais\"]=dades[\"pais\"].astype(\"category\")\n",
    "\n",
    "dades = pd.DataFrame(dades)\n",
    "dades.info()"
   ]
  },
  {
   "cell_type": "markdown",
   "metadata": {},
   "source": [
    "Com podem veure, la columna `pais`, en lloc de tindre el tipus `object` ara té un tipus `categoty.`"
   ]
  },
  {
   "cell_type": "markdown",
   "metadata": {},
   "source": [
    "Per tal de codificar aquestes categoríes, un dels mètodes més utilitzats és OneHotEncoder. Veiem com aplicar-ho."
   ]
  },
  {
   "cell_type": "code",
   "execution_count": 6,
   "metadata": {},
   "outputs": [
    {
     "name": "stdout",
     "output_type": "stream",
     "text": [
      "<class 'scipy.sparse._csr.csr_matrix'>\n",
      "<Compressed Sparse Row sparse matrix of dtype 'float64'\n",
      "\twith 9 stored elements and shape (9, 8)>\n",
      "  Coords\tValues\n",
      "  (0, 0)\t1.0\n",
      "  (1, 1)\t1.0\n",
      "  (2, 2)\t1.0\n",
      "  (3, 3)\t1.0\n",
      "  (4, 4)\t1.0\n",
      "  (5, 5)\t1.0\n",
      "  (6, 6)\t1.0\n",
      "  (7, 7)\t1.0\n",
      "  (8, 7)\t1.0\n",
      "[[1. 0. 0. 0. 0. 0. 0. 0.]\n",
      " [0. 1. 0. 0. 0. 0. 0. 0.]\n",
      " [0. 0. 1. 0. 0. 0. 0. 0.]\n",
      " [0. 0. 0. 1. 0. 0. 0. 0.]\n",
      " [0. 0. 0. 0. 1. 0. 0. 0.]\n",
      " [0. 0. 0. 0. 0. 1. 0. 0.]\n",
      " [0. 0. 0. 0. 0. 0. 1. 0.]\n",
      " [0. 0. 0. 0. 0. 0. 0. 1.]\n",
      " [0. 0. 0. 0. 0. 0. 0. 1.]]\n"
     ]
    }
   ],
   "source": [
    "# Importem la classe\n",
    "from sklearn.preprocessing import OneHotEncoder\n",
    "\n",
    "# I definim un codificador de tipus One Hot\n",
    "codificador=OneHotEncoder()\n",
    "\n",
    "# Per tal de fer l'entrenament, i com que treballem amb\n",
    "# DataFrames en lloc de series cal fer ús de la notació [[]]\n",
    "\n",
    "# Indiquem que  aplique la transformació sobre la columna categòrica\n",
    "codificacio=codificador.fit_transform(dades[[\"pais\"]])\n",
    "\n",
    "# I veiem el resultat\n",
    "print(type(codificacio))\n",
    "print(codificacio)\n",
    "print(codificacio.toarray())"
   ]
  },
  {
   "cell_type": "markdown",
   "metadata": {},
   "source": [
    "Com podem veure, i com era d'esperar, el resultat d'aquesta codificació ens genera una matriu dispera, on cada valor diferent s'ha convertit en una columna, on s'indica amb un 1 si el valor es correspon al de la columna i 0 en cas contrari. Podem veure aquesta cosificació amb el següent:"
   ]
  },
  {
   "cell_type": "code",
   "execution_count": 7,
   "metadata": {},
   "outputs": [
    {
     "name": "stdout",
     "output_type": "stream",
     "text": [
      "[array(['Argentina', 'Bolivia', 'Chile', 'Colombia', 'Costa Rica',\n",
      "       'Ecuador', 'México', 'Perú'], dtype=object)]\n"
     ]
    }
   ],
   "source": [
    "# Mostrem les categories\n",
    "print(codificador.categories_)\n",
    "\n",
    "# Creem ara una nova variable amb les columnes generades\n",
    "noves_columnes=codificador.categories_"
   ]
  },
  {
   "cell_type": "code",
   "execution_count": 14,
   "metadata": {},
   "outputs": [
    {
     "data": {
      "text/html": [
       "<div>\n",
       "<style scoped>\n",
       "    .dataframe tbody tr th:only-of-type {\n",
       "        vertical-align: middle;\n",
       "    }\n",
       "\n",
       "    .dataframe tbody tr th {\n",
       "        vertical-align: top;\n",
       "    }\n",
       "\n",
       "    .dataframe thead tr th {\n",
       "        text-align: left;\n",
       "    }\n",
       "</style>\n",
       "<table border=\"1\" class=\"dataframe\">\n",
       "  <thead>\n",
       "    <tr>\n",
       "      <th></th>\n",
       "      <th>Argentina</th>\n",
       "      <th>Bolivia</th>\n",
       "      <th>Chile</th>\n",
       "      <th>Colombia</th>\n",
       "      <th>Costa Rica</th>\n",
       "      <th>Ecuador</th>\n",
       "      <th>México</th>\n",
       "      <th>Perú</th>\n",
       "    </tr>\n",
       "  </thead>\n",
       "  <tbody>\n",
       "    <tr>\n",
       "      <th>0</th>\n",
       "      <td>1.0</td>\n",
       "      <td>0.0</td>\n",
       "      <td>0.0</td>\n",
       "      <td>0.0</td>\n",
       "      <td>0.0</td>\n",
       "      <td>0.0</td>\n",
       "      <td>0.0</td>\n",
       "      <td>0.0</td>\n",
       "    </tr>\n",
       "    <tr>\n",
       "      <th>1</th>\n",
       "      <td>0.0</td>\n",
       "      <td>1.0</td>\n",
       "      <td>0.0</td>\n",
       "      <td>0.0</td>\n",
       "      <td>0.0</td>\n",
       "      <td>0.0</td>\n",
       "      <td>0.0</td>\n",
       "      <td>0.0</td>\n",
       "    </tr>\n",
       "    <tr>\n",
       "      <th>2</th>\n",
       "      <td>0.0</td>\n",
       "      <td>0.0</td>\n",
       "      <td>1.0</td>\n",
       "      <td>0.0</td>\n",
       "      <td>0.0</td>\n",
       "      <td>0.0</td>\n",
       "      <td>0.0</td>\n",
       "      <td>0.0</td>\n",
       "    </tr>\n",
       "    <tr>\n",
       "      <th>3</th>\n",
       "      <td>0.0</td>\n",
       "      <td>0.0</td>\n",
       "      <td>0.0</td>\n",
       "      <td>1.0</td>\n",
       "      <td>0.0</td>\n",
       "      <td>0.0</td>\n",
       "      <td>0.0</td>\n",
       "      <td>0.0</td>\n",
       "    </tr>\n",
       "    <tr>\n",
       "      <th>4</th>\n",
       "      <td>0.0</td>\n",
       "      <td>0.0</td>\n",
       "      <td>0.0</td>\n",
       "      <td>0.0</td>\n",
       "      <td>1.0</td>\n",
       "      <td>0.0</td>\n",
       "      <td>0.0</td>\n",
       "      <td>0.0</td>\n",
       "    </tr>\n",
       "    <tr>\n",
       "      <th>5</th>\n",
       "      <td>0.0</td>\n",
       "      <td>0.0</td>\n",
       "      <td>0.0</td>\n",
       "      <td>0.0</td>\n",
       "      <td>0.0</td>\n",
       "      <td>1.0</td>\n",
       "      <td>0.0</td>\n",
       "      <td>0.0</td>\n",
       "    </tr>\n",
       "    <tr>\n",
       "      <th>6</th>\n",
       "      <td>0.0</td>\n",
       "      <td>0.0</td>\n",
       "      <td>0.0</td>\n",
       "      <td>0.0</td>\n",
       "      <td>0.0</td>\n",
       "      <td>0.0</td>\n",
       "      <td>1.0</td>\n",
       "      <td>0.0</td>\n",
       "    </tr>\n",
       "    <tr>\n",
       "      <th>7</th>\n",
       "      <td>0.0</td>\n",
       "      <td>0.0</td>\n",
       "      <td>0.0</td>\n",
       "      <td>0.0</td>\n",
       "      <td>0.0</td>\n",
       "      <td>0.0</td>\n",
       "      <td>0.0</td>\n",
       "      <td>1.0</td>\n",
       "    </tr>\n",
       "    <tr>\n",
       "      <th>8</th>\n",
       "      <td>0.0</td>\n",
       "      <td>0.0</td>\n",
       "      <td>0.0</td>\n",
       "      <td>0.0</td>\n",
       "      <td>0.0</td>\n",
       "      <td>0.0</td>\n",
       "      <td>0.0</td>\n",
       "      <td>1.0</td>\n",
       "    </tr>\n",
       "  </tbody>\n",
       "</table>\n",
       "</div>"
      ],
      "text/plain": [
       "  Argentina Bolivia Chile Colombia Costa Rica Ecuador México Perú\n",
       "0       1.0     0.0   0.0      0.0        0.0     0.0    0.0  0.0\n",
       "1       0.0     1.0   0.0      0.0        0.0     0.0    0.0  0.0\n",
       "2       0.0     0.0   1.0      0.0        0.0     0.0    0.0  0.0\n",
       "3       0.0     0.0   0.0      1.0        0.0     0.0    0.0  0.0\n",
       "4       0.0     0.0   0.0      0.0        1.0     0.0    0.0  0.0\n",
       "5       0.0     0.0   0.0      0.0        0.0     1.0    0.0  0.0\n",
       "6       0.0     0.0   0.0      0.0        0.0     0.0    1.0  0.0\n",
       "7       0.0     0.0   0.0      0.0        0.0     0.0    0.0  1.0\n",
       "8       0.0     0.0   0.0      0.0        0.0     0.0    0.0  1.0"
      ]
     },
     "execution_count": 14,
     "metadata": {},
     "output_type": "execute_result"
    }
   ],
   "source": [
    "# I constrium les noves columnes, amb el vector de numpy i els noms de columnes codificats en el codificador:\n",
    "\n",
    "noves_columnes_categories=pd.DataFrame(codificacio.toarray(), columns=noves_columnes)\n",
    "\n",
    "noves_columnes_categories"
   ]
  },
  {
   "cell_type": "code",
   "execution_count": 13,
   "metadata": {},
   "outputs": [
    {
     "ename": "AttributeError",
     "evalue": "'function' object has no attribute 'transform'",
     "output_type": "error",
     "traceback": [
      "\u001b[0;31m---------------------------------------------------------------------------\u001b[0m",
      "\u001b[0;31mAttributeError\u001b[0m                            Traceback (most recent call last)",
      "Cell \u001b[0;32mIn[13], line 8\u001b[0m\n\u001b[1;32m      6\u001b[0m sou_escalat \u001b[38;5;241m=\u001b[39m preprocessing\u001b[38;5;241m.\u001b[39mMinMaxScaler()\u001b[38;5;241m.\u001b[39mfit_transform(dades[\u001b[38;5;124m'\u001b[39m\u001b[38;5;124msou\u001b[39m\u001b[38;5;124m'\u001b[39m]\u001b[38;5;241m.\u001b[39mvalues\u001b[38;5;241m.\u001b[39mreshape(\u001b[38;5;241m-\u001b[39m\u001b[38;5;241m1\u001b[39m,\u001b[38;5;241m1\u001b[39m))\n\u001b[1;32m      7\u001b[0m codificador\u001b[38;5;241m=\u001b[39m OneHotEncoder()\n\u001b[0;32m----> 8\u001b[0m dades_one_hot \u001b[38;5;241m=\u001b[39m pd\u001b[38;5;241m.\u001b[39mDataFrame(\u001b[43mcodificador\u001b[49m\u001b[38;5;241;43m.\u001b[39;49m\u001b[43mfit\u001b[49m\u001b[38;5;241;43m.\u001b[39;49m\u001b[43mtransform\u001b[49m(dades[[\u001b[38;5;124m'\u001b[39m\u001b[38;5;124mpais\u001b[39m\u001b[38;5;124m'\u001b[39m]])\u001b[38;5;241m.\u001b[39mtoarray(), columns\u001b[38;5;241m=\u001b[39mnp\u001b[38;5;241m.\u001b[39mconcatenate(codificador\u001b[38;5;241m.\u001b[39mcategories_))\n\u001b[1;32m      9\u001b[0m sou_escalat_df\u001b[38;5;241m=\u001b[39m pd\u001b[38;5;241m.\u001b[39mDataFrame(sou_escalat, columns\u001b[38;5;241m=\u001b[39m[\u001b[38;5;124m'\u001b[39m\u001b[38;5;124msou_escalat\u001b[39m\u001b[38;5;124m'\u001b[39m])\n\u001b[1;32m     10\u001b[0m dades \u001b[38;5;241m=\u001b[39m pd\u001b[38;5;241m.\u001b[39mconcat([dades_one_hot, sou_escalat_df], axis\u001b[38;5;241m=\u001b[39m\u001b[38;5;241m1\u001b[39m)\n",
      "\u001b[0;31mAttributeError\u001b[0m: 'function' object has no attribute 'transform'"
     ]
    }
   ],
   "source": [
    "# I finalment, afegirm aquestes al DataFrame, mitjançant l'ordre pd.concat()\n",
    "\n",
    "from sklearn import preprocessing\n",
    "from sklearn.preprocessing import OneHotEncoder\n",
    "\n",
    "sou_escalat = preprocessing.MinMaxScaler().fit_transform(dades['sou'].values.reshape(-1,1))\n",
    "codificador= OneHotEncoder()\n",
    "dades_one_hot = pd.DataFrame(codificador.fit.transform(dades[['pais']]).toarray(), columns=np.concatenate(codificador.categories_))\n",
    "sou_escalat_df= pd.DataFrame(sou_escalat, columns=['sou_escalat'])\n",
    "dades = pd.concat([dades_one_hot, sou_escalat_df], axis=1)\n",
    "dades_one_hot_encoder"
   ]
  },
  {
   "cell_type": "markdown",
   "metadata": {},
   "source": [
    "Amb això, i com que estem representant el país en diverses columnes, no hi ha distinció ni infomració errònia que puga introduis biaixos en la mostra."
   ]
  },
  {
   "cell_type": "markdown",
   "metadata": {},
   "source": [
    "### Aplicant múltiples transformacions\n",
    "\n",
    "Quan tenim característiques amb diferents tipus i volem aplicar diferents codificadors, podem fer ús de transformadors.\n",
    "\n",
    "La classe `ColumnTransformer` d'Scikit-learn ajuda a realitzar diverses transformació p a diferents columnes de dades. Aquesta clase funciona tanb amb matrius com amb matrius disperses i DtaFrames de Pandas."
   ]
  },
  {
   "cell_type": "code",
   "execution_count": 179,
   "metadata": {},
   "outputs": [
    {
     "data": {
      "text/html": [
       "<div>\n",
       "<style scoped>\n",
       "    .dataframe tbody tr th:only-of-type {\n",
       "        vertical-align: middle;\n",
       "    }\n",
       "\n",
       "    .dataframe tbody tr th {\n",
       "        vertical-align: top;\n",
       "    }\n",
       "\n",
       "    .dataframe thead th {\n",
       "        text-align: right;\n",
       "    }\n",
       "</style>\n",
       "<table border=\"1\" class=\"dataframe\">\n",
       "  <thead>\n",
       "    <tr style=\"text-align: right;\">\n",
       "      <th></th>\n",
       "      <th>ciudad</th>\n",
       "      <th>titulo</th>\n",
       "      <th>expert_rating</th>\n",
       "      <th>user_rating</th>\n",
       "    </tr>\n",
       "  </thead>\n",
       "  <tbody>\n",
       "    <tr>\n",
       "      <th>0</th>\n",
       "      <td>London</td>\n",
       "      <td>His Last Bow</td>\n",
       "      <td>5</td>\n",
       "      <td>4</td>\n",
       "    </tr>\n",
       "    <tr>\n",
       "      <th>1</th>\n",
       "      <td>London</td>\n",
       "      <td>How Watson Learned the Trick</td>\n",
       "      <td>3</td>\n",
       "      <td>5</td>\n",
       "    </tr>\n",
       "    <tr>\n",
       "      <th>2</th>\n",
       "      <td>Paris</td>\n",
       "      <td>A Moveable Feast</td>\n",
       "      <td>4</td>\n",
       "      <td>4</td>\n",
       "    </tr>\n",
       "    <tr>\n",
       "      <th>3</th>\n",
       "      <td>Sallisaw</td>\n",
       "      <td>The Grapes of Wrath</td>\n",
       "      <td>5</td>\n",
       "      <td>3</td>\n",
       "    </tr>\n",
       "  </tbody>\n",
       "</table>\n",
       "</div>"
      ],
      "text/plain": [
       "     ciudad                        titulo  expert_rating  user_rating\n",
       "0    London                  His Last Bow              5            4\n",
       "1    London  How Watson Learned the Trick              3            5\n",
       "2     Paris              A Moveable Feast              4            4\n",
       "3  Sallisaw           The Grapes of Wrath              5            3"
      ]
     },
     "execution_count": 179,
     "metadata": {},
     "output_type": "execute_result"
    }
   ],
   "source": [
    "# Exemple: Tenim el següent DataFrame, amb dades heterogènies:\n",
    "\n",
    "import pandas as pd\n",
    "\n",
    "X = pd.DataFrame(\n",
    "{ 'ciudad': ['London', 'London', 'Paris', 'Sallisaw'],\n",
    "  'titulo': [\"His Last Bow\", \"How Watson Learned the Trick\",\n",
    "           \"A Moveable Feast\", \"The Grapes of Wrath\"],\n",
    "   'expert_rating': [5, 3, 4, 5],\n",
    "   'user_rating': [4, 5, 4, 3]})\n",
    "X"
   ]
  },
  {
   "cell_type": "markdown",
   "metadata": {},
   "source": [
    "Podriem per exemple voler codificar la *ciutat* com una variable categòrica, fent ús de *OneHotEncoder* però aplicant un *CountVectorizer* al títol. Com que podem fer ús de diversos mètodes d'extracció de característiques en la mateixa columna, podem donar a cada transformador un nom únic (p. ex. 'cat_ciutat' i 'titol_nou'). Recordem que de manera predeterminada, les columnes de qualificació restants s'ignoren (`remainder='drop'`)."
   ]
  },
  {
   "cell_type": "code",
   "execution_count": 180,
   "metadata": {},
   "outputs": [
    {
     "data": {
      "text/html": [
       "<style>#sk-container-id-3 {color: black;}#sk-container-id-3 pre{padding: 0;}#sk-container-id-3 div.sk-toggleable {background-color: white;}#sk-container-id-3 label.sk-toggleable__label {cursor: pointer;display: block;width: 100%;margin-bottom: 0;padding: 0.3em;box-sizing: border-box;text-align: center;}#sk-container-id-3 label.sk-toggleable__label-arrow:before {content: \"▸\";float: left;margin-right: 0.25em;color: #696969;}#sk-container-id-3 label.sk-toggleable__label-arrow:hover:before {color: black;}#sk-container-id-3 div.sk-estimator:hover label.sk-toggleable__label-arrow:before {color: black;}#sk-container-id-3 div.sk-toggleable__content {max-height: 0;max-width: 0;overflow: hidden;text-align: left;background-color: #f0f8ff;}#sk-container-id-3 div.sk-toggleable__content pre {margin: 0.2em;color: black;border-radius: 0.25em;background-color: #f0f8ff;}#sk-container-id-3 input.sk-toggleable__control:checked~div.sk-toggleable__content {max-height: 200px;max-width: 100%;overflow: auto;}#sk-container-id-3 input.sk-toggleable__control:checked~label.sk-toggleable__label-arrow:before {content: \"▾\";}#sk-container-id-3 div.sk-estimator input.sk-toggleable__control:checked~label.sk-toggleable__label {background-color: #d4ebff;}#sk-container-id-3 div.sk-label input.sk-toggleable__control:checked~label.sk-toggleable__label {background-color: #d4ebff;}#sk-container-id-3 input.sk-hidden--visually {border: 0;clip: rect(1px 1px 1px 1px);clip: rect(1px, 1px, 1px, 1px);height: 1px;margin: -1px;overflow: hidden;padding: 0;position: absolute;width: 1px;}#sk-container-id-3 div.sk-estimator {font-family: monospace;background-color: #f0f8ff;border: 1px dotted black;border-radius: 0.25em;box-sizing: border-box;margin-bottom: 0.5em;}#sk-container-id-3 div.sk-estimator:hover {background-color: #d4ebff;}#sk-container-id-3 div.sk-parallel-item::after {content: \"\";width: 100%;border-bottom: 1px solid gray;flex-grow: 1;}#sk-container-id-3 div.sk-label:hover label.sk-toggleable__label {background-color: #d4ebff;}#sk-container-id-3 div.sk-serial::before {content: \"\";position: absolute;border-left: 1px solid gray;box-sizing: border-box;top: 0;bottom: 0;left: 50%;z-index: 0;}#sk-container-id-3 div.sk-serial {display: flex;flex-direction: column;align-items: center;background-color: white;padding-right: 0.2em;padding-left: 0.2em;position: relative;}#sk-container-id-3 div.sk-item {position: relative;z-index: 1;}#sk-container-id-3 div.sk-parallel {display: flex;align-items: stretch;justify-content: center;background-color: white;position: relative;}#sk-container-id-3 div.sk-item::before, #sk-container-id-3 div.sk-parallel-item::before {content: \"\";position: absolute;border-left: 1px solid gray;box-sizing: border-box;top: 0;bottom: 0;left: 50%;z-index: -1;}#sk-container-id-3 div.sk-parallel-item {display: flex;flex-direction: column;z-index: 1;position: relative;background-color: white;}#sk-container-id-3 div.sk-parallel-item:first-child::after {align-self: flex-end;width: 50%;}#sk-container-id-3 div.sk-parallel-item:last-child::after {align-self: flex-start;width: 50%;}#sk-container-id-3 div.sk-parallel-item:only-child::after {width: 0;}#sk-container-id-3 div.sk-dashed-wrapped {border: 1px dashed gray;margin: 0 0.4em 0.5em 0.4em;box-sizing: border-box;padding-bottom: 0.4em;background-color: white;}#sk-container-id-3 div.sk-label label {font-family: monospace;font-weight: bold;display: inline-block;line-height: 1.2em;}#sk-container-id-3 div.sk-label-container {text-align: center;}#sk-container-id-3 div.sk-container {/* jupyter's `normalize.less` sets `[hidden] { display: none; }` but bootstrap.min.css set `[hidden] { display: none !important; }` so we also need the `!important` here to be able to override the default hidden behavior on the sphinx rendered scikit-learn.org. See: https://github.com/scikit-learn/scikit-learn/issues/21755 */display: inline-block !important;position: relative;}#sk-container-id-3 div.sk-text-repr-fallback {display: none;}</style><div id=\"sk-container-id-3\" class=\"sk-top-container\"><div class=\"sk-text-repr-fallback\"><pre>ColumnTransformer(transformers=[(&#x27;cat_ciutat&#x27;, OneHotEncoder(dtype=&#x27;int&#x27;),\n",
       "                                 [&#x27;ciudad&#x27;]),\n",
       "                                (&#x27;titol_nou&#x27;, CountVectorizer(), &#x27;titulo&#x27;)],\n",
       "                  verbose_feature_names_out=False)</pre><b>In a Jupyter environment, please rerun this cell to show the HTML representation or trust the notebook. <br />On GitHub, the HTML representation is unable to render, please try loading this page with nbviewer.org.</b></div><div class=\"sk-container\" hidden><div class=\"sk-item sk-dashed-wrapped\"><div class=\"sk-label-container\"><div class=\"sk-label sk-toggleable\"><input class=\"sk-toggleable__control sk-hidden--visually\" id=\"sk-estimator-id-13\" type=\"checkbox\" ><label for=\"sk-estimator-id-13\" class=\"sk-toggleable__label sk-toggleable__label-arrow\">ColumnTransformer</label><div class=\"sk-toggleable__content\"><pre>ColumnTransformer(transformers=[(&#x27;cat_ciutat&#x27;, OneHotEncoder(dtype=&#x27;int&#x27;),\n",
       "                                 [&#x27;ciudad&#x27;]),\n",
       "                                (&#x27;titol_nou&#x27;, CountVectorizer(), &#x27;titulo&#x27;)],\n",
       "                  verbose_feature_names_out=False)</pre></div></div></div><div class=\"sk-parallel\"><div class=\"sk-parallel-item\"><div class=\"sk-item\"><div class=\"sk-label-container\"><div class=\"sk-label sk-toggleable\"><input class=\"sk-toggleable__control sk-hidden--visually\" id=\"sk-estimator-id-14\" type=\"checkbox\" ><label for=\"sk-estimator-id-14\" class=\"sk-toggleable__label sk-toggleable__label-arrow\">cat_ciutat</label><div class=\"sk-toggleable__content\"><pre>[&#x27;ciudad&#x27;]</pre></div></div></div><div class=\"sk-serial\"><div class=\"sk-item\"><div class=\"sk-estimator sk-toggleable\"><input class=\"sk-toggleable__control sk-hidden--visually\" id=\"sk-estimator-id-15\" type=\"checkbox\" ><label for=\"sk-estimator-id-15\" class=\"sk-toggleable__label sk-toggleable__label-arrow\">OneHotEncoder</label><div class=\"sk-toggleable__content\"><pre>OneHotEncoder(dtype=&#x27;int&#x27;)</pre></div></div></div></div></div></div><div class=\"sk-parallel-item\"><div class=\"sk-item\"><div class=\"sk-label-container\"><div class=\"sk-label sk-toggleable\"><input class=\"sk-toggleable__control sk-hidden--visually\" id=\"sk-estimator-id-16\" type=\"checkbox\" ><label for=\"sk-estimator-id-16\" class=\"sk-toggleable__label sk-toggleable__label-arrow\">titol_nou</label><div class=\"sk-toggleable__content\"><pre>titulo</pre></div></div></div><div class=\"sk-serial\"><div class=\"sk-item\"><div class=\"sk-estimator sk-toggleable\"><input class=\"sk-toggleable__control sk-hidden--visually\" id=\"sk-estimator-id-17\" type=\"checkbox\" ><label for=\"sk-estimator-id-17\" class=\"sk-toggleable__label sk-toggleable__label-arrow\">CountVectorizer</label><div class=\"sk-toggleable__content\"><pre>CountVectorizer()</pre></div></div></div></div></div></div></div></div></div></div>"
      ],
      "text/plain": [
       "ColumnTransformer(transformers=[('cat_ciutat', OneHotEncoder(dtype='int'),\n",
       "                                 ['ciudad']),\n",
       "                                ('titol_nou', CountVectorizer(), 'titulo')],\n",
       "                  verbose_feature_names_out=False)"
      ]
     },
     "execution_count": 180,
     "metadata": {},
     "output_type": "execute_result"
    }
   ],
   "source": [
    "# Importem ColumnTransformer, CountVectorizer i OneHotEncoder\n",
    "from sklearn.compose import ColumnTransformer\n",
    "from sklearn.feature_extraction.text import CountVectorizer\n",
    "from sklearn.preprocessing import OneHotEncoder\n",
    "\n",
    "# Definim el ColumnTransformer amb un parell de tuples amb els transformadors:\n",
    "# * La primera (cat_ciutat) aplica una codificació OneHotEncoder sobre la columna *ciudad*\n",
    "# * La segona (titol_nou) aplica un CountVectorizer sobre el títol.\n",
    "# Fem ús de remainder=drop, per a que la resta de columnes s'eliminen\n",
    "# I amb verbose_features_names_out a False mantenim els noms de les característiques/columnes amb prefix\n",
    "# Amb true, el transformador posa el nom que hem escrit (cat_ciutat, titol_ nou...)\n",
    "\n",
    "column_trans = ColumnTransformer(\n",
    "    [('cat_ciutat' , OneHotEncoder(dtype='int'), ['ciudad']),\n",
    "     ('titol_nou', CountVectorizer(), 'titulo')],\n",
    "      remainder='drop', verbose_feature_names_out=False) # si remainder='passthrough' les columnes es mantenen.\n",
    "\n",
    "column_trans.fit(X)\n"
   ]
  },
  {
   "cell_type": "code",
   "execution_count": 181,
   "metadata": {},
   "outputs": [
    {
     "data": {
      "text/plain": [
       "array(['ciudad_London', 'ciudad_Paris', 'ciudad_Sallisaw', 'bow', 'feast',\n",
       "       'grapes', 'his', 'how', 'last', 'learned', 'moveable', 'of', 'the',\n",
       "       'trick', 'watson', 'wrath'], dtype=object)"
      ]
     },
     "execution_count": 181,
     "metadata": {},
     "output_type": "execute_result"
    }
   ],
   "source": [
    "# Veiem ara els noms de les columnes que es van a generar\n",
    "column_trans.get_feature_names_out()"
   ]
  },
  {
   "cell_type": "code",
   "execution_count": 182,
   "metadata": {},
   "outputs": [
    {
     "data": {
      "text/plain": [
       "array([[1, 0, 0, 1, 0, 0, 1, 0, 1, 0, 0, 0, 0, 0, 0, 0],\n",
       "       [1, 0, 0, 0, 0, 0, 0, 1, 0, 1, 0, 0, 1, 1, 1, 0],\n",
       "       [0, 1, 0, 0, 1, 0, 0, 0, 0, 0, 1, 0, 0, 0, 0, 0],\n",
       "       [0, 0, 1, 0, 0, 1, 0, 0, 0, 0, 0, 1, 1, 0, 0, 1]])"
      ]
     },
     "execution_count": 182,
     "metadata": {},
     "output_type": "execute_result"
    }
   ],
   "source": [
    "# Transformem les dades i mostrem el vector generat\n",
    "column_trans.transform(X).toarray()"
   ]
  },
  {
   "cell_type": "code",
   "execution_count": 183,
   "metadata": {},
   "outputs": [
    {
     "data": {
      "text/html": [
       "<div>\n",
       "<style scoped>\n",
       "    .dataframe tbody tr th:only-of-type {\n",
       "        vertical-align: middle;\n",
       "    }\n",
       "\n",
       "    .dataframe tbody tr th {\n",
       "        vertical-align: top;\n",
       "    }\n",
       "\n",
       "    .dataframe thead th {\n",
       "        text-align: right;\n",
       "    }\n",
       "</style>\n",
       "<table border=\"1\" class=\"dataframe\">\n",
       "  <thead>\n",
       "    <tr style=\"text-align: right;\">\n",
       "      <th></th>\n",
       "      <th>ciudad_London</th>\n",
       "      <th>ciudad_Paris</th>\n",
       "      <th>ciudad_Sallisaw</th>\n",
       "      <th>bow</th>\n",
       "      <th>feast</th>\n",
       "      <th>grapes</th>\n",
       "      <th>his</th>\n",
       "      <th>how</th>\n",
       "      <th>last</th>\n",
       "      <th>learned</th>\n",
       "      <th>moveable</th>\n",
       "      <th>of</th>\n",
       "      <th>the</th>\n",
       "      <th>trick</th>\n",
       "      <th>watson</th>\n",
       "      <th>wrath</th>\n",
       "    </tr>\n",
       "  </thead>\n",
       "  <tbody>\n",
       "    <tr>\n",
       "      <th>0</th>\n",
       "      <td>1</td>\n",
       "      <td>0</td>\n",
       "      <td>0</td>\n",
       "      <td>1</td>\n",
       "      <td>0</td>\n",
       "      <td>0</td>\n",
       "      <td>1</td>\n",
       "      <td>0</td>\n",
       "      <td>1</td>\n",
       "      <td>0</td>\n",
       "      <td>0</td>\n",
       "      <td>0</td>\n",
       "      <td>0</td>\n",
       "      <td>0</td>\n",
       "      <td>0</td>\n",
       "      <td>0</td>\n",
       "    </tr>\n",
       "    <tr>\n",
       "      <th>1</th>\n",
       "      <td>1</td>\n",
       "      <td>0</td>\n",
       "      <td>0</td>\n",
       "      <td>0</td>\n",
       "      <td>0</td>\n",
       "      <td>0</td>\n",
       "      <td>0</td>\n",
       "      <td>1</td>\n",
       "      <td>0</td>\n",
       "      <td>1</td>\n",
       "      <td>0</td>\n",
       "      <td>0</td>\n",
       "      <td>1</td>\n",
       "      <td>1</td>\n",
       "      <td>1</td>\n",
       "      <td>0</td>\n",
       "    </tr>\n",
       "    <tr>\n",
       "      <th>2</th>\n",
       "      <td>0</td>\n",
       "      <td>1</td>\n",
       "      <td>0</td>\n",
       "      <td>0</td>\n",
       "      <td>1</td>\n",
       "      <td>0</td>\n",
       "      <td>0</td>\n",
       "      <td>0</td>\n",
       "      <td>0</td>\n",
       "      <td>0</td>\n",
       "      <td>1</td>\n",
       "      <td>0</td>\n",
       "      <td>0</td>\n",
       "      <td>0</td>\n",
       "      <td>0</td>\n",
       "      <td>0</td>\n",
       "    </tr>\n",
       "    <tr>\n",
       "      <th>3</th>\n",
       "      <td>0</td>\n",
       "      <td>0</td>\n",
       "      <td>1</td>\n",
       "      <td>0</td>\n",
       "      <td>0</td>\n",
       "      <td>1</td>\n",
       "      <td>0</td>\n",
       "      <td>0</td>\n",
       "      <td>0</td>\n",
       "      <td>0</td>\n",
       "      <td>0</td>\n",
       "      <td>1</td>\n",
       "      <td>1</td>\n",
       "      <td>0</td>\n",
       "      <td>0</td>\n",
       "      <td>1</td>\n",
       "    </tr>\n",
       "  </tbody>\n",
       "</table>\n",
       "</div>"
      ],
      "text/plain": [
       "   ciudad_London  ciudad_Paris  ciudad_Sallisaw  bow  feast  grapes  his  how  \\\n",
       "0              1             0                0    1      0       0    1    0   \n",
       "1              1             0                0    0      0       0    0    1   \n",
       "2              0             1                0    0      1       0    0    0   \n",
       "3              0             0                1    0      0       1    0    0   \n",
       "\n",
       "   last  learned  moveable  of  the  trick  watson  wrath  \n",
       "0     1        0         0   0    0      0       0      0  \n",
       "1     0        1         0   0    1      1       1      0  \n",
       "2     0        0         1   0    0      0       0      0  \n",
       "3     0        0         0   1    1      0       0      1  "
      ]
     },
     "execution_count": 183,
     "metadata": {},
     "output_type": "execute_result"
    }
   ],
   "source": [
    "# Finalment creem un dataframe amb les dades transformades\n",
    "\n",
    "novesCol=column_trans.get_feature_names_out()\n",
    "dades=pd.DataFrame(column_trans.transform(X).toarray(), columns=novesCol)\n",
    "dades"
   ]
  },
  {
   "cell_type": "code",
   "execution_count": 184,
   "metadata": {},
   "outputs": [
    {
     "data": {
      "text/html": [
       "<style>#sk-container-id-4 {color: black;}#sk-container-id-4 pre{padding: 0;}#sk-container-id-4 div.sk-toggleable {background-color: white;}#sk-container-id-4 label.sk-toggleable__label {cursor: pointer;display: block;width: 100%;margin-bottom: 0;padding: 0.3em;box-sizing: border-box;text-align: center;}#sk-container-id-4 label.sk-toggleable__label-arrow:before {content: \"▸\";float: left;margin-right: 0.25em;color: #696969;}#sk-container-id-4 label.sk-toggleable__label-arrow:hover:before {color: black;}#sk-container-id-4 div.sk-estimator:hover label.sk-toggleable__label-arrow:before {color: black;}#sk-container-id-4 div.sk-toggleable__content {max-height: 0;max-width: 0;overflow: hidden;text-align: left;background-color: #f0f8ff;}#sk-container-id-4 div.sk-toggleable__content pre {margin: 0.2em;color: black;border-radius: 0.25em;background-color: #f0f8ff;}#sk-container-id-4 input.sk-toggleable__control:checked~div.sk-toggleable__content {max-height: 200px;max-width: 100%;overflow: auto;}#sk-container-id-4 input.sk-toggleable__control:checked~label.sk-toggleable__label-arrow:before {content: \"▾\";}#sk-container-id-4 div.sk-estimator input.sk-toggleable__control:checked~label.sk-toggleable__label {background-color: #d4ebff;}#sk-container-id-4 div.sk-label input.sk-toggleable__control:checked~label.sk-toggleable__label {background-color: #d4ebff;}#sk-container-id-4 input.sk-hidden--visually {border: 0;clip: rect(1px 1px 1px 1px);clip: rect(1px, 1px, 1px, 1px);height: 1px;margin: -1px;overflow: hidden;padding: 0;position: absolute;width: 1px;}#sk-container-id-4 div.sk-estimator {font-family: monospace;background-color: #f0f8ff;border: 1px dotted black;border-radius: 0.25em;box-sizing: border-box;margin-bottom: 0.5em;}#sk-container-id-4 div.sk-estimator:hover {background-color: #d4ebff;}#sk-container-id-4 div.sk-parallel-item::after {content: \"\";width: 100%;border-bottom: 1px solid gray;flex-grow: 1;}#sk-container-id-4 div.sk-label:hover label.sk-toggleable__label {background-color: #d4ebff;}#sk-container-id-4 div.sk-serial::before {content: \"\";position: absolute;border-left: 1px solid gray;box-sizing: border-box;top: 0;bottom: 0;left: 50%;z-index: 0;}#sk-container-id-4 div.sk-serial {display: flex;flex-direction: column;align-items: center;background-color: white;padding-right: 0.2em;padding-left: 0.2em;position: relative;}#sk-container-id-4 div.sk-item {position: relative;z-index: 1;}#sk-container-id-4 div.sk-parallel {display: flex;align-items: stretch;justify-content: center;background-color: white;position: relative;}#sk-container-id-4 div.sk-item::before, #sk-container-id-4 div.sk-parallel-item::before {content: \"\";position: absolute;border-left: 1px solid gray;box-sizing: border-box;top: 0;bottom: 0;left: 50%;z-index: -1;}#sk-container-id-4 div.sk-parallel-item {display: flex;flex-direction: column;z-index: 1;position: relative;background-color: white;}#sk-container-id-4 div.sk-parallel-item:first-child::after {align-self: flex-end;width: 50%;}#sk-container-id-4 div.sk-parallel-item:last-child::after {align-self: flex-start;width: 50%;}#sk-container-id-4 div.sk-parallel-item:only-child::after {width: 0;}#sk-container-id-4 div.sk-dashed-wrapped {border: 1px dashed gray;margin: 0 0.4em 0.5em 0.4em;box-sizing: border-box;padding-bottom: 0.4em;background-color: white;}#sk-container-id-4 div.sk-label label {font-family: monospace;font-weight: bold;display: inline-block;line-height: 1.2em;}#sk-container-id-4 div.sk-label-container {text-align: center;}#sk-container-id-4 div.sk-container {/* jupyter's `normalize.less` sets `[hidden] { display: none; }` but bootstrap.min.css set `[hidden] { display: none !important; }` so we also need the `!important` here to be able to override the default hidden behavior on the sphinx rendered scikit-learn.org. See: https://github.com/scikit-learn/scikit-learn/issues/21755 */display: inline-block !important;position: relative;}#sk-container-id-4 div.sk-text-repr-fallback {display: none;}</style><div id=\"sk-container-id-4\" class=\"sk-top-container\"><div class=\"sk-text-repr-fallback\"><pre>ColumnTransformer(remainder=&#x27;passthrough&#x27;,\n",
       "                  transformers=[(&#x27;cat_ciutat&#x27;, OneHotEncoder(dtype=&#x27;int&#x27;),\n",
       "                                 [&#x27;ciudad&#x27;]),\n",
       "                                (&#x27;titol_nou&#x27;, CountVectorizer(), &#x27;titulo&#x27;)],\n",
       "                  verbose_feature_names_out=False)</pre><b>In a Jupyter environment, please rerun this cell to show the HTML representation or trust the notebook. <br />On GitHub, the HTML representation is unable to render, please try loading this page with nbviewer.org.</b></div><div class=\"sk-container\" hidden><div class=\"sk-item sk-dashed-wrapped\"><div class=\"sk-label-container\"><div class=\"sk-label sk-toggleable\"><input class=\"sk-toggleable__control sk-hidden--visually\" id=\"sk-estimator-id-18\" type=\"checkbox\" ><label for=\"sk-estimator-id-18\" class=\"sk-toggleable__label sk-toggleable__label-arrow\">ColumnTransformer</label><div class=\"sk-toggleable__content\"><pre>ColumnTransformer(remainder=&#x27;passthrough&#x27;,\n",
       "                  transformers=[(&#x27;cat_ciutat&#x27;, OneHotEncoder(dtype=&#x27;int&#x27;),\n",
       "                                 [&#x27;ciudad&#x27;]),\n",
       "                                (&#x27;titol_nou&#x27;, CountVectorizer(), &#x27;titulo&#x27;)],\n",
       "                  verbose_feature_names_out=False)</pre></div></div></div><div class=\"sk-parallel\"><div class=\"sk-parallel-item\"><div class=\"sk-item\"><div class=\"sk-label-container\"><div class=\"sk-label sk-toggleable\"><input class=\"sk-toggleable__control sk-hidden--visually\" id=\"sk-estimator-id-19\" type=\"checkbox\" ><label for=\"sk-estimator-id-19\" class=\"sk-toggleable__label sk-toggleable__label-arrow\">cat_ciutat</label><div class=\"sk-toggleable__content\"><pre>[&#x27;ciudad&#x27;]</pre></div></div></div><div class=\"sk-serial\"><div class=\"sk-item\"><div class=\"sk-estimator sk-toggleable\"><input class=\"sk-toggleable__control sk-hidden--visually\" id=\"sk-estimator-id-20\" type=\"checkbox\" ><label for=\"sk-estimator-id-20\" class=\"sk-toggleable__label sk-toggleable__label-arrow\">OneHotEncoder</label><div class=\"sk-toggleable__content\"><pre>OneHotEncoder(dtype=&#x27;int&#x27;)</pre></div></div></div></div></div></div><div class=\"sk-parallel-item\"><div class=\"sk-item\"><div class=\"sk-label-container\"><div class=\"sk-label sk-toggleable\"><input class=\"sk-toggleable__control sk-hidden--visually\" id=\"sk-estimator-id-21\" type=\"checkbox\" ><label for=\"sk-estimator-id-21\" class=\"sk-toggleable__label sk-toggleable__label-arrow\">titol_nou</label><div class=\"sk-toggleable__content\"><pre>titulo</pre></div></div></div><div class=\"sk-serial\"><div class=\"sk-item\"><div class=\"sk-estimator sk-toggleable\"><input class=\"sk-toggleable__control sk-hidden--visually\" id=\"sk-estimator-id-22\" type=\"checkbox\" ><label for=\"sk-estimator-id-22\" class=\"sk-toggleable__label sk-toggleable__label-arrow\">CountVectorizer</label><div class=\"sk-toggleable__content\"><pre>CountVectorizer()</pre></div></div></div></div></div></div><div class=\"sk-parallel-item\"><div class=\"sk-item\"><div class=\"sk-label-container\"><div class=\"sk-label sk-toggleable\"><input class=\"sk-toggleable__control sk-hidden--visually\" id=\"sk-estimator-id-23\" type=\"checkbox\" ><label for=\"sk-estimator-id-23\" class=\"sk-toggleable__label sk-toggleable__label-arrow\">remainder</label><div class=\"sk-toggleable__content\"><pre>[&#x27;expert_rating&#x27;, &#x27;user_rating&#x27;]</pre></div></div></div><div class=\"sk-serial\"><div class=\"sk-item\"><div class=\"sk-estimator sk-toggleable\"><input class=\"sk-toggleable__control sk-hidden--visually\" id=\"sk-estimator-id-24\" type=\"checkbox\" ><label for=\"sk-estimator-id-24\" class=\"sk-toggleable__label sk-toggleable__label-arrow\">passthrough</label><div class=\"sk-toggleable__content\"><pre>passthrough</pre></div></div></div></div></div></div></div></div></div></div>"
      ],
      "text/plain": [
       "ColumnTransformer(remainder='passthrough',\n",
       "                  transformers=[('cat_ciutat', OneHotEncoder(dtype='int'),\n",
       "                                 ['ciudad']),\n",
       "                                ('titol_nou', CountVectorizer(), 'titulo')],\n",
       "                  verbose_feature_names_out=False)"
      ]
     },
     "execution_count": 184,
     "metadata": {},
     "output_type": "execute_result"
    }
   ],
   "source": [
    "# Veiem ara què passa si deixem remainder='passthrough'\n",
    "\n",
    "column_trans_2 = ColumnTransformer(\n",
    "    [('cat_ciutat' , OneHotEncoder(dtype='int'), ['ciudad']),\n",
    "     ('titol_nou', CountVectorizer(), 'titulo')],\n",
    "      remainder='passthrough', verbose_feature_names_out=False)\n",
    "\n",
    "column_trans_2.fit(X)"
   ]
  },
  {
   "cell_type": "code",
   "execution_count": 185,
   "metadata": {},
   "outputs": [
    {
     "data": {
      "text/plain": [
       "array(['ciudad_London', 'ciudad_Paris', 'ciudad_Sallisaw', 'bow', 'feast',\n",
       "       'grapes', 'his', 'how', 'last', 'learned', 'moveable', 'of', 'the',\n",
       "       'trick', 'watson', 'wrath', 'expert_rating', 'user_rating'],\n",
       "      dtype=object)"
      ]
     },
     "execution_count": 185,
     "metadata": {},
     "output_type": "execute_result"
    }
   ],
   "source": [
    "# Veiem ara els noms de les columnes que es van a generar \n",
    "# (observeu que apareixen també expert_rating i user_rating)\n",
    "column_trans_2.get_feature_names_out()\n",
    "\n"
   ]
  },
  {
   "cell_type": "code",
   "execution_count": 186,
   "metadata": {},
   "outputs": [
    {
     "data": {
      "text/plain": [
       "array([[1, 0, 0, 1, 0, 0, 1, 0, 1, 0, 0, 0, 0, 0, 0, 0, 5, 4],\n",
       "       [1, 0, 0, 0, 0, 0, 0, 1, 0, 1, 0, 0, 1, 1, 1, 0, 3, 5],\n",
       "       [0, 1, 0, 0, 1, 0, 0, 0, 0, 0, 1, 0, 0, 0, 0, 0, 4, 4],\n",
       "       [0, 0, 1, 0, 0, 1, 0, 0, 0, 0, 0, 1, 1, 0, 0, 1, 5, 3]])"
      ]
     },
     "execution_count": 186,
     "metadata": {},
     "output_type": "execute_result"
    }
   ],
   "source": [
    "# Transformem les dades i mostrem el vector generat\n",
    "# En aquest cas, no hem de fer la conversió a array, ja \n",
    "# que el resultat de la transformació és ja un array (no una matriu dispersa).\n",
    "column_trans_2.transform(X)"
   ]
  },
  {
   "cell_type": "code",
   "execution_count": 187,
   "metadata": {},
   "outputs": [
    {
     "data": {
      "text/html": [
       "<div>\n",
       "<style scoped>\n",
       "    .dataframe tbody tr th:only-of-type {\n",
       "        vertical-align: middle;\n",
       "    }\n",
       "\n",
       "    .dataframe tbody tr th {\n",
       "        vertical-align: top;\n",
       "    }\n",
       "\n",
       "    .dataframe thead th {\n",
       "        text-align: right;\n",
       "    }\n",
       "</style>\n",
       "<table border=\"1\" class=\"dataframe\">\n",
       "  <thead>\n",
       "    <tr style=\"text-align: right;\">\n",
       "      <th></th>\n",
       "      <th>ciudad_London</th>\n",
       "      <th>ciudad_Paris</th>\n",
       "      <th>ciudad_Sallisaw</th>\n",
       "      <th>bow</th>\n",
       "      <th>feast</th>\n",
       "      <th>grapes</th>\n",
       "      <th>his</th>\n",
       "      <th>how</th>\n",
       "      <th>last</th>\n",
       "      <th>learned</th>\n",
       "      <th>moveable</th>\n",
       "      <th>of</th>\n",
       "      <th>the</th>\n",
       "      <th>trick</th>\n",
       "      <th>watson</th>\n",
       "      <th>wrath</th>\n",
       "      <th>expert_rating</th>\n",
       "      <th>user_rating</th>\n",
       "    </tr>\n",
       "  </thead>\n",
       "  <tbody>\n",
       "    <tr>\n",
       "      <th>0</th>\n",
       "      <td>1</td>\n",
       "      <td>0</td>\n",
       "      <td>0</td>\n",
       "      <td>1</td>\n",
       "      <td>0</td>\n",
       "      <td>0</td>\n",
       "      <td>1</td>\n",
       "      <td>0</td>\n",
       "      <td>1</td>\n",
       "      <td>0</td>\n",
       "      <td>0</td>\n",
       "      <td>0</td>\n",
       "      <td>0</td>\n",
       "      <td>0</td>\n",
       "      <td>0</td>\n",
       "      <td>0</td>\n",
       "      <td>5</td>\n",
       "      <td>4</td>\n",
       "    </tr>\n",
       "    <tr>\n",
       "      <th>1</th>\n",
       "      <td>1</td>\n",
       "      <td>0</td>\n",
       "      <td>0</td>\n",
       "      <td>0</td>\n",
       "      <td>0</td>\n",
       "      <td>0</td>\n",
       "      <td>0</td>\n",
       "      <td>1</td>\n",
       "      <td>0</td>\n",
       "      <td>1</td>\n",
       "      <td>0</td>\n",
       "      <td>0</td>\n",
       "      <td>1</td>\n",
       "      <td>1</td>\n",
       "      <td>1</td>\n",
       "      <td>0</td>\n",
       "      <td>3</td>\n",
       "      <td>5</td>\n",
       "    </tr>\n",
       "    <tr>\n",
       "      <th>2</th>\n",
       "      <td>0</td>\n",
       "      <td>1</td>\n",
       "      <td>0</td>\n",
       "      <td>0</td>\n",
       "      <td>1</td>\n",
       "      <td>0</td>\n",
       "      <td>0</td>\n",
       "      <td>0</td>\n",
       "      <td>0</td>\n",
       "      <td>0</td>\n",
       "      <td>1</td>\n",
       "      <td>0</td>\n",
       "      <td>0</td>\n",
       "      <td>0</td>\n",
       "      <td>0</td>\n",
       "      <td>0</td>\n",
       "      <td>4</td>\n",
       "      <td>4</td>\n",
       "    </tr>\n",
       "    <tr>\n",
       "      <th>3</th>\n",
       "      <td>0</td>\n",
       "      <td>0</td>\n",
       "      <td>1</td>\n",
       "      <td>0</td>\n",
       "      <td>0</td>\n",
       "      <td>1</td>\n",
       "      <td>0</td>\n",
       "      <td>0</td>\n",
       "      <td>0</td>\n",
       "      <td>0</td>\n",
       "      <td>0</td>\n",
       "      <td>1</td>\n",
       "      <td>1</td>\n",
       "      <td>0</td>\n",
       "      <td>0</td>\n",
       "      <td>1</td>\n",
       "      <td>5</td>\n",
       "      <td>3</td>\n",
       "    </tr>\n",
       "  </tbody>\n",
       "</table>\n",
       "</div>"
      ],
      "text/plain": [
       "   ciudad_London  ciudad_Paris  ciudad_Sallisaw  bow  feast  grapes  his  how  \\\n",
       "0              1             0                0    1      0       0    1    0   \n",
       "1              1             0                0    0      0       0    0    1   \n",
       "2              0             1                0    0      1       0    0    0   \n",
       "3              0             0                1    0      0       1    0    0   \n",
       "\n",
       "   last  learned  moveable  of  the  trick  watson  wrath  expert_rating  \\\n",
       "0     1        0         0   0    0      0       0      0              5   \n",
       "1     0        1         0   0    1      1       1      0              3   \n",
       "2     0        0         1   0    0      0       0      0              4   \n",
       "3     0        0         0   1    1      0       0      1              5   \n",
       "\n",
       "   user_rating  \n",
       "0            4  \n",
       "1            5  \n",
       "2            4  \n",
       "3            3  "
      ]
     },
     "execution_count": 187,
     "metadata": {},
     "output_type": "execute_result"
    }
   ],
   "source": [
    "# Veiem ara el dataframe amb les dades transformades\n",
    "\n",
    "novesCol_2=column_trans_2.get_feature_names_out()\n",
    "dades_2=pd.DataFrame(column_trans_2.transform(X), columns=novesCol_2)\n",
    "dades_2"
   ]
  },
  {
   "cell_type": "code",
   "execution_count": 188,
   "metadata": {},
   "outputs": [
    {
     "name": "stdout",
     "output_type": "stream",
     "text": [
      "[[1.  0.  0.  1.  0.  0.  1.  0.  1.  0.  0.  0.  0.  0.  0.  0.  1.  0.5]\n",
      " [1.  0.  0.  0.  0.  0.  0.  1.  0.  1.  0.  0.  1.  1.  1.  0.  0.  1. ]\n",
      " [0.  1.  0.  0.  1.  0.  0.  0.  0.  0.  1.  0.  0.  0.  0.  0.  0.5 0.5]\n",
      " [0.  0.  1.  0.  0.  1.  0.  0.  0.  0.  0.  1.  1.  0.  0.  1.  1.  0. ]]\n"
     ]
    },
    {
     "data": {
      "text/html": [
       "<div>\n",
       "<style scoped>\n",
       "    .dataframe tbody tr th:only-of-type {\n",
       "        vertical-align: middle;\n",
       "    }\n",
       "\n",
       "    .dataframe tbody tr th {\n",
       "        vertical-align: top;\n",
       "    }\n",
       "\n",
       "    .dataframe thead th {\n",
       "        text-align: right;\n",
       "    }\n",
       "</style>\n",
       "<table border=\"1\" class=\"dataframe\">\n",
       "  <thead>\n",
       "    <tr style=\"text-align: right;\">\n",
       "      <th></th>\n",
       "      <th>ciudad_London</th>\n",
       "      <th>ciudad_Paris</th>\n",
       "      <th>ciudad_Sallisaw</th>\n",
       "      <th>bow</th>\n",
       "      <th>feast</th>\n",
       "      <th>grapes</th>\n",
       "      <th>his</th>\n",
       "      <th>how</th>\n",
       "      <th>last</th>\n",
       "      <th>learned</th>\n",
       "      <th>moveable</th>\n",
       "      <th>of</th>\n",
       "      <th>the</th>\n",
       "      <th>trick</th>\n",
       "      <th>watson</th>\n",
       "      <th>wrath</th>\n",
       "      <th>expert_rating</th>\n",
       "      <th>user_rating</th>\n",
       "    </tr>\n",
       "  </thead>\n",
       "  <tbody>\n",
       "    <tr>\n",
       "      <th>0</th>\n",
       "      <td>1.0</td>\n",
       "      <td>0.0</td>\n",
       "      <td>0.0</td>\n",
       "      <td>1.0</td>\n",
       "      <td>0.0</td>\n",
       "      <td>0.0</td>\n",
       "      <td>1.0</td>\n",
       "      <td>0.0</td>\n",
       "      <td>1.0</td>\n",
       "      <td>0.0</td>\n",
       "      <td>0.0</td>\n",
       "      <td>0.0</td>\n",
       "      <td>0.0</td>\n",
       "      <td>0.0</td>\n",
       "      <td>0.0</td>\n",
       "      <td>0.0</td>\n",
       "      <td>1.0</td>\n",
       "      <td>0.5</td>\n",
       "    </tr>\n",
       "    <tr>\n",
       "      <th>1</th>\n",
       "      <td>1.0</td>\n",
       "      <td>0.0</td>\n",
       "      <td>0.0</td>\n",
       "      <td>0.0</td>\n",
       "      <td>0.0</td>\n",
       "      <td>0.0</td>\n",
       "      <td>0.0</td>\n",
       "      <td>1.0</td>\n",
       "      <td>0.0</td>\n",
       "      <td>1.0</td>\n",
       "      <td>0.0</td>\n",
       "      <td>0.0</td>\n",
       "      <td>1.0</td>\n",
       "      <td>1.0</td>\n",
       "      <td>1.0</td>\n",
       "      <td>0.0</td>\n",
       "      <td>0.0</td>\n",
       "      <td>1.0</td>\n",
       "    </tr>\n",
       "    <tr>\n",
       "      <th>2</th>\n",
       "      <td>0.0</td>\n",
       "      <td>1.0</td>\n",
       "      <td>0.0</td>\n",
       "      <td>0.0</td>\n",
       "      <td>1.0</td>\n",
       "      <td>0.0</td>\n",
       "      <td>0.0</td>\n",
       "      <td>0.0</td>\n",
       "      <td>0.0</td>\n",
       "      <td>0.0</td>\n",
       "      <td>1.0</td>\n",
       "      <td>0.0</td>\n",
       "      <td>0.0</td>\n",
       "      <td>0.0</td>\n",
       "      <td>0.0</td>\n",
       "      <td>0.0</td>\n",
       "      <td>0.5</td>\n",
       "      <td>0.5</td>\n",
       "    </tr>\n",
       "    <tr>\n",
       "      <th>3</th>\n",
       "      <td>0.0</td>\n",
       "      <td>0.0</td>\n",
       "      <td>1.0</td>\n",
       "      <td>0.0</td>\n",
       "      <td>0.0</td>\n",
       "      <td>1.0</td>\n",
       "      <td>0.0</td>\n",
       "      <td>0.0</td>\n",
       "      <td>0.0</td>\n",
       "      <td>0.0</td>\n",
       "      <td>0.0</td>\n",
       "      <td>1.0</td>\n",
       "      <td>1.0</td>\n",
       "      <td>0.0</td>\n",
       "      <td>0.0</td>\n",
       "      <td>1.0</td>\n",
       "      <td>1.0</td>\n",
       "      <td>0.0</td>\n",
       "    </tr>\n",
       "  </tbody>\n",
       "</table>\n",
       "</div>"
      ],
      "text/plain": [
       "   ciudad_London  ciudad_Paris  ciudad_Sallisaw  bow  feast  grapes  his  how  \\\n",
       "0            1.0           0.0              0.0  1.0    0.0     0.0  1.0  0.0   \n",
       "1            1.0           0.0              0.0  0.0    0.0     0.0  0.0  1.0   \n",
       "2            0.0           1.0              0.0  0.0    1.0     0.0  0.0  0.0   \n",
       "3            0.0           0.0              1.0  0.0    0.0     1.0  0.0  0.0   \n",
       "\n",
       "   last  learned  moveable   of  the  trick  watson  wrath  expert_rating  \\\n",
       "0   1.0      0.0       0.0  0.0  0.0    0.0     0.0    0.0            1.0   \n",
       "1   0.0      1.0       0.0  0.0  1.0    1.0     1.0    0.0            0.0   \n",
       "2   0.0      0.0       1.0  0.0  0.0    0.0     0.0    0.0            0.5   \n",
       "3   0.0      0.0       0.0  1.0  1.0    0.0     0.0    1.0            1.0   \n",
       "\n",
       "   user_rating  \n",
       "0          0.5  \n",
       "1          1.0  \n",
       "2          0.5  \n",
       "3          0.0  "
      ]
     },
     "execution_count": 188,
     "metadata": {},
     "output_type": "execute_result"
    }
   ],
   "source": [
    "# També podem indicar en el transformador que aplique una escala a totes les dades,\n",
    "# per a que estiguen entre 0 i 1.\n",
    "\n",
    "from sklearn.compose import ColumnTransformer\n",
    "from sklearn.preprocessing import MinMaxScaler\n",
    "from sklearn.feature_extraction.text import CountVectorizer\n",
    "from sklearn.preprocessing import OneHotEncoder\n",
    "\n",
    "column_trans = ColumnTransformer(\n",
    "    [('cat_ciutat', OneHotEncoder(dtype='int'), ['ciudad']),\n",
    "     ('nou_titol', CountVectorizer(), 'titulo')],\n",
    "      remainder=MinMaxScaler(), verbose_feature_names_out=False)\n",
    "column_trans.fit(X)\n",
    "\n",
    "column_trans.get_feature_names_out()\n",
    "\n",
    "dd=column_trans.transform(X)\n",
    "print(dd)\n",
    "\n",
    "novesCol=column_trans.get_feature_names_out()\n",
    "dades=pd.DataFrame(column_trans.transform(X), columns=novesCol)\n",
    "dades\n"
   ]
  },
  {
   "cell_type": "markdown",
   "metadata": {},
   "source": [
    "# Discretització de variables\n",
    "\n",
    "Recordem que consisteix en la transformació d'una variable numèrica en categòrica, i que sol agrupar les dades en intervals.\n",
    "\n",
    "La compertimentació es pot fer bé amb *contenidors homogenis* o amb *contenidors no homogenis*.\n",
    "\n",
    "Com a exemple, anem a discretitzar el següent array d'edats:\n",
    "\n",
    "```py\n",
    "edats = np.array([1, 7, 8, 15, 16, 28, 35, 50, 55, 70, 75, 100])\n",
    "```"
   ]
  },
  {
   "cell_type": "markdown",
   "metadata": {},
   "source": [
    "## Contenidors homogenis"
   ]
  },
  {
   "cell_type": "code",
   "execution_count": 189,
   "metadata": {},
   "outputs": [
    {
     "name": "stdout",
     "output_type": "stream",
     "text": [
      "Dades categoritzades:  ['baixa', 'baixa', 'baixa', 'baixa', 'baixa', ..., 'mitja', 'mitja', 'alta', 'alta', 'alta']\n",
      "Length: 12\n",
      "Categories (3, object): ['baixa' < 'mitja' < 'alta'] \n",
      "\n",
      "Contenidors [  0.901  34.     67.    100.   ] \n",
      "\n",
      "Codis Associats\n",
      "\n",
      "[0 0 0 0 0 0 1 1 1 2 2 2] \n",
      "\n",
      " Categories creades\n",
      "Index(['baixa', 'mitja', 'alta'], dtype='object') \n",
      "\n",
      "Dades convertides\n",
      "['baixa' 'baixa' 'baixa' 'baixa' 'baixa' 'baixa' 'mitja' 'mitja' 'mitja'\n",
      " 'alta' 'alta' 'alta'] \n",
      "\n"
     ]
    }
   ],
   "source": [
    "# Importem les lliberies\n",
    "import numpy as np\n",
    "import pandas as pd\n",
    "\n",
    "# Definim el vector d'edats\n",
    "edats = np.array([1, 7, 8, 15, 16, 28, 35, 50, 55, 70, 75, 100])\n",
    "\n",
    "# Fem ús de cut per fer les particions\n",
    "\n",
    "resultat=pd.cut(edats,   # Proporcionem la matriu unidimensional d'entrada\n",
    "                bins=3,  # nombre de contenidors desitjats\n",
    "                labels=[\"baixa\", \"mitja\", \"alta\"], # Etiquetes, com que bins és 3, n'hem de posar 3\n",
    "                include_lowest=True, # Per a que incloga el valor més baixet\n",
    "                retbins=True # Indiquem que retorne els rangs utilitzats i la grandària dels contenidors\n",
    "                )\n",
    "\n",
    "# resultat és un vector de dos columnes, la primera les dades categoritzades, i la segona \n",
    "# les dades dels contenidors. Podem mostrar-ho amb:\n",
    "print(\"Dades categoritzades: \", resultat[0],\"\\n\")\n",
    "print(\"Contenidors\", resultat[1],\"\\n\")\n",
    "\n",
    "# Codis associats\n",
    "print(\"Codis Associats\\n\")\n",
    "print(resultat[0].codes, \"\\n\")\n",
    "\n",
    "# Categories\n",
    "print( \" Categories creades\")\n",
    "print(resultat[0].categories, \"\\n\")\n",
    "\n",
    "# Mostraem les dades convertides dins un array de numpy\n",
    "print( \"Dades convertides\")\n",
    "print(np.array(resultat[0]), \"\\n\")\n"
   ]
  },
  {
   "cell_type": "code",
   "execution_count": 190,
   "metadata": {},
   "outputs": [
    {
     "name": "stderr",
     "output_type": "stream",
     "text": [
      "/tmp/ipykernel_7905/276883711.py:2: FutureWarning: pandas.value_counts is deprecated and will be removed in a future version. Use pd.Series(obj).value_counts() instead.\n",
      "  pd.value_counts(dades)\n"
     ]
    },
    {
     "data": {
      "text/plain": [
       "baixa      6\n",
       "mitjana    3\n",
       "alta       3\n",
       "Name: count, dtype: int64"
      ]
     },
     "execution_count": 190,
     "metadata": {},
     "output_type": "execute_result"
    }
   ],
   "source": [
    "dades=pd.cut(edats,    bins=3,      labels=[\"baixa\",  \"mitjana\",  \"alta\"],  include_lowest=True)\n",
    "pd.value_counts(dades)"
   ]
  },
  {
   "cell_type": "markdown",
   "metadata": {},
   "source": [
    "## Contenidors no homogenis"
   ]
  },
  {
   "cell_type": "code",
   "execution_count": 191,
   "metadata": {},
   "outputs": [
    {
     "name": "stdout",
     "output_type": "stream",
     "text": [
      "Dades categoritzades:   ['xiquet', 'xiquet', 'xiquet', 'jove', 'jove', ..., 'adult', 'adult', 'major', 'major', 'major']\n",
      "Length: 12\n",
      "Categories (4, object): ['xiquet' < 'jove' < 'adult' < 'major'] \n",
      "\n",
      "Contenidors:   [ 0. 11. 17. 59. inf] \n",
      "\n",
      "  Codis  associats\n",
      "[0 0 0 1 1 2 2 2 2 3 3 3] \n",
      "\n",
      "  Categories  creades\n",
      "Index(['xiquet', 'jove', 'adult', 'major'], dtype='object') \n",
      "\n",
      "  Datos  convertidos\n",
      "['xiquet' 'xiquet' 'xiquet' 'jove' 'jove' 'adult' 'adult' 'adult' 'adult'\n",
      " 'major' 'major' 'major']\n"
     ]
    }
   ],
   "source": [
    "edats  =  np.array([1,  7,  8,  15,  16,  28,  35,  50,  55,  70,  75,  100])\n",
    "resultat  =  pd.cut(edats,\n",
    "                    bins=[0,  11,  17,  59,  np.inf],  #  Aci indiquem els rangs de cada contenidor\n",
    "                                                        # # np.inf representa al infinito positivo\n",
    "                    labels=[\"xiquet\",  \"jove\",  \"adult\",  \"major\"],\n",
    "                    include_lowest=True,\n",
    "                    retbins=True)\n",
    "\n",
    "# Obtenim un vector amb dues columes, la primera amb le dades categoritzades\n",
    "# i el segon amb un els rangs dels contenidors\n",
    "print(\"Dades categoritzades:  \",resultat[0],  \"\\n\")\n",
    "print(\"Contenidors:  \",resultat[1],  \"\\n\")\n",
    "\n",
    "#  Códigoss  associats\n",
    "print(\"  Codis  associats\")\n",
    "print(resultat[0].codes,  \"\\n\")\n",
    "#  Categorias\n",
    "print(  \"  Categories  creades\")\n",
    "print(resultat[0].categories,  \"\\n\")\n",
    "\n",
    "#  Mostrem les dades convertides dins un array de numpy \n",
    "print(\"  Datos  convertidos\")\n",
    "print(np.array(resultat[0]))"
   ]
  },
  {
   "cell_type": "code",
   "execution_count": 197,
   "metadata": {},
   "outputs": [
    {
     "data": {
      "text/plain": [
       "[xiquet, xiquet, xiquet, jove, jove, adult, adult, adult, adult, major, major, major]    1\n",
       "[0.0, 11.0, 17.0, 59.0, inf]                                                             1\n",
       "Name: count, dtype: int64"
      ]
     },
     "execution_count": 197,
     "metadata": {},
     "output_type": "execute_result"
    }
   ],
   "source": [
    "# Per saber el nombre d'elements en cada rang podem afegir retbins=false\n",
    "\n",
    "resultat2  =  pd.cut(edats, bins=[0,  11,  17,  59,  np.inf], labels=[\"xiquet\",  \"jove\",  \"adult\",  \"major\"], include_lowest=True, retbins=True)\n",
    "pd.Series.value_counts(pd.Series(resultat2)) # value_counts vol una sèrie"
   ]
  }
 ],
 "metadata": {
  "kernelspec": {
   "display_name": "venv",
   "language": "python",
   "name": "python3"
  },
  "language_info": {
   "codemirror_mode": {
    "name": "ipython",
    "version": 3
   },
   "file_extension": ".py",
   "mimetype": "text/x-python",
   "name": "python",
   "nbconvert_exporter": "python",
   "pygments_lexer": "ipython3",
   "version": "3.12.3"
  }
 },
 "nbformat": 4,
 "nbformat_minor": 2
}
